{
  "cells": [
    {
      "cell_type": "markdown",
      "metadata": {
        "id": "Lx9-Fre4FMda"
      },
      "source": [
        "# **Machine Learning on Big Data**\n",
        "\n",
        "\n",
        "\n",
        "---\n",
        "\n",
        "\n",
        "The University of New Brunswick created the dataset used for this assignment to analyse DDoS data.\n",
        "\n",
        "The size of the dataset is 341MB.\n",
        "\n",
        "For this assessment, I will use supervised learning, comparing the performance of three models. Because their accuracy is high without any need to tune them, I will tune one model to show the differences in what tuning does to a model.\n",
        "\n",
        "As an extra output with the aim of learning, I will compare and contrast the results obtained from supervised and unsupervised learning. This part is an extra part I include to observe how the different models behave using the same prepared dataset. Because the aim of doing this is observation, I will not try to improve the performance of the unsupervised learning models despite their unsatisfactory initial results.\n",
        "\n",
        "In supervised learning, I compare what happens when applying an algorithm to tune the model. In this case, I applied a Random Search algorithm. The results without applying Random Search to Logistic Regression were already entirely satisfactory. As expected, the results improved after applying it. For the easy visualisation of the comparison of the same model tuned and without being tuned, I have alternatively written the codes and results in the following order: First results of Logistic Regression without Random Search algorithm applied, followed by the results once Random Search has been applied.\n",
        "\n",
        "When comparing the three supervised models, I considered the results obtained from training the Logistic Regression Model without tuning it with the Random Search algorithm. None of the three supervised learning models have been tuned to execute the comparison between them. These models obtained great results without tuning them, so I used those results to compare the models' performance.\n",
        "\n",
        "Under supervised learning, I will analyse the detection of this data and use the classification model. I will use the Logistic Regression algorithm, Decision Tree Classifier algorithm and Random Forest Model algorithm and compare them. I intend to train the model to identify anomalous and normal traffic correctly. To do so, I will randomly divide the dataset into 70% for training and 30% for testing the model.\n",
        "\n",
        "\n",
        "For the purpose of observing how the same prepared dataset can be used with supervised and unsupervised learning models, I have also used two models to do unsupervised learning. Although clustering does not require a labelled dataset, to observe the differences between both training options (supervised and unsupervised), I have used the same dataset labelled and prepared for training used for supervised learning.\n",
        "\n",
        "Under unsupervised learning, I will use the K-means and Gaussian  Mixture models. Although the data is labelled, with these algorithms, it can be used. As a note, I acknowledge unsupervised learning works with unlabelled data.\n",
        "\n",
        "When using the K-means model, I compared the results using k=2 (because I know we have two classes, \"Label 0\" or \"benign traffic\" and \"Label 1\" or  \"attack traffic\") and using a \"k\" in the range of 2 to 10 to understand how the models work when not setting it to a specific '\"k\").\n",
        "For the Gaussian Mixture model, I have set \"k=2\" directly.\n",
        "\n",
        "The results obtained with the unsupervised models are not entirely satisfactory. Because the purpose of also doing unsupervised training is to observe how the models behave using the same labelled dataset, I have not attempeted to improve their performance.\n",
        "\n",
        "\n",
        "The results obtained  are the following:\n",
        "\n",
        "For Supervised Learning (classification):\n",
        "\n",
        "    -Logistic Regression:\n",
        "          Direct results without tuning:\n",
        "\t\t\t      Test Error = 0.000418804\n",
        "                 Precision by Label: 0.9995811956863155\n",
        "          Results tuning using Random Search:\n",
        "\t\t\t      Test Error = 0.000338988\n",
        "\t\t\t      The best maxIter value:  300\n",
        "                 The accuracy is :  0.9998855112420812\n",
        "\n",
        "    -Decision Tree Model:\n",
        "\t\t\t      Test Error = 3.18033e-06\n",
        "                  The accuracy is:  0.9999968196722354\n",
        "\n",
        "    -Random Forest Model:\n",
        "\t\t\t      Test Error = 9.54098e-06\n",
        "                  The accuracy is : 0.9999904590167062\n",
        "\n",
        "For Unsupervised Learning (clustering):\n",
        "\n",
        "    -K-Means:\n",
        "\t\t      k =2:\n",
        "\t\t\t      Silhouette Score for k=2 is  0.22525865486424074\n",
        "\t\t      k = range(2,10):\n",
        "\t\t\t      Silhouette Score for k = 2 is 0.22525865486424074\n",
        "                  Silhouette Score for k = 3 is 0.270845149179145\n",
        "                  Silhouette Score for k = 4 is 0.270845149179145\n",
        "                  Silhouette Score for k = 5 is 0.12892150029065824\n",
        "                  Silhouette Score for k = 6 is 0.16993820468157822\n",
        "                  Silhouette Score for k = 7 is 0.2694025705533454\n",
        "                  Silhouette Score for k = 8 is 0.24268574220303574\n",
        "                  Silhouette Score for k = 9 is 0.31762473224305615\n",
        "\n",
        "    -Gaussian Mixture:\n",
        "\t\t\t      Test Error = 0.738691\n",
        "                  Score: 0.2613086952272078\n",
        "\n",
        "The structure of this document is as follows:\n",
        "\n",
        "- Group ID: 5\n",
        "- Initiate and Configure Spark\n",
        "- Task 1 - Data Loading and Preprocessing\n",
        "     - MAPPING LABELS FOR OTHER FEATURES\n",
        "     - LINEAR SEPARABILITY ASSESSMENT\n",
        "     - VECTOR ASSEMBLER\n",
        "- Model Selection and Implementation\n",
        "  - SUPERVISED LEARNING\n",
        "    - LOGISTIC REGRESSION MODEL\n",
        "    - RANDOM FOREST MODEL\n",
        "    - DECISION TREE CLASSIFIER\n",
        " - UNSUPERVISED LEARNING\n",
        "    - K-MEANS\n",
        "    - GAUSSIAN MIXTURE\n",
        "- Task 3 - Model Parameter Tuning\n",
        "    - RANDOM SEARCH\n",
        "- Task 4 - Model Evaluation and Accuracy Calculation\n",
        " - SUPERVISED LEARNING\n",
        "    - LOGISTIC REGRESSION EVALUATION AND ACCURACY CALCULATION\n",
        "      - LOGISTIC REGRESSION WITH RANDOM SEARCH APPLIED\n",
        "      - LOGISTIC REGRESSION WITHOUT RANDOM SEARCH APPLIED\n",
        "    - RANDOM FOREST MODEL EVALUATION AND ACCURACY CALCULATION\n",
        "    - DECISION TREE CLASSIFIER EVALUATION AND ACCURACY CALCULATION\n",
        " - UNSUPERVISED LEARNING\n",
        "    - K-MEANS EVALUATION\n",
        "    - GAUSSIAN MIXTURE EVALUATION\n",
        "- Task 5 - Results Visualization or Printing\n",
        " - SUPERVISED LEARNING\n",
        "    - LOGISTIC REGRESSION VISUALISATION\n",
        "      - LOGISTIC REGRESSION WITH RANDOM SEARCH APPLIED\n",
        "      - LOGISTIC REGRESSION WITHOUT RANDOM SEARCH APPLIED\n",
        "    - RANDOM FOREST MODEL VISUALISATION\n",
        "    - DECISION TREE CLASSIFIER VISUALISATION\n",
        "  -SUPERVISED LEARNING MODELS COMPARISON VISUALISATION\n",
        "- UNSUPERVISED LEARNING\n",
        "    - K-MEANS VISUALISATION\n",
        "    - GAUSSIAN MIXTURE VISUALISATION\n",
        "- Task 6 - LSEP Considerations\n",
        "    -SECURITY AND SOCIAL\n",
        "- Task 7 - Convert ipynb to HTML\n"
      ]
    },
    {
      "cell_type": "markdown",
      "metadata": {
        "id": "GdMZR-9QTwG3"
      },
      "source": [
        "\n",
        "# **Initiate and Configure Spark**"
      ]
    },
    {
      "cell_type": "code",
      "execution_count": null,
      "metadata": {
        "colab": {
          "base_uri": "https://localhost:8080/"
        },
        "id": "_z0p88Xtw_3-",
        "outputId": "1fcaadc2-08bd-43b6-8c93-d053c59c415f"
      },
      "outputs": [
        {
          "output_type": "stream",
          "name": "stdout",
          "text": [
            "Collecting pyspark\n",
            "  Downloading pyspark-3.5.1.tar.gz (317.0 MB)\n",
            "\u001b[2K     \u001b[90m━━━━━━━━━━━━━━━━━━━━━━━━━━━━━━━━━━━━━━━━\u001b[0m \u001b[32m317.0/317.0 MB\u001b[0m \u001b[31m1.5 MB/s\u001b[0m eta \u001b[36m0:00:00\u001b[0m\n",
            "\u001b[?25h  Preparing metadata (setup.py) ... \u001b[?25l\u001b[?25hdone\n",
            "Requirement already satisfied: py4j==0.10.9.7 in /usr/local/lib/python3.10/dist-packages (from pyspark) (0.10.9.7)\n",
            "Building wheels for collected packages: pyspark\n",
            "  Building wheel for pyspark (setup.py) ... \u001b[?25l\u001b[?25hdone\n",
            "  Created wheel for pyspark: filename=pyspark-3.5.1-py2.py3-none-any.whl size=317488491 sha256=82defc2f7752e393733ff71d862dcde294cb8d05f678a70c76dddf6535dc82a9\n",
            "  Stored in directory: /root/.cache/pip/wheels/80/1d/60/2c256ed38dddce2fdd93be545214a63e02fbd8d74fb0b7f3a6\n",
            "Successfully built pyspark\n",
            "Installing collected packages: pyspark\n",
            "Successfully installed pyspark-3.5.1\n"
          ]
        }
      ],
      "source": [
        "# First I install Spark.\n",
        "!pip install pyspark\n"
      ]
    },
    {
      "cell_type": "markdown",
      "metadata": {
        "id": "0DClBrKO01XR"
      },
      "source": [
        "This code installs Pyspark into Phyton. That allows us to use Spark libraries in Phyton."
      ]
    },
    {
      "cell_type": "code",
      "execution_count": null,
      "metadata": {
        "id": "1-OrEu1pCeT0"
      },
      "outputs": [],
      "source": [
        "from pyspark import SparkContext, SparkConf, StorageLevel\n",
        "\n",
        "from pyspark.sql import SparkSession, functions as F, types as T\n",
        "from pyspark.sql.functions import  when, col, sum, avg, stddev, round, mean, skewness\n",
        "\n",
        "\n",
        "from pyspark.ml import Pipeline\n",
        "from pyspark.ml.classification import LogisticRegression, DecisionTreeClassifier, RandomForestClassifier\n",
        "from pyspark.ml.clustering import GaussianMixture, LDA\n",
        "from pyspark.ml.evaluation import BinaryClassificationEvaluator, MulticlassClassificationEvaluator\n",
        "from pyspark.ml.feature import StringIndexer, VectorAssembler, StandardScaler, MinMaxScaler, RobustScaler, VectorIndexer, IndexToString\n",
        "from pyspark.ml.tuning import ParamGridBuilder, CrossValidator, CrossValidatorModel\n",
        "\n",
        "\n",
        "from sklearn.ensemble import IsolationForest\n",
        "from sklearn.metrics import confusion_matrix, classification_report, accuracy_score\n",
        "from sklearn.neighbors import KNeighborsClassifier\n",
        "from sklearn.preprocessing import StandardScaler\n",
        "\n",
        "import pandas as pd\n",
        "import random\n",
        "\n",
        "import numpy as np\n",
        "from numpy.random import randint\n",
        "\n",
        "import matplotlib.pyplot as plt"
      ]
    },
    {
      "cell_type": "markdown",
      "metadata": {
        "id": "Vaf3JNUnup0R"
      },
      "source": [
        "In this step, the libraries used for training this model are imported. As a personal preference, I prefer to organise my libraries together in one block, which makes their visualisation easier. It is also possible to import the libraries in the same block used, with the coding requiring one specific library."
      ]
    },
    {
      "cell_type": "code",
      "execution_count": null,
      "metadata": {
        "id": "2uli9GL0Conc"
      },
      "outputs": [],
      "source": [
        "spark = SparkSession \\\n",
        "    .builder \\\n",
        "    .appName(\"Group5CRWK\") \\\n",
        "    .master(\"local[*]\")\\\n",
        "    .config(\"spark.sql.inMemoryColumnarStorage.compressed\", \"true\") \\\n",
        "    .getOrCreate()"
      ]
    },
    {
      "cell_type": "markdown",
      "metadata": {
        "id": "Uv9f_aGuuyPY"
      },
      "source": [
        "Creating my Spark Session. I determine its name, where it is located and its configuration."
      ]
    },
    {
      "cell_type": "markdown",
      "metadata": {
        "id": "wHft1Jht1Qxl"
      },
      "source": [
        "---\n",
        "# **Task 1 - Data Loading and Preprocessing (15 marks)**\n",
        "---"
      ]
    },
    {
      "cell_type": "code",
      "execution_count": null,
      "metadata": {
        "id": "OcZfiIcq1Qxn"
      },
      "outputs": [],
      "source": [
        "##AZAHARA DORADO LAGUNA:\n",
        "# Importing the dataset.\n",
        "Group5_df = spark.read.csv(\"/content/02-14-2018.csv\",inferSchema=True,header=True)"
      ]
    },
    {
      "cell_type": "markdown",
      "metadata": {
        "id": "FijrVlr1u8oy"
      },
      "source": [
        "\n",
        "\n",
        "Once the Spark session is created and configurated and the libraries needed for training this model imported (this is optional, it can be done while training the model), I download my dataset. The dataset I am using for training this model is \"02-14-2018.csv\".\n",
        "\n",
        "The University of New Brunswick created the dataset used for this assignment to analyse DDoS data.\n",
        "\n",
        "The size of the dataset is 341MB.\n",
        "\n",
        "My objective is to train my model to accurately predict traffic attacks.\n",
        "\n",
        "I will compare results using supervised and unsupervised learning to determine what type of learning works better for this dataset (considering I am using a labelled dataset).\n",
        "\n",
        "In supervised learning I will do classification. There are three models I will use:\n",
        "\n",
        "    -Logistic Regression.\n",
        "    -Decision tree classifier.\n",
        "    -Random Forest.\n",
        "\n",
        "I will then compare the performance of these two models to determine which model performs better for this dataset.\n",
        "\n",
        "In unsupervise learning I will do clustering. There are two models I will use:\n",
        "\n",
        "    -K-means.\n",
        "    -Gaussian Mixture.\n",
        "\n",
        "I will then compare the performance of these two models to determine which model performs better for this dataset.\n"
      ]
    },
    {
      "cell_type": "code",
      "execution_count": null,
      "metadata": {
        "colab": {
          "base_uri": "https://localhost:8080/"
        },
        "id": "ch8RydQ2DF7y",
        "outputId": "a2b3e28a-aeb5-406c-e491-3211946aa872"
      },
      "outputs": [
        {
          "output_type": "stream",
          "name": "stdout",
          "text": [
            "root\n",
            " |-- Dst Port: integer (nullable = true)\n",
            " |-- Protocol: integer (nullable = true)\n",
            " |-- Timestamp: string (nullable = true)\n",
            " |-- Flow Duration: long (nullable = true)\n",
            " |-- Tot Fwd Pkts: integer (nullable = true)\n",
            " |-- Tot Bwd Pkts: integer (nullable = true)\n",
            " |-- TotLen Fwd Pkts: integer (nullable = true)\n",
            " |-- TotLen Bwd Pkts: integer (nullable = true)\n",
            " |-- Fwd Pkt Len Max: integer (nullable = true)\n",
            " |-- Fwd Pkt Len Min: integer (nullable = true)\n",
            " |-- Fwd Pkt Len Mean: double (nullable = true)\n",
            " |-- Fwd Pkt Len Std: double (nullable = true)\n",
            " |-- Bwd Pkt Len Max: integer (nullable = true)\n",
            " |-- Bwd Pkt Len Min: integer (nullable = true)\n",
            " |-- Bwd Pkt Len Mean: double (nullable = true)\n",
            " |-- Bwd Pkt Len Std: double (nullable = true)\n",
            " |-- Flow Byts/s: double (nullable = true)\n",
            " |-- Flow Pkts/s: double (nullable = true)\n",
            " |-- Flow IAT Mean: double (nullable = true)\n",
            " |-- Flow IAT Std: double (nullable = true)\n",
            " |-- Flow IAT Max: long (nullable = true)\n",
            " |-- Flow IAT Min: long (nullable = true)\n",
            " |-- Fwd IAT Tot: long (nullable = true)\n",
            " |-- Fwd IAT Mean: double (nullable = true)\n",
            " |-- Fwd IAT Std: double (nullable = true)\n",
            " |-- Fwd IAT Max: long (nullable = true)\n",
            " |-- Fwd IAT Min: long (nullable = true)\n",
            " |-- Bwd IAT Tot: integer (nullable = true)\n",
            " |-- Bwd IAT Mean: double (nullable = true)\n",
            " |-- Bwd IAT Std: double (nullable = true)\n",
            " |-- Bwd IAT Max: integer (nullable = true)\n",
            " |-- Bwd IAT Min: integer (nullable = true)\n",
            " |-- Fwd PSH Flags: integer (nullable = true)\n",
            " |-- Bwd PSH Flags: integer (nullable = true)\n",
            " |-- Fwd URG Flags: integer (nullable = true)\n",
            " |-- Bwd URG Flags: integer (nullable = true)\n",
            " |-- Fwd Header Len: integer (nullable = true)\n",
            " |-- Bwd Header Len: integer (nullable = true)\n",
            " |-- Fwd Pkts/s: double (nullable = true)\n",
            " |-- Bwd Pkts/s: double (nullable = true)\n",
            " |-- Pkt Len Min: integer (nullable = true)\n",
            " |-- Pkt Len Max: integer (nullable = true)\n",
            " |-- Pkt Len Mean: double (nullable = true)\n",
            " |-- Pkt Len Std: double (nullable = true)\n",
            " |-- Pkt Len Var: double (nullable = true)\n",
            " |-- FIN Flag Cnt: integer (nullable = true)\n",
            " |-- SYN Flag Cnt: integer (nullable = true)\n",
            " |-- RST Flag Cnt: integer (nullable = true)\n",
            " |-- PSH Flag Cnt: integer (nullable = true)\n",
            " |-- ACK Flag Cnt: integer (nullable = true)\n",
            " |-- URG Flag Cnt: integer (nullable = true)\n",
            " |-- CWE Flag Count: integer (nullable = true)\n",
            " |-- ECE Flag Cnt: integer (nullable = true)\n",
            " |-- Down/Up Ratio: integer (nullable = true)\n",
            " |-- Pkt Size Avg: double (nullable = true)\n",
            " |-- Fwd Seg Size Avg: double (nullable = true)\n",
            " |-- Bwd Seg Size Avg: double (nullable = true)\n",
            " |-- Fwd Byts/b Avg: integer (nullable = true)\n",
            " |-- Fwd Pkts/b Avg: integer (nullable = true)\n",
            " |-- Fwd Blk Rate Avg: integer (nullable = true)\n",
            " |-- Bwd Byts/b Avg: integer (nullable = true)\n",
            " |-- Bwd Pkts/b Avg: integer (nullable = true)\n",
            " |-- Bwd Blk Rate Avg: integer (nullable = true)\n",
            " |-- Subflow Fwd Pkts: integer (nullable = true)\n",
            " |-- Subflow Fwd Byts: integer (nullable = true)\n",
            " |-- Subflow Bwd Pkts: integer (nullable = true)\n",
            " |-- Subflow Bwd Byts: integer (nullable = true)\n",
            " |-- Init Fwd Win Byts: integer (nullable = true)\n",
            " |-- Init Bwd Win Byts: integer (nullable = true)\n",
            " |-- Fwd Act Data Pkts: integer (nullable = true)\n",
            " |-- Fwd Seg Size Min: integer (nullable = true)\n",
            " |-- Active Mean: double (nullable = true)\n",
            " |-- Active Std: double (nullable = true)\n",
            " |-- Active Max: integer (nullable = true)\n",
            " |-- Active Min: integer (nullable = true)\n",
            " |-- Idle Mean: double (nullable = true)\n",
            " |-- Idle Std: double (nullable = true)\n",
            " |-- Idle Max: long (nullable = true)\n",
            " |-- Idle Min: long (nullable = true)\n",
            " |-- Label: string (nullable = true)\n",
            "\n"
          ]
        }
      ],
      "source": [
        "# Exploring the dataset: number or columns and data type.\n",
        "Group5_df.printSchema()"
      ]
    },
    {
      "cell_type": "markdown",
      "metadata": {
        "id": "MqNcflKoxW1B"
      },
      "source": [
        "Printing the schema allows to see how many columns has the dataset and the type of data in each column."
      ]
    },
    {
      "cell_type": "code",
      "execution_count": null,
      "metadata": {
        "colab": {
          "base_uri": "https://localhost:8080/"
        },
        "id": "SshMsSe1DIEM",
        "outputId": "98aa183d-8193-4198-dbc3-3c517e520a7e"
      },
      "outputs": [
        {
          "output_type": "stream",
          "name": "stdout",
          "text": [
            "+--------+--------+-------------------+-------------+------------+------------+---------------+---------------+---------------+---------------+----------------+---------------+---------------+---------------+----------------+---------------+--------------+------------+----------------+----------------+------------+------------+-----------+----------------+----------------+-----------+-----------+-----------+----------------+----------------+-----------+-----------+-------------+-------------+-------------+-------------+--------------+--------------+------------+------------+-----------+-----------+--------------+--------------+----------------+------------+------------+------------+------------+------------+------------+--------------+------------+-------------+------------+----------------+----------------+--------------+--------------+----------------+--------------+--------------+----------------+----------------+----------------+----------------+----------------+-----------------+-----------------+-----------------+----------------+-----------+----------+----------+----------+------------+--------------+--------+--------+------+\n",
            "|Dst Port|Protocol|Timestamp          |Flow Duration|Tot Fwd Pkts|Tot Bwd Pkts|TotLen Fwd Pkts|TotLen Bwd Pkts|Fwd Pkt Len Max|Fwd Pkt Len Min|Fwd Pkt Len Mean|Fwd Pkt Len Std|Bwd Pkt Len Max|Bwd Pkt Len Min|Bwd Pkt Len Mean|Bwd Pkt Len Std|Flow Byts/s   |Flow Pkts/s |Flow IAT Mean   |Flow IAT Std    |Flow IAT Max|Flow IAT Min|Fwd IAT Tot|Fwd IAT Mean    |Fwd IAT Std     |Fwd IAT Max|Fwd IAT Min|Bwd IAT Tot|Bwd IAT Mean    |Bwd IAT Std     |Bwd IAT Max|Bwd IAT Min|Fwd PSH Flags|Bwd PSH Flags|Fwd URG Flags|Bwd URG Flags|Fwd Header Len|Bwd Header Len|Fwd Pkts/s  |Bwd Pkts/s  |Pkt Len Min|Pkt Len Max|Pkt Len Mean  |Pkt Len Std   |Pkt Len Var     |FIN Flag Cnt|SYN Flag Cnt|RST Flag Cnt|PSH Flag Cnt|ACK Flag Cnt|URG Flag Cnt|CWE Flag Count|ECE Flag Cnt|Down/Up Ratio|Pkt Size Avg|Fwd Seg Size Avg|Bwd Seg Size Avg|Fwd Byts/b Avg|Fwd Pkts/b Avg|Fwd Blk Rate Avg|Bwd Byts/b Avg|Bwd Pkts/b Avg|Bwd Blk Rate Avg|Subflow Fwd Pkts|Subflow Fwd Byts|Subflow Bwd Pkts|Subflow Bwd Byts|Init Fwd Win Byts|Init Bwd Win Byts|Fwd Act Data Pkts|Fwd Seg Size Min|Active Mean|Active Std|Active Max|Active Min|Idle Mean   |Idle Std      |Idle Max|Idle Min|Label |\n",
            "+--------+--------+-------------------+-------------+------------+------------+---------------+---------------+---------------+---------------+----------------+---------------+---------------+---------------+----------------+---------------+--------------+------------+----------------+----------------+------------+------------+-----------+----------------+----------------+-----------+-----------+-----------+----------------+----------------+-----------+-----------+-------------+-------------+-------------+-------------+--------------+--------------+------------+------------+-----------+-----------+--------------+--------------+----------------+------------+------------+------------+------------+------------+------------+--------------+------------+-------------+------------+----------------+----------------+--------------+--------------+----------------+--------------+--------------+----------------+----------------+----------------+----------------+----------------+-----------------+-----------------+-----------------+----------------+-----------+----------+----------+----------+------------+--------------+--------+--------+------+\n",
            "|0       |0       |14/02/2018 08:31:01|112641719    |3           |0           |0              |0              |0              |0              |0.0             |0.0            |0              |0              |0.0             |0.0            |0.0           |0.0266331163|5.63208595E7    |139.3000358938  |56320958    |56320761    |112641719  |5.63208595E7    |139.3000358938  |56320958   |56320761   |0          |0.0             |0.0             |0          |0          |0            |0            |0            |0            |0             |0             |0.0266331163|0.0         |0          |0          |0.0           |0.0           |0.0             |0           |0           |0           |0           |0           |0           |0             |0           |0            |0.0         |0.0             |0.0             |0             |0             |0               |0             |0             |0               |3               |0               |0               |0               |-1               |-1               |0                |0               |0.0        |0.0       |0         |0         |5.63208595E7|139.3000358938|56320958|56320761|Benign|\n",
            "|0       |0       |14/02/2018 08:33:50|112641466    |3           |0           |0              |0              |0              |0              |0.0             |0.0            |0              |0              |0.0             |0.0            |0.0           |0.0266331761|5.6320733E7     |114.5512985522  |56320814    |56320652    |112641466  |5.6320733E7     |114.5512985522  |56320814   |56320652   |0          |0.0             |0.0             |0          |0          |0            |0            |0            |0            |0             |0             |0.0266331761|0.0         |0          |0          |0.0           |0.0           |0.0             |0           |0           |0           |0           |0           |0           |0             |0           |0            |0.0         |0.0             |0.0             |0             |0             |0               |0             |0             |0               |3               |0               |0               |0               |-1               |-1               |0                |0               |0.0        |0.0       |0         |0         |5.6320733E7 |114.5512985522|56320814|56320652|Benign|\n",
            "|0       |0       |14/02/2018 08:36:39|112638623    |3           |0           |0              |0              |0              |0              |0.0             |0.0            |0              |0              |0.0             |0.0            |0.0           |0.0266338483|5.63193115E7    |301.9345955667  |56319525    |56319098    |112638623  |5.63193115E7    |301.9345955667  |56319525   |56319098   |0          |0.0             |0.0             |0          |0          |0            |0            |0            |0            |0             |0             |0.0266338483|0.0         |0          |0          |0.0           |0.0           |0.0             |0           |0           |0           |0           |0           |0           |0             |0           |0            |0.0         |0.0             |0.0             |0             |0             |0               |0             |0             |0               |3               |0               |0               |0               |-1               |-1               |0                |0               |0.0        |0.0       |0         |0         |5.63193115E7|301.9345955667|56319525|56319098|Benign|\n",
            "|22      |6       |14/02/2018 08:40:13|6453966      |15          |10          |1239           |2273           |744            |0              |82.6            |196.7412368715 |976            |0              |227.3           |371.6778922072 |544.1615279659|3.8735871865|268915.25       |247443.778966007|673900      |22          |6453966    |460997.571428571|123109.423587757|673900     |229740     |5637902    |626433.555555556|455082.21422401 |1167293    |554        |0            |0            |0            |0            |488           |328           |2.3241523119|1.5494348746|0          |976        |135.0769230769|277.8347599674|77192.1538461539|0           |0           |0           |1           |0           |0           |0             |0           |0            |140.48      |82.6            |227.3           |0             |0             |0               |0             |0             |0               |15              |1239            |10              |2273            |65535            |233              |6                |32              |0.0        |0.0       |0         |0         |0.0         |0.0           |0       |0       |Benign|\n",
            "|22      |6       |14/02/2018 08:40:23|8804066      |14          |11          |1143           |2209           |744            |0              |81.6428571429   |203.7455453568 |976            |0              |200.8181818182  |362.2498635422 |380.7331748762|2.839597068 |366836.083333333|511356.609732762|1928102     |21          |8804066    |677235.846153846|532416.970958985|1928102    |246924     |7715481    |771548.1        |755543.082716951|2174893    |90         |0            |0            |0            |0            |456           |360           |1.5901743581|1.2494227099|0          |976        |128.9230769231|279.7630315931|78267.3538461539|0           |0           |0           |1           |0           |0           |0             |0           |0            |134.08      |81.6428571429   |200.8181818182  |0             |0             |0               |0             |0             |0               |14              |1143            |11              |2209            |5808             |233              |6                |32              |0.0        |0.0       |0         |0         |0.0         |0.0           |0       |0       |Benign|\n",
            "+--------+--------+-------------------+-------------+------------+------------+---------------+---------------+---------------+---------------+----------------+---------------+---------------+---------------+----------------+---------------+--------------+------------+----------------+----------------+------------+------------+-----------+----------------+----------------+-----------+-----------+-----------+----------------+----------------+-----------+-----------+-------------+-------------+-------------+-------------+--------------+--------------+------------+------------+-----------+-----------+--------------+--------------+----------------+------------+------------+------------+------------+------------+------------+--------------+------------+-------------+------------+----------------+----------------+--------------+--------------+----------------+--------------+--------------+----------------+----------------+----------------+----------------+----------------+-----------------+-----------------+-----------------+----------------+-----------+----------+----------+----------+------------+--------------+--------+--------+------+\n",
            "only showing top 5 rows\n",
            "\n"
          ]
        }
      ],
      "source": [
        "# I have decided to see 15 entries to see data labelled both ways.\n",
        "Group5_df.show(5, False)"
      ]
    },
    {
      "cell_type": "markdown",
      "metadata": {
        "id": "XpbPRAL9xa3X"
      },
      "source": [
        "Calling \"show\" allows to visualize the data of each column. It can be specified how many rows to visualise. In this ocassion I have requested to show me 15 rows of data only. This visualisation allows us to see the dataset's type of integers, double and strings. At this point I have decided that I will use \"Label\" to train my model. I want to see how many different labels I have from my data and determine if my model can predict accurately the label depending on the other features (variables) available in this dataset. I could also choose a different variable, for instance the \"Timestamp\", to determine the frequency of the attacks and which days I would likely get that type of traffic."
      ]
    },
    {
      "cell_type": "code",
      "execution_count": null,
      "metadata": {
        "colab": {
          "base_uri": "https://localhost:8080/"
        },
        "id": "MLsX1r1JDIxg",
        "outputId": "8d2149bf-d8d1-416d-b15b-c94bad5bae37"
      },
      "outputs": [
        {
          "output_type": "stream",
          "name": "stdout",
          "text": [
            "1048575\n",
            "3\n"
          ]
        }
      ],
      "source": [
        "print(Group5_df.count())\n",
        "print(Group5_df.rdd.getNumPartitions())"
      ]
    },
    {
      "cell_type": "markdown",
      "metadata": {
        "id": "zCLNgDbxxebs"
      },
      "source": [
        "In this part I am checking how many divisions the dataset I am working have and the total number of values. It indicates I have 1048575 records in this dataset, divided into 3 parts.\n",
        "\n",
        "This information is significant: I have a total of 1048575 data inputs. These data inputs are efficiently distributed into 3 resilient distributed datasets (RDDs), which can be operated in parallel. This distribution allows me to work with the data more quickly, as the RDDs handle smaller portions of the data."
      ]
    },
    {
      "cell_type": "code",
      "execution_count": null,
      "metadata": {
        "colab": {
          "base_uri": "https://localhost:8080/"
        },
        "id": "HoZpte68DLOi",
        "outputId": "a3e7c33b-d55b-4d1e-cf61-b9c568597399"
      },
      "outputs": [
        {
          "output_type": "stream",
          "name": "stdout",
          "text": [
            "Group 5 dataframe record count:  1048575\n",
            "CPU times: user 9.27 ms, sys: 844 µs, total: 10.1 ms\n",
            "Wall time: 1.54 s\n"
          ]
        }
      ],
      "source": [
        "# Calculate the time it takes to process the data.\n",
        "%%time\n",
        "print(\"Group 5 dataframe record count: \" , Group5_df.count())"
      ]
    },
    {
      "cell_type": "markdown",
      "metadata": {
        "id": "7Rzp9LnIxgvU"
      },
      "source": [
        "With the code \"%%time\", I calculate the time it takes to my operational system to process the data from the dataset."
      ]
    },
    {
      "cell_type": "code",
      "execution_count": null,
      "metadata": {
        "colab": {
          "base_uri": "https://localhost:8080/"
        },
        "id": "ZXJRKt7PDNhs",
        "outputId": "8a1861e2-66c8-4b1e-d460-f2da2587f61d"
      },
      "outputs": [
        {
          "output_type": "stream",
          "name": "stdout",
          "text": [
            "Group 5 dataframe record count:  1048575\n",
            "CPU times: user 9.78 ms, sys: 2.13 ms, total: 11.9 ms\n",
            "Wall time: 1.25 s\n"
          ]
        }
      ],
      "source": [
        "# Reducing the time it takes to process the data.\n",
        "%%time\n",
        "Group5_df.persist(StorageLevel.MEMORY_AND_DISK)\n",
        "print(\"Group 5 dataframe record count: \" , Group5_df.count())"
      ]
    },
    {
      "cell_type": "markdown",
      "metadata": {
        "id": "HabxF5BSxjd_"
      },
      "source": [
        "I save the data in my memory and disk to reduce the time processing data from the dataset."
      ]
    },
    {
      "cell_type": "code",
      "execution_count": null,
      "metadata": {
        "colab": {
          "base_uri": "https://localhost:8080/"
        },
        "id": "kAPEynSlDVPs",
        "outputId": "8cf5bda5-1693-4410-b0eb-0292470d824e"
      },
      "outputs": [
        {
          "output_type": "stream",
          "name": "stdout",
          "text": [
            "+--------------+\n",
            "|         Label|\n",
            "+--------------+\n",
            "|SSH-Bruteforce|\n",
            "|        Benign|\n",
            "|FTP-BruteForce|\n",
            "+--------------+\n",
            "\n"
          ]
        }
      ],
      "source": [
        "# Check the Multi-class labels (Multi-label classification).\n",
        "# I want to determine how many different labels I have in my dataset.\n",
        "Group5_df.select(\"Label\").distinct().show(5)"
      ]
    },
    {
      "cell_type": "markdown",
      "metadata": {
        "id": "Tmcj6-psxmXd"
      },
      "source": [
        "I decided before I will consider \"Label\" as my main information to train my model. I would like my model to understand when a traffic can be classified as \"benign\" or \"attack\". My dataset has the data categorised as \"Benign\", \"SSH-Bruteforce\", \"FTP-BruteForce\". I will put together \"SSH-Bruteforce\" and \"FTP-BruteForce\" as \"attack traffic\" and \"Benign\" as a \"good traffic\". I want to train my model to correctly differenciate both types of traffic. At the moment the variable is in the string format and for training the model, first I need to convert the string variable in indexes."
      ]
    },
    {
      "cell_type": "code",
      "execution_count": null,
      "metadata": {
        "colab": {
          "base_uri": "https://localhost:8080/"
        },
        "id": "-w6SikXGDXhi",
        "outputId": "868ed278-cff9-407c-dbd2-fffc747ff666"
      },
      "outputs": [
        {
          "output_type": "stream",
          "name": "stdout",
          "text": [
            "+--------------+------+\n",
            "|         Label| count|\n",
            "+--------------+------+\n",
            "|        Benign|667626|\n",
            "|FTP-BruteForce|193360|\n",
            "|SSH-Bruteforce|187589|\n",
            "+--------------+------+\n",
            "\n"
          ]
        }
      ],
      "source": [
        "# Count the labels of my dataset.\n",
        "Group5_df.groupBy(\"Label\").count().orderBy('count', ascending = False).show()"
      ]
    },
    {
      "cell_type": "markdown",
      "metadata": {
        "id": "UmW88mH_x4Yo"
      },
      "source": [
        "Counting the labels of the dataset allows me to better understand the distribution of the labels on the dataset: If the dataset is balanced or unbalanced. It also shows me how many labels I have in this dataset and how many values I have in each. I have three labels: Benign, FTP-BruteForce and SSH-Bruteforce."
      ]
    },
    {
      "cell_type": "code",
      "execution_count": null,
      "metadata": {
        "colab": {
          "base_uri": "https://localhost:8080/"
        },
        "id": "r3IkutoUDaU9",
        "outputId": "e04900d1-0231-4c04-b79f-31ee47e3b3de"
      },
      "outputs": [
        {
          "output_type": "stream",
          "name": "stdout",
          "text": [
            "+------+\n",
            "|LabelT|\n",
            "+------+\n",
            "|     1|\n",
            "|     0|\n",
            "+------+\n",
            "\n",
            "+------+------+\n",
            "|LabelT| count|\n",
            "+------+------+\n",
            "|     0|667626|\n",
            "|     1|380949|\n",
            "+------+------+\n",
            "\n"
          ]
        }
      ],
      "source": [
        "# \"Benign\" is the good traffic and I am dividing my data in two types of traffic: \"Good traffic\" and \"attack traffic\".\n",
        "# Results: Benign = 0, FTP-BruteForce and SSH-Bruteforce = 1.\n",
        "Group5_df = Group5_df.withColumn(\"LabelT\", when(Group5_df[\"Label\"]!= \"Benign\", 1).otherwise(0))\n",
        "Group5_df.select(\"LabelT\").distinct().show(5) # This is to check I have binary classification\n",
        "Group5_df.groupBy(\"LabelT\").count().orderBy('count', ascending = False).show()"
      ]
    },
    {
      "cell_type": "markdown",
      "metadata": {
        "id": "xZ7BEHkfx5cU"
      },
      "source": [
        "I have decided to group the labels in \"good traffic\" (or \"Benign\" which is \"0\") and \"attack traffic\" (composed by FTP-BruteForce and SSH-Bruteforce, which is \"1\"). I count both labels again to understand how many values I have in each of them."
      ]
    },
    {
      "cell_type": "code",
      "execution_count": null,
      "metadata": {
        "colab": {
          "base_uri": "https://localhost:8080/"
        },
        "id": "EPlOHvCjzEUf",
        "outputId": "05f4927d-3579-496e-e3dd-e221fe2d152e"
      },
      "outputs": [
        {
          "output_type": "stream",
          "name": "stdout",
          "text": [
            "Percentage_0 is:  63.66983763679279\n",
            "Percentage_1 is:  36.33016236320721\n"
          ]
        }
      ],
      "source": [
        "# Calculating the percentage of each class in the dataset.\n",
        "percentage_0 = (667626 / 1048575)* 100\n",
        "print(\"Percentage_0 is: \", percentage_0)\n",
        "\n",
        "percentage_1 = (380949 / 1048575)* 100\n",
        "print(\"Percentage_1 is: \", percentage_1)"
      ]
    },
    {
      "cell_type": "markdown",
      "metadata": {
        "id": "xd3NCTCzzHOH"
      },
      "source": [
        "This code helps to determine the percentage of each class/label in the dataset. It helps me to understand if the dataset is balanced and if it is unbalanced. If it is unbalanced, to determine the level of unbalance (minor, average or severe).\n",
        "\n",
        "This dataset seems slightly unbalanced: 63% of \"benign traffic\" and 37% of \"attack traffic\". In the case of DDos data, it is considered normal that the 'benign' traffic would be more frequent than the \"attack traffic\". That is why I would not try balance the dataset."
      ]
    },
    {
      "cell_type": "markdown",
      "metadata": {
        "id": "qebJ7_XgDhh3"
      },
      "source": [
        "MAPPING LABELS FOR OTHER FEATURES"
      ]
    },
    {
      "cell_type": "code",
      "execution_count": null,
      "metadata": {
        "id": "MHZjfrc8DgEs"
      },
      "outputs": [],
      "source": [
        "# Map labels into indexes.\n",
        "# Change columns with categorical values into indexes values: 'Timestamp' is the only column with strings.\n",
        "# I don't change 'Label' because I don't need it as I created 'LabelT'.\n",
        "indexer = StringIndexer(inputCol = \"Timestamp\", outputCol = \"Timestamp_ix\")\n",
        "Group5_df = indexer.fit(Group5_df).transform(Group5_df)"
      ]
    },
    {
      "cell_type": "markdown",
      "metadata": {
        "id": "QhxGKGhpz3H6"
      },
      "source": [
        "This code \"indexer\" allows me to transform the type of data the column \"Timestamp\" has.\n",
        "\n",
        "From a string I get an integer data in this column.\n",
        "\n",
        "I create a new column, \"Timestamp_ix\", with the data from the column \"Timestamp\" but now in integers.\n",
        "\n",
        "This step is not necessary as the \"Timestamp\" data is not a variable to take into consideration to determine how accurate the model can predict the type of traffic, but I aimed to show how the indexer worked in this dataset.\n",
        "\n",
        "\"Timestamp\" would have been an important value if I wanted to determnine the days or times when the \"attack traffic\" was more frequent, for instance.\n",
        "\n",
        "This step is not necessary for the purpose of training the model to determine the appropriate label of the traffic, but I have included it only to show how \"indexer\" code works."
      ]
    },
    {
      "cell_type": "code",
      "execution_count": null,
      "metadata": {
        "colab": {
          "base_uri": "https://localhost:8080/"
        },
        "id": "Bkin4aUsDoPD",
        "outputId": "a8fffc2b-313c-4763-e094-24a17b9a4144"
      },
      "outputs": [
        {
          "output_type": "stream",
          "name": "stdout",
          "text": [
            "+------------+-----+\n",
            "|Timestamp_ix|count|\n",
            "+------------+-----+\n",
            "|         0.0|  292|\n",
            "|         1.0|  265|\n",
            "|         2.0|  261|\n",
            "|         3.0|  260|\n",
            "|         4.0|  254|\n",
            "+------------+-----+\n",
            "only showing top 5 rows\n",
            "\n"
          ]
        }
      ],
      "source": [
        "Group5_df.groupBy(\"Timestamp_ix\").count().orderBy(\"count\", ascending = False).show(5)"
      ]
    },
    {
      "cell_type": "markdown",
      "metadata": {
        "id": "X7zg0c960Enb"
      },
      "source": [
        "This code allows me to visaluze the values in the newly created column \"Timestamp_ix\"  in descending order starting by the one with more repetitions, and the index of each value."
      ]
    },
    {
      "cell_type": "code",
      "execution_count": null,
      "metadata": {
        "colab": {
          "base_uri": "https://localhost:8080/"
        },
        "id": "sqBTGR7YDqIr",
        "outputId": "1a2f7c72-04c9-41dd-a2a8-460494ee0684"
      },
      "outputs": [
        {
          "output_type": "stream",
          "name": "stdout",
          "text": [
            "+--------+--------+-------------------+-------------+------------+------------+---------------+---------------+---------------+---------------+----------------+---------------+---------------+---------------+----------------+---------------+--------------+------------+----------------+----------------+------------+------------+-----------+----------------+----------------+-----------+-----------+-----------+----------------+----------------+-----------+-----------+-------------+-------------+-------------+-------------+--------------+--------------+------------+------------+-----------+-----------+--------------+--------------+----------------+------------+------------+------------+------------+------------+------------+--------------+------------+-------------+------------+----------------+----------------+--------------+--------------+----------------+--------------+--------------+----------------+----------------+----------------+----------------+----------------+-----------------+-----------------+-----------------+----------------+-----------+----------+----------+----------+------------+--------------+--------+--------+------+------+------------+\n",
            "|Dst Port|Protocol|          Timestamp|Flow Duration|Tot Fwd Pkts|Tot Bwd Pkts|TotLen Fwd Pkts|TotLen Bwd Pkts|Fwd Pkt Len Max|Fwd Pkt Len Min|Fwd Pkt Len Mean|Fwd Pkt Len Std|Bwd Pkt Len Max|Bwd Pkt Len Min|Bwd Pkt Len Mean|Bwd Pkt Len Std|   Flow Byts/s| Flow Pkts/s|   Flow IAT Mean|    Flow IAT Std|Flow IAT Max|Flow IAT Min|Fwd IAT Tot|    Fwd IAT Mean|     Fwd IAT Std|Fwd IAT Max|Fwd IAT Min|Bwd IAT Tot|    Bwd IAT Mean|     Bwd IAT Std|Bwd IAT Max|Bwd IAT Min|Fwd PSH Flags|Bwd PSH Flags|Fwd URG Flags|Bwd URG Flags|Fwd Header Len|Bwd Header Len|  Fwd Pkts/s|  Bwd Pkts/s|Pkt Len Min|Pkt Len Max|  Pkt Len Mean|   Pkt Len Std|     Pkt Len Var|FIN Flag Cnt|SYN Flag Cnt|RST Flag Cnt|PSH Flag Cnt|ACK Flag Cnt|URG Flag Cnt|CWE Flag Count|ECE Flag Cnt|Down/Up Ratio|Pkt Size Avg|Fwd Seg Size Avg|Bwd Seg Size Avg|Fwd Byts/b Avg|Fwd Pkts/b Avg|Fwd Blk Rate Avg|Bwd Byts/b Avg|Bwd Pkts/b Avg|Bwd Blk Rate Avg|Subflow Fwd Pkts|Subflow Fwd Byts|Subflow Bwd Pkts|Subflow Bwd Byts|Init Fwd Win Byts|Init Bwd Win Byts|Fwd Act Data Pkts|Fwd Seg Size Min|Active Mean|Active Std|Active Max|Active Min|   Idle Mean|      Idle Std|Idle Max|Idle Min| Label|LabelT|Timestamp_ix|\n",
            "+--------+--------+-------------------+-------------+------------+------------+---------------+---------------+---------------+---------------+----------------+---------------+---------------+---------------+----------------+---------------+--------------+------------+----------------+----------------+------------+------------+-----------+----------------+----------------+-----------+-----------+-----------+----------------+----------------+-----------+-----------+-------------+-------------+-------------+-------------+--------------+--------------+------------+------------+-----------+-----------+--------------+--------------+----------------+------------+------------+------------+------------+------------+------------+--------------+------------+-------------+------------+----------------+----------------+--------------+--------------+----------------+--------------+--------------+----------------+----------------+----------------+----------------+----------------+-----------------+-----------------+-----------------+----------------+-----------+----------+----------+----------+------------+--------------+--------+--------+------+------+------------+\n",
            "|       0|       0|14/02/2018 08:31:01|    112641719|           3|           0|              0|              0|              0|              0|             0.0|            0.0|              0|              0|             0.0|            0.0|           0.0|0.0266331163|    5.63208595E7|  139.3000358938|    56320958|    56320761|  112641719|    5.63208595E7|  139.3000358938|   56320958|   56320761|          0|             0.0|             0.0|          0|          0|            0|            0|            0|            0|             0|             0|0.0266331163|         0.0|          0|          0|           0.0|           0.0|             0.0|           0|           0|           0|           0|           0|           0|             0|           0|            0|         0.0|             0.0|             0.0|             0|             0|               0|             0|             0|               0|               3|               0|               0|               0|               -1|               -1|                0|               0|        0.0|       0.0|         0|         0|5.63208595E7|139.3000358938|56320958|56320761|Benign|     0|      3707.0|\n",
            "|       0|       0|14/02/2018 08:33:50|    112641466|           3|           0|              0|              0|              0|              0|             0.0|            0.0|              0|              0|             0.0|            0.0|           0.0|0.0266331761|     5.6320733E7|  114.5512985522|    56320814|    56320652|  112641466|     5.6320733E7|  114.5512985522|   56320814|   56320652|          0|             0.0|             0.0|          0|          0|            0|            0|            0|            0|             0|             0|0.0266331761|         0.0|          0|          0|           0.0|           0.0|             0.0|           0|           0|           0|           0|           0|           0|             0|           0|            0|         0.0|             0.0|             0.0|             0|             0|               0|             0|             0|               0|               3|               0|               0|               0|               -1|               -1|                0|               0|        0.0|       0.0|         0|         0| 5.6320733E7|114.5512985522|56320814|56320652|Benign|     0|     14238.0|\n",
            "|       0|       0|14/02/2018 08:36:39|    112638623|           3|           0|              0|              0|              0|              0|             0.0|            0.0|              0|              0|             0.0|            0.0|           0.0|0.0266338483|    5.63193115E7|  301.9345955667|    56319525|    56319098|  112638623|    5.63193115E7|  301.9345955667|   56319525|   56319098|          0|             0.0|             0.0|          0|          0|            0|            0|            0|            0|             0|             0|0.0266338483|         0.0|          0|          0|           0.0|           0.0|             0.0|           0|           0|           0|           0|           0|           0|             0|           0|            0|         0.0|             0.0|             0.0|             0|             0|               0|             0|             0|               0|               3|               0|               0|               0|               -1|               -1|                0|               0|        0.0|       0.0|         0|         0|5.63193115E7|301.9345955667|56319525|56319098|Benign|     0|     21794.0|\n",
            "|      22|       6|14/02/2018 08:40:13|      6453966|          15|          10|           1239|           2273|            744|              0|            82.6| 196.7412368715|            976|              0|           227.3| 371.6778922072|544.1615279659|3.8735871865|       268915.25|247443.778966007|      673900|          22|    6453966|460997.571428571|123109.423587757|     673900|     229740|    5637902|626433.555555556| 455082.21422401|    1167293|        554|            0|            0|            0|            0|           488|           328|2.3241523119|1.5494348746|          0|        976|135.0769230769|277.8347599674|77192.1538461539|           0|           0|           0|           1|           0|           0|             0|           0|            0|      140.48|            82.6|           227.3|             0|             0|               0|             0|             0|               0|              15|            1239|              10|            2273|            65535|              233|                6|              32|        0.0|       0.0|         0|         0|         0.0|           0.0|       0|       0|Benign|     0|     17562.0|\n",
            "|      22|       6|14/02/2018 08:40:23|      8804066|          14|          11|           1143|           2209|            744|              0|   81.6428571429| 203.7455453568|            976|              0|  200.8181818182| 362.2498635422|380.7331748762| 2.839597068|366836.083333333|511356.609732762|     1928102|          21|    8804066|677235.846153846|532416.970958985|    1928102|     246924|    7715481|        771548.1|755543.082716951|    2174893|         90|            0|            0|            0|            0|           456|           360|1.5901743581|1.2494227099|          0|        976|128.9230769231|279.7630315931|78267.3538461539|           0|           0|           0|           1|           0|           0|             0|           0|            0|      134.08|   81.6428571429|  200.8181818182|             0|             0|               0|             0|             0|               0|              14|            1143|              11|            2209|             5808|              233|                6|              32|        0.0|       0.0|         0|         0|         0.0|           0.0|       0|       0|Benign|     0|     10091.0|\n",
            "+--------+--------+-------------------+-------------+------------+------------+---------------+---------------+---------------+---------------+----------------+---------------+---------------+---------------+----------------+---------------+--------------+------------+----------------+----------------+------------+------------+-----------+----------------+----------------+-----------+-----------+-----------+----------------+----------------+-----------+-----------+-------------+-------------+-------------+-------------+--------------+--------------+------------+------------+-----------+-----------+--------------+--------------+----------------+------------+------------+------------+------------+------------+------------+--------------+------------+-------------+------------+----------------+----------------+--------------+--------------+----------------+--------------+--------------+----------------+----------------+----------------+----------------+----------------+-----------------+-----------------+-----------------+----------------+-----------+----------+----------+----------+------------+--------------+--------+--------+------+------+------------+\n",
            "only showing top 5 rows\n",
            "\n"
          ]
        }
      ],
      "source": [
        "Group5_df.show(5)"
      ]
    },
    {
      "cell_type": "markdown",
      "metadata": {
        "id": "RgItEmwJ0JKz"
      },
      "source": [
        "The code \"show\" shows the actual columns of the dataset after the creation of two new columns: \"Timestamp_ix\" and \"LabelT\"."
      ]
    },
    {
      "cell_type": "code",
      "execution_count": null,
      "metadata": {
        "colab": {
          "base_uri": "https://localhost:8080/"
        },
        "id": "-DU9X6EJDsNM",
        "outputId": "5408c1ee-353a-4fcb-f0a9-b8d0db401ebb"
      },
      "outputs": [
        {
          "output_type": "stream",
          "name": "stdout",
          "text": [
            "+--------+--------+-------------+------------+------------+---------------+---------------+---------------+---------------+----------------+---------------+---------------+---------------+----------------+---------------+--------------+------------+----------------+----------------+------------+------------+-----------+----------------+----------------+-----------+-----------+-----------+----------------+----------------+-----------+-----------+-------------+-------------+-------------+-------------+--------------+--------------+------------+------------+-----------+-----------+--------------+--------------+----------------+------------+------------+------------+------------+------------+------------+--------------+------------+-------------+------------+----------------+----------------+--------------+--------------+----------------+--------------+--------------+----------------+----------------+----------------+----------------+----------------+-----------------+-----------------+-----------------+----------------+-----------+----------+----------+----------+------------+--------------+--------+--------+------+------------+\n",
            "|Dst Port|Protocol|Flow Duration|Tot Fwd Pkts|Tot Bwd Pkts|TotLen Fwd Pkts|TotLen Bwd Pkts|Fwd Pkt Len Max|Fwd Pkt Len Min|Fwd Pkt Len Mean|Fwd Pkt Len Std|Bwd Pkt Len Max|Bwd Pkt Len Min|Bwd Pkt Len Mean|Bwd Pkt Len Std|   Flow Byts/s| Flow Pkts/s|   Flow IAT Mean|    Flow IAT Std|Flow IAT Max|Flow IAT Min|Fwd IAT Tot|    Fwd IAT Mean|     Fwd IAT Std|Fwd IAT Max|Fwd IAT Min|Bwd IAT Tot|    Bwd IAT Mean|     Bwd IAT Std|Bwd IAT Max|Bwd IAT Min|Fwd PSH Flags|Bwd PSH Flags|Fwd URG Flags|Bwd URG Flags|Fwd Header Len|Bwd Header Len|  Fwd Pkts/s|  Bwd Pkts/s|Pkt Len Min|Pkt Len Max|  Pkt Len Mean|   Pkt Len Std|     Pkt Len Var|FIN Flag Cnt|SYN Flag Cnt|RST Flag Cnt|PSH Flag Cnt|ACK Flag Cnt|URG Flag Cnt|CWE Flag Count|ECE Flag Cnt|Down/Up Ratio|Pkt Size Avg|Fwd Seg Size Avg|Bwd Seg Size Avg|Fwd Byts/b Avg|Fwd Pkts/b Avg|Fwd Blk Rate Avg|Bwd Byts/b Avg|Bwd Pkts/b Avg|Bwd Blk Rate Avg|Subflow Fwd Pkts|Subflow Fwd Byts|Subflow Bwd Pkts|Subflow Bwd Byts|Init Fwd Win Byts|Init Bwd Win Byts|Fwd Act Data Pkts|Fwd Seg Size Min|Active Mean|Active Std|Active Max|Active Min|   Idle Mean|      Idle Std|Idle Max|Idle Min|LabelT|Timestamp_ix|\n",
            "+--------+--------+-------------+------------+------------+---------------+---------------+---------------+---------------+----------------+---------------+---------------+---------------+----------------+---------------+--------------+------------+----------------+----------------+------------+------------+-----------+----------------+----------------+-----------+-----------+-----------+----------------+----------------+-----------+-----------+-------------+-------------+-------------+-------------+--------------+--------------+------------+------------+-----------+-----------+--------------+--------------+----------------+------------+------------+------------+------------+------------+------------+--------------+------------+-------------+------------+----------------+----------------+--------------+--------------+----------------+--------------+--------------+----------------+----------------+----------------+----------------+----------------+-----------------+-----------------+-----------------+----------------+-----------+----------+----------+----------+------------+--------------+--------+--------+------+------------+\n",
            "|       0|       0|    112641719|           3|           0|              0|              0|              0|              0|             0.0|            0.0|              0|              0|             0.0|            0.0|           0.0|0.0266331163|    5.63208595E7|  139.3000358938|    56320958|    56320761|  112641719|    5.63208595E7|  139.3000358938|   56320958|   56320761|          0|             0.0|             0.0|          0|          0|            0|            0|            0|            0|             0|             0|0.0266331163|         0.0|          0|          0|           0.0|           0.0|             0.0|           0|           0|           0|           0|           0|           0|             0|           0|            0|         0.0|             0.0|             0.0|             0|             0|               0|             0|             0|               0|               3|               0|               0|               0|               -1|               -1|                0|               0|        0.0|       0.0|         0|         0|5.63208595E7|139.3000358938|56320958|56320761|     0|      3707.0|\n",
            "|       0|       0|    112641466|           3|           0|              0|              0|              0|              0|             0.0|            0.0|              0|              0|             0.0|            0.0|           0.0|0.0266331761|     5.6320733E7|  114.5512985522|    56320814|    56320652|  112641466|     5.6320733E7|  114.5512985522|   56320814|   56320652|          0|             0.0|             0.0|          0|          0|            0|            0|            0|            0|             0|             0|0.0266331761|         0.0|          0|          0|           0.0|           0.0|             0.0|           0|           0|           0|           0|           0|           0|             0|           0|            0|         0.0|             0.0|             0.0|             0|             0|               0|             0|             0|               0|               3|               0|               0|               0|               -1|               -1|                0|               0|        0.0|       0.0|         0|         0| 5.6320733E7|114.5512985522|56320814|56320652|     0|     14238.0|\n",
            "|       0|       0|    112638623|           3|           0|              0|              0|              0|              0|             0.0|            0.0|              0|              0|             0.0|            0.0|           0.0|0.0266338483|    5.63193115E7|  301.9345955667|    56319525|    56319098|  112638623|    5.63193115E7|  301.9345955667|   56319525|   56319098|          0|             0.0|             0.0|          0|          0|            0|            0|            0|            0|             0|             0|0.0266338483|         0.0|          0|          0|           0.0|           0.0|             0.0|           0|           0|           0|           0|           0|           0|             0|           0|            0|         0.0|             0.0|             0.0|             0|             0|               0|             0|             0|               0|               3|               0|               0|               0|               -1|               -1|                0|               0|        0.0|       0.0|         0|         0|5.63193115E7|301.9345955667|56319525|56319098|     0|     21794.0|\n",
            "|      22|       6|      6453966|          15|          10|           1239|           2273|            744|              0|            82.6| 196.7412368715|            976|              0|           227.3| 371.6778922072|544.1615279659|3.8735871865|       268915.25|247443.778966007|      673900|          22|    6453966|460997.571428571|123109.423587757|     673900|     229740|    5637902|626433.555555556| 455082.21422401|    1167293|        554|            0|            0|            0|            0|           488|           328|2.3241523119|1.5494348746|          0|        976|135.0769230769|277.8347599674|77192.1538461539|           0|           0|           0|           1|           0|           0|             0|           0|            0|      140.48|            82.6|           227.3|             0|             0|               0|             0|             0|               0|              15|            1239|              10|            2273|            65535|              233|                6|              32|        0.0|       0.0|         0|         0|         0.0|           0.0|       0|       0|     0|     17562.0|\n",
            "|      22|       6|      8804066|          14|          11|           1143|           2209|            744|              0|   81.6428571429| 203.7455453568|            976|              0|  200.8181818182| 362.2498635422|380.7331748762| 2.839597068|366836.083333333|511356.609732762|     1928102|          21|    8804066|677235.846153846|532416.970958985|    1928102|     246924|    7715481|        771548.1|755543.082716951|    2174893|         90|            0|            0|            0|            0|           456|           360|1.5901743581|1.2494227099|          0|        976|128.9230769231|279.7630315931|78267.3538461539|           0|           0|           0|           1|           0|           0|             0|           0|            0|      134.08|   81.6428571429|  200.8181818182|             0|             0|               0|             0|             0|               0|              14|            1143|              11|            2209|             5808|              233|                6|              32|        0.0|       0.0|         0|         0|         0.0|           0.0|       0|       0|     0|     10091.0|\n",
            "+--------+--------+-------------+------------+------------+---------------+---------------+---------------+---------------+----------------+---------------+---------------+---------------+----------------+---------------+--------------+------------+----------------+----------------+------------+------------+-----------+----------------+----------------+-----------+-----------+-----------+----------------+----------------+-----------+-----------+-------------+-------------+-------------+-------------+--------------+--------------+------------+------------+-----------+-----------+--------------+--------------+----------------+------------+------------+------------+------------+------------+------------+--------------+------------+-------------+------------+----------------+----------------+--------------+--------------+----------------+--------------+--------------+----------------+----------------+----------------+----------------+----------------+-----------------+-----------------+-----------------+----------------+-----------+----------+----------+----------+------------+--------------+--------+--------+------+------------+\n",
            "only showing top 5 rows\n",
            "\n"
          ]
        }
      ],
      "source": [
        "# Drop columns I don't need.\n",
        "ex_cols = [\"Timestamp\", \"Label\"]\n",
        "input_cols = [col for col in Group5_df.columns if col not in ex_cols]\n",
        "Group5_drop_df = Group5_df[input_cols]\n",
        "Group5_drop_df.show(5)"
      ]
    },
    {
      "cell_type": "markdown",
      "metadata": {
        "id": "NBd9Fhw20RZv"
      },
      "source": [
        "In this code I give a condition: if the columns belong to 'ex_cols', not to add them to the input columns of my dataframe. I am defining which columns belong to the \"input_cols\" of my dataframe. In this case the only two columns that belong to \"ex_cols\" are \"Timestamp\" and \"Label\" . I am achiving by dropping those two columns and keeping the two new columns I created from each other: \"Timestamp_ix\" and \"LabelT\"."
      ]
    },
    {
      "cell_type": "code",
      "execution_count": null,
      "metadata": {
        "colab": {
          "base_uri": "https://localhost:8080/"
        },
        "id": "IfSm_8q-DuBo",
        "outputId": "e54e4b2f-159e-4dc7-c4e7-3219b7a1092c"
      },
      "outputs": [
        {
          "output_type": "stream",
          "name": "stdout",
          "text": [
            "root\n",
            " |-- Dst Port: integer (nullable = true)\n",
            " |-- Protocol: integer (nullable = true)\n",
            " |-- Flow Duration: long (nullable = true)\n",
            " |-- Tot Fwd Pkts: integer (nullable = true)\n",
            " |-- Tot Bwd Pkts: integer (nullable = true)\n",
            " |-- TotLen Fwd Pkts: integer (nullable = true)\n",
            " |-- TotLen Bwd Pkts: integer (nullable = true)\n",
            " |-- Fwd Pkt Len Max: integer (nullable = true)\n",
            " |-- Fwd Pkt Len Min: integer (nullable = true)\n",
            " |-- Fwd Pkt Len Mean: double (nullable = true)\n",
            " |-- Fwd Pkt Len Std: double (nullable = true)\n",
            " |-- Bwd Pkt Len Max: integer (nullable = true)\n",
            " |-- Bwd Pkt Len Min: integer (nullable = true)\n",
            " |-- Bwd Pkt Len Mean: double (nullable = true)\n",
            " |-- Bwd Pkt Len Std: double (nullable = true)\n",
            " |-- Flow Byts/s: double (nullable = true)\n",
            " |-- Flow Pkts/s: double (nullable = true)\n",
            " |-- Flow IAT Mean: double (nullable = true)\n",
            " |-- Flow IAT Std: double (nullable = true)\n",
            " |-- Flow IAT Max: long (nullable = true)\n",
            " |-- Flow IAT Min: long (nullable = true)\n",
            " |-- Fwd IAT Tot: long (nullable = true)\n",
            " |-- Fwd IAT Mean: double (nullable = true)\n",
            " |-- Fwd IAT Std: double (nullable = true)\n",
            " |-- Fwd IAT Max: long (nullable = true)\n",
            " |-- Fwd IAT Min: long (nullable = true)\n",
            " |-- Bwd IAT Tot: integer (nullable = true)\n",
            " |-- Bwd IAT Mean: double (nullable = true)\n",
            " |-- Bwd IAT Std: double (nullable = true)\n",
            " |-- Bwd IAT Max: integer (nullable = true)\n",
            " |-- Bwd IAT Min: integer (nullable = true)\n",
            " |-- Fwd PSH Flags: integer (nullable = true)\n",
            " |-- Bwd PSH Flags: integer (nullable = true)\n",
            " |-- Fwd URG Flags: integer (nullable = true)\n",
            " |-- Bwd URG Flags: integer (nullable = true)\n",
            " |-- Fwd Header Len: integer (nullable = true)\n",
            " |-- Bwd Header Len: integer (nullable = true)\n",
            " |-- Fwd Pkts/s: double (nullable = true)\n",
            " |-- Bwd Pkts/s: double (nullable = true)\n",
            " |-- Pkt Len Min: integer (nullable = true)\n",
            " |-- Pkt Len Max: integer (nullable = true)\n",
            " |-- Pkt Len Mean: double (nullable = true)\n",
            " |-- Pkt Len Std: double (nullable = true)\n",
            " |-- Pkt Len Var: double (nullable = true)\n",
            " |-- FIN Flag Cnt: integer (nullable = true)\n",
            " |-- SYN Flag Cnt: integer (nullable = true)\n",
            " |-- RST Flag Cnt: integer (nullable = true)\n",
            " |-- PSH Flag Cnt: integer (nullable = true)\n",
            " |-- ACK Flag Cnt: integer (nullable = true)\n",
            " |-- URG Flag Cnt: integer (nullable = true)\n",
            " |-- CWE Flag Count: integer (nullable = true)\n",
            " |-- ECE Flag Cnt: integer (nullable = true)\n",
            " |-- Down/Up Ratio: integer (nullable = true)\n",
            " |-- Pkt Size Avg: double (nullable = true)\n",
            " |-- Fwd Seg Size Avg: double (nullable = true)\n",
            " |-- Bwd Seg Size Avg: double (nullable = true)\n",
            " |-- Fwd Byts/b Avg: integer (nullable = true)\n",
            " |-- Fwd Pkts/b Avg: integer (nullable = true)\n",
            " |-- Fwd Blk Rate Avg: integer (nullable = true)\n",
            " |-- Bwd Byts/b Avg: integer (nullable = true)\n",
            " |-- Bwd Pkts/b Avg: integer (nullable = true)\n",
            " |-- Bwd Blk Rate Avg: integer (nullable = true)\n",
            " |-- Subflow Fwd Pkts: integer (nullable = true)\n",
            " |-- Subflow Fwd Byts: integer (nullable = true)\n",
            " |-- Subflow Bwd Pkts: integer (nullable = true)\n",
            " |-- Subflow Bwd Byts: integer (nullable = true)\n",
            " |-- Init Fwd Win Byts: integer (nullable = true)\n",
            " |-- Init Bwd Win Byts: integer (nullable = true)\n",
            " |-- Fwd Act Data Pkts: integer (nullable = true)\n",
            " |-- Fwd Seg Size Min: integer (nullable = true)\n",
            " |-- Active Mean: double (nullable = true)\n",
            " |-- Active Std: double (nullable = true)\n",
            " |-- Active Max: integer (nullable = true)\n",
            " |-- Active Min: integer (nullable = true)\n",
            " |-- Idle Mean: double (nullable = true)\n",
            " |-- Idle Std: double (nullable = true)\n",
            " |-- Idle Max: long (nullable = true)\n",
            " |-- Idle Min: long (nullable = true)\n",
            " |-- LabelT: integer (nullable = false)\n",
            " |-- Timestamp_ix: double (nullable = false)\n",
            "\n"
          ]
        }
      ],
      "source": [
        "Group5_drop_df.printSchema()"
      ]
    },
    {
      "cell_type": "markdown",
      "metadata": {
        "id": "AdKj15Fg0bA_"
      },
      "source": [
        "Printing \"schema\" allows me to see the components of my dataframe: columns and type of data."
      ]
    },
    {
      "cell_type": "code",
      "source": [
        "# Check if any columns have an Infinite value.\n",
        "# After checking I can see none of the columns have an Infinite value.\n",
        "inf_values = Group5_drop_df.select([F.count(F.when(F.col(c)== \"+Inf\", c)).alias(c) for c in Group5_drop_df.columns])\n",
        "inf_values.show()"
      ],
      "metadata": {
        "colab": {
          "base_uri": "https://localhost:8080/"
        },
        "id": "wbdrSF31uKVv",
        "outputId": "4f8adba3-67f6-4fcb-e20b-a9221771152d"
      },
      "execution_count": null,
      "outputs": [
        {
          "output_type": "stream",
          "name": "stdout",
          "text": [
            "+--------+--------+-------------+------------+------------+---------------+---------------+---------------+---------------+----------------+---------------+---------------+---------------+----------------+---------------+-----------+-----------+-------------+------------+------------+------------+-----------+------------+-----------+-----------+-----------+-----------+------------+-----------+-----------+-----------+-------------+-------------+-------------+-------------+--------------+--------------+----------+----------+-----------+-----------+------------+-----------+-----------+------------+------------+------------+------------+------------+------------+--------------+------------+-------------+------------+----------------+----------------+--------------+--------------+----------------+--------------+--------------+----------------+----------------+----------------+----------------+----------------+-----------------+-----------------+-----------------+----------------+-----------+----------+----------+----------+---------+--------+--------+--------+------+------------+\n",
            "|Dst Port|Protocol|Flow Duration|Tot Fwd Pkts|Tot Bwd Pkts|TotLen Fwd Pkts|TotLen Bwd Pkts|Fwd Pkt Len Max|Fwd Pkt Len Min|Fwd Pkt Len Mean|Fwd Pkt Len Std|Bwd Pkt Len Max|Bwd Pkt Len Min|Bwd Pkt Len Mean|Bwd Pkt Len Std|Flow Byts/s|Flow Pkts/s|Flow IAT Mean|Flow IAT Std|Flow IAT Max|Flow IAT Min|Fwd IAT Tot|Fwd IAT Mean|Fwd IAT Std|Fwd IAT Max|Fwd IAT Min|Bwd IAT Tot|Bwd IAT Mean|Bwd IAT Std|Bwd IAT Max|Bwd IAT Min|Fwd PSH Flags|Bwd PSH Flags|Fwd URG Flags|Bwd URG Flags|Fwd Header Len|Bwd Header Len|Fwd Pkts/s|Bwd Pkts/s|Pkt Len Min|Pkt Len Max|Pkt Len Mean|Pkt Len Std|Pkt Len Var|FIN Flag Cnt|SYN Flag Cnt|RST Flag Cnt|PSH Flag Cnt|ACK Flag Cnt|URG Flag Cnt|CWE Flag Count|ECE Flag Cnt|Down/Up Ratio|Pkt Size Avg|Fwd Seg Size Avg|Bwd Seg Size Avg|Fwd Byts/b Avg|Fwd Pkts/b Avg|Fwd Blk Rate Avg|Bwd Byts/b Avg|Bwd Pkts/b Avg|Bwd Blk Rate Avg|Subflow Fwd Pkts|Subflow Fwd Byts|Subflow Bwd Pkts|Subflow Bwd Byts|Init Fwd Win Byts|Init Bwd Win Byts|Fwd Act Data Pkts|Fwd Seg Size Min|Active Mean|Active Std|Active Max|Active Min|Idle Mean|Idle Std|Idle Max|Idle Min|LabelT|Timestamp_ix|\n",
            "+--------+--------+-------------+------------+------------+---------------+---------------+---------------+---------------+----------------+---------------+---------------+---------------+----------------+---------------+-----------+-----------+-------------+------------+------------+------------+-----------+------------+-----------+-----------+-----------+-----------+------------+-----------+-----------+-----------+-------------+-------------+-------------+-------------+--------------+--------------+----------+----------+-----------+-----------+------------+-----------+-----------+------------+------------+------------+------------+------------+------------+--------------+------------+-------------+------------+----------------+----------------+--------------+--------------+----------------+--------------+--------------+----------------+----------------+----------------+----------------+----------------+-----------------+-----------------+-----------------+----------------+-----------+----------+----------+----------+---------+--------+--------+--------+------+------------+\n",
            "|       0|       0|            0|           0|           0|              0|              0|              0|              0|               0|              0|              0|              0|               0|              0|       1547|       3824|            0|           0|           0|           0|          0|           0|          0|          0|          0|          0|           0|          0|          0|          0|            0|            0|            0|            0|             0|             0|         0|         0|          0|          0|           0|          0|          0|           0|           0|           0|           0|           0|           0|             0|           0|            0|           0|               0|               0|             0|             0|               0|             0|             0|               0|               0|               0|               0|               0|                0|                0|                0|               0|          0|         0|         0|         0|        0|       0|       0|       0|     0|           0|\n",
            "+--------+--------+-------------+------------+------------+---------------+---------------+---------------+---------------+----------------+---------------+---------------+---------------+----------------+---------------+-----------+-----------+-------------+------------+------------+------------+-----------+------------+-----------+-----------+-----------+-----------+------------+-----------+-----------+-----------+-------------+-------------+-------------+-------------+--------------+--------------+----------+----------+-----------+-----------+------------+-----------+-----------+------------+------------+------------+------------+------------+------------+--------------+------------+-------------+------------+----------------+----------------+--------------+--------------+----------------+--------------+--------------+----------------+----------------+----------------+----------------+----------------+-----------------+-----------------+-----------------+----------------+-----------+----------+----------+----------+---------+--------+--------+--------+------+------------+\n",
            "\n"
          ]
        }
      ]
    },
    {
      "cell_type": "markdown",
      "source": [
        "The columns \"Flow Byts/s\" and \"Flow Pkts/s\" have Infinite values. To continue, it is necessary to drop those columns."
      ],
      "metadata": {
        "id": "5KRzGMcIu1gf"
      }
    },
    {
      "cell_type": "code",
      "source": [
        "# Drop columns with Infitinite values.\n",
        "Group5_drop_df = Group5_drop_df.drop(\"Flow Byts/s\", \"Flow Pkts/s\")\n",
        "Group5_drop_df.show(5)"
      ],
      "metadata": {
        "colab": {
          "base_uri": "https://localhost:8080/"
        },
        "id": "Ss9rIrT-u4gJ",
        "outputId": "e2fa5cbd-db94-4429-ea2f-add3023d0687"
      },
      "execution_count": null,
      "outputs": [
        {
          "output_type": "stream",
          "name": "stdout",
          "text": [
            "+--------+--------+-------------+------------+------------+---------------+---------------+---------------+---------------+----------------+---------------+---------------+---------------+----------------+---------------+----------------+----------------+------------+------------+-----------+----------------+----------------+-----------+-----------+-----------+----------------+----------------+-----------+-----------+-------------+-------------+-------------+-------------+--------------+--------------+------------+------------+-----------+-----------+--------------+--------------+----------------+------------+------------+------------+------------+------------+------------+--------------+------------+-------------+------------+----------------+----------------+--------------+--------------+----------------+--------------+--------------+----------------+----------------+----------------+----------------+----------------+-----------------+-----------------+-----------------+----------------+-----------+----------+----------+----------+------------+--------------+--------+--------+------+------------+\n",
            "|Dst Port|Protocol|Flow Duration|Tot Fwd Pkts|Tot Bwd Pkts|TotLen Fwd Pkts|TotLen Bwd Pkts|Fwd Pkt Len Max|Fwd Pkt Len Min|Fwd Pkt Len Mean|Fwd Pkt Len Std|Bwd Pkt Len Max|Bwd Pkt Len Min|Bwd Pkt Len Mean|Bwd Pkt Len Std|   Flow IAT Mean|    Flow IAT Std|Flow IAT Max|Flow IAT Min|Fwd IAT Tot|    Fwd IAT Mean|     Fwd IAT Std|Fwd IAT Max|Fwd IAT Min|Bwd IAT Tot|    Bwd IAT Mean|     Bwd IAT Std|Bwd IAT Max|Bwd IAT Min|Fwd PSH Flags|Bwd PSH Flags|Fwd URG Flags|Bwd URG Flags|Fwd Header Len|Bwd Header Len|  Fwd Pkts/s|  Bwd Pkts/s|Pkt Len Min|Pkt Len Max|  Pkt Len Mean|   Pkt Len Std|     Pkt Len Var|FIN Flag Cnt|SYN Flag Cnt|RST Flag Cnt|PSH Flag Cnt|ACK Flag Cnt|URG Flag Cnt|CWE Flag Count|ECE Flag Cnt|Down/Up Ratio|Pkt Size Avg|Fwd Seg Size Avg|Bwd Seg Size Avg|Fwd Byts/b Avg|Fwd Pkts/b Avg|Fwd Blk Rate Avg|Bwd Byts/b Avg|Bwd Pkts/b Avg|Bwd Blk Rate Avg|Subflow Fwd Pkts|Subflow Fwd Byts|Subflow Bwd Pkts|Subflow Bwd Byts|Init Fwd Win Byts|Init Bwd Win Byts|Fwd Act Data Pkts|Fwd Seg Size Min|Active Mean|Active Std|Active Max|Active Min|   Idle Mean|      Idle Std|Idle Max|Idle Min|LabelT|Timestamp_ix|\n",
            "+--------+--------+-------------+------------+------------+---------------+---------------+---------------+---------------+----------------+---------------+---------------+---------------+----------------+---------------+----------------+----------------+------------+------------+-----------+----------------+----------------+-----------+-----------+-----------+----------------+----------------+-----------+-----------+-------------+-------------+-------------+-------------+--------------+--------------+------------+------------+-----------+-----------+--------------+--------------+----------------+------------+------------+------------+------------+------------+------------+--------------+------------+-------------+------------+----------------+----------------+--------------+--------------+----------------+--------------+--------------+----------------+----------------+----------------+----------------+----------------+-----------------+-----------------+-----------------+----------------+-----------+----------+----------+----------+------------+--------------+--------+--------+------+------------+\n",
            "|       0|       0|    112641719|           3|           0|              0|              0|              0|              0|             0.0|            0.0|              0|              0|             0.0|            0.0|    5.63208595E7|  139.3000358938|    56320958|    56320761|  112641719|    5.63208595E7|  139.3000358938|   56320958|   56320761|          0|             0.0|             0.0|          0|          0|            0|            0|            0|            0|             0|             0|0.0266331163|         0.0|          0|          0|           0.0|           0.0|             0.0|           0|           0|           0|           0|           0|           0|             0|           0|            0|         0.0|             0.0|             0.0|             0|             0|               0|             0|             0|               0|               3|               0|               0|               0|               -1|               -1|                0|               0|        0.0|       0.0|         0|         0|5.63208595E7|139.3000358938|56320958|56320761|     0|      3707.0|\n",
            "|       0|       0|    112641466|           3|           0|              0|              0|              0|              0|             0.0|            0.0|              0|              0|             0.0|            0.0|     5.6320733E7|  114.5512985522|    56320814|    56320652|  112641466|     5.6320733E7|  114.5512985522|   56320814|   56320652|          0|             0.0|             0.0|          0|          0|            0|            0|            0|            0|             0|             0|0.0266331761|         0.0|          0|          0|           0.0|           0.0|             0.0|           0|           0|           0|           0|           0|           0|             0|           0|            0|         0.0|             0.0|             0.0|             0|             0|               0|             0|             0|               0|               3|               0|               0|               0|               -1|               -1|                0|               0|        0.0|       0.0|         0|         0| 5.6320733E7|114.5512985522|56320814|56320652|     0|     14238.0|\n",
            "|       0|       0|    112638623|           3|           0|              0|              0|              0|              0|             0.0|            0.0|              0|              0|             0.0|            0.0|    5.63193115E7|  301.9345955667|    56319525|    56319098|  112638623|    5.63193115E7|  301.9345955667|   56319525|   56319098|          0|             0.0|             0.0|          0|          0|            0|            0|            0|            0|             0|             0|0.0266338483|         0.0|          0|          0|           0.0|           0.0|             0.0|           0|           0|           0|           0|           0|           0|             0|           0|            0|         0.0|             0.0|             0.0|             0|             0|               0|             0|             0|               0|               3|               0|               0|               0|               -1|               -1|                0|               0|        0.0|       0.0|         0|         0|5.63193115E7|301.9345955667|56319525|56319098|     0|     21794.0|\n",
            "|      22|       6|      6453966|          15|          10|           1239|           2273|            744|              0|            82.6| 196.7412368715|            976|              0|           227.3| 371.6778922072|       268915.25|247443.778966007|      673900|          22|    6453966|460997.571428571|123109.423587757|     673900|     229740|    5637902|626433.555555556| 455082.21422401|    1167293|        554|            0|            0|            0|            0|           488|           328|2.3241523119|1.5494348746|          0|        976|135.0769230769|277.8347599674|77192.1538461539|           0|           0|           0|           1|           0|           0|             0|           0|            0|      140.48|            82.6|           227.3|             0|             0|               0|             0|             0|               0|              15|            1239|              10|            2273|            65535|              233|                6|              32|        0.0|       0.0|         0|         0|         0.0|           0.0|       0|       0|     0|     17562.0|\n",
            "|      22|       6|      8804066|          14|          11|           1143|           2209|            744|              0|   81.6428571429| 203.7455453568|            976|              0|  200.8181818182| 362.2498635422|366836.083333333|511356.609732762|     1928102|          21|    8804066|677235.846153846|532416.970958985|    1928102|     246924|    7715481|        771548.1|755543.082716951|    2174893|         90|            0|            0|            0|            0|           456|           360|1.5901743581|1.2494227099|          0|        976|128.9230769231|279.7630315931|78267.3538461539|           0|           0|           0|           1|           0|           0|             0|           0|            0|      134.08|   81.6428571429|  200.8181818182|             0|             0|               0|             0|             0|               0|              14|            1143|              11|            2209|             5808|              233|                6|              32|        0.0|       0.0|         0|         0|         0.0|           0.0|       0|       0|     0|     10091.0|\n",
            "+--------+--------+-------------+------------+------------+---------------+---------------+---------------+---------------+----------------+---------------+---------------+---------------+----------------+---------------+----------------+----------------+------------+------------+-----------+----------------+----------------+-----------+-----------+-----------+----------------+----------------+-----------+-----------+-------------+-------------+-------------+-------------+--------------+--------------+------------+------------+-----------+-----------+--------------+--------------+----------------+------------+------------+------------+------------+------------+------------+--------------+------------+-------------+------------+----------------+----------------+--------------+--------------+----------------+--------------+--------------+----------------+----------------+----------------+----------------+----------------+-----------------+-----------------+-----------------+----------------+-----------+----------+----------+----------+------------+--------------+--------+--------+------+------------+\n",
            "only showing top 5 rows\n",
            "\n"
          ]
        }
      ]
    },
    {
      "cell_type": "code",
      "source": [
        "# Check if any columns have a NULL value.\n",
        "# After checking I can see none of the columns have a NULL value.\n",
        "from pyspark.sql.functions import  col, sum\n",
        "null_values = Group5_drop_df.select([sum(col(c).isNull().cast(\"int\")).alias(c) for c in Group5_drop_df.columns])\n",
        "null_values.show()"
      ],
      "metadata": {
        "colab": {
          "base_uri": "https://localhost:8080/"
        },
        "id": "9HfL4lWat2Ip",
        "outputId": "d899a1d2-d7ed-4216-bbca-32d57691141b"
      },
      "execution_count": null,
      "outputs": [
        {
          "output_type": "stream",
          "name": "stdout",
          "text": [
            "+--------+--------+-------------+------------+------------+---------------+---------------+---------------+---------------+----------------+---------------+---------------+---------------+----------------+---------------+-------------+------------+------------+------------+-----------+------------+-----------+-----------+-----------+-----------+------------+-----------+-----------+-----------+-------------+-------------+-------------+-------------+--------------+--------------+----------+----------+-----------+-----------+------------+-----------+-----------+------------+------------+------------+------------+------------+------------+--------------+------------+-------------+------------+----------------+----------------+--------------+--------------+----------------+--------------+--------------+----------------+----------------+----------------+----------------+----------------+-----------------+-----------------+-----------------+----------------+-----------+----------+----------+----------+---------+--------+--------+--------+------+------------+\n",
            "|Dst Port|Protocol|Flow Duration|Tot Fwd Pkts|Tot Bwd Pkts|TotLen Fwd Pkts|TotLen Bwd Pkts|Fwd Pkt Len Max|Fwd Pkt Len Min|Fwd Pkt Len Mean|Fwd Pkt Len Std|Bwd Pkt Len Max|Bwd Pkt Len Min|Bwd Pkt Len Mean|Bwd Pkt Len Std|Flow IAT Mean|Flow IAT Std|Flow IAT Max|Flow IAT Min|Fwd IAT Tot|Fwd IAT Mean|Fwd IAT Std|Fwd IAT Max|Fwd IAT Min|Bwd IAT Tot|Bwd IAT Mean|Bwd IAT Std|Bwd IAT Max|Bwd IAT Min|Fwd PSH Flags|Bwd PSH Flags|Fwd URG Flags|Bwd URG Flags|Fwd Header Len|Bwd Header Len|Fwd Pkts/s|Bwd Pkts/s|Pkt Len Min|Pkt Len Max|Pkt Len Mean|Pkt Len Std|Pkt Len Var|FIN Flag Cnt|SYN Flag Cnt|RST Flag Cnt|PSH Flag Cnt|ACK Flag Cnt|URG Flag Cnt|CWE Flag Count|ECE Flag Cnt|Down/Up Ratio|Pkt Size Avg|Fwd Seg Size Avg|Bwd Seg Size Avg|Fwd Byts/b Avg|Fwd Pkts/b Avg|Fwd Blk Rate Avg|Bwd Byts/b Avg|Bwd Pkts/b Avg|Bwd Blk Rate Avg|Subflow Fwd Pkts|Subflow Fwd Byts|Subflow Bwd Pkts|Subflow Bwd Byts|Init Fwd Win Byts|Init Bwd Win Byts|Fwd Act Data Pkts|Fwd Seg Size Min|Active Mean|Active Std|Active Max|Active Min|Idle Mean|Idle Std|Idle Max|Idle Min|LabelT|Timestamp_ix|\n",
            "+--------+--------+-------------+------------+------------+---------------+---------------+---------------+---------------+----------------+---------------+---------------+---------------+----------------+---------------+-------------+------------+------------+------------+-----------+------------+-----------+-----------+-----------+-----------+------------+-----------+-----------+-----------+-------------+-------------+-------------+-------------+--------------+--------------+----------+----------+-----------+-----------+------------+-----------+-----------+------------+------------+------------+------------+------------+------------+--------------+------------+-------------+------------+----------------+----------------+--------------+--------------+----------------+--------------+--------------+----------------+----------------+----------------+----------------+----------------+-----------------+-----------------+-----------------+----------------+-----------+----------+----------+----------+---------+--------+--------+--------+------+------------+\n",
            "|       0|       0|            0|           0|           0|              0|              0|              0|              0|               0|              0|              0|              0|               0|              0|            0|           0|           0|           0|          0|           0|          0|          0|          0|          0|           0|          0|          0|          0|            0|            0|            0|            0|             0|             0|         0|         0|          0|          0|           0|          0|          0|           0|           0|           0|           0|           0|           0|             0|           0|            0|           0|               0|               0|             0|             0|               0|             0|             0|               0|               0|               0|               0|               0|                0|                0|                0|               0|          0|         0|         0|         0|        0|       0|       0|       0|     0|           0|\n",
            "+--------+--------+-------------+------------+------------+---------------+---------------+---------------+---------------+----------------+---------------+---------------+---------------+----------------+---------------+-------------+------------+------------+------------+-----------+------------+-----------+-----------+-----------+-----------+------------+-----------+-----------+-----------+-------------+-------------+-------------+-------------+--------------+--------------+----------+----------+-----------+-----------+------------+-----------+-----------+------------+------------+------------+------------+------------+------------+--------------+------------+-------------+------------+----------------+----------------+--------------+--------------+----------------+--------------+--------------+----------------+----------------+----------------+----------------+----------------+-----------------+-----------------+-----------------+----------------+-----------+----------+----------+----------+---------+--------+--------+--------+------+------------+\n",
            "\n"
          ]
        }
      ]
    },
    {
      "cell_type": "markdown",
      "metadata": {
        "id": "bJ2kW1wP0h7o"
      },
      "source": [
        "With this code I check if I have any NULL values in my dataset. The result shows I don't have any NULL values.\n",
        "\n",
        "Two possible ways to do it is calling \"NULL\" values and see the number that it returns or calling \"Not Null\" values and see if the number is as the total of values of the dataset."
      ]
    },
    {
      "cell_type": "code",
      "execution_count": null,
      "metadata": {
        "colab": {
          "base_uri": "https://localhost:8080/"
        },
        "id": "8x6BFKkE0kPs",
        "outputId": "e1aaab4e-6e93-44fe-e433-a428cb46c268"
      },
      "outputs": [
        {
          "output_type": "stream",
          "name": "stdout",
          "text": [
            "+--------+--------+-------------+------------+------------+---------------+---------------+---------------+---------------+----------------+---------------+---------------+---------------+----------------+---------------+----------------+----------------+------------+------------+-----------+----------------+----------------+-----------+-----------+-----------+----------------+----------------+-----------+-----------+-------------+-------------+-------------+-------------+--------------+--------------+------------+------------+-----------+-----------+--------------+--------------+----------------+------------+------------+------------+------------+------------+------------+--------------+------------+-------------+------------+----------------+----------------+--------------+--------------+----------------+--------------+--------------+----------------+----------------+----------------+----------------+----------------+-----------------+-----------------+-----------------+----------------+-----------+----------+----------+----------+------------+--------------+--------+--------+------+------------+\n",
            "|Dst Port|Protocol|Flow Duration|Tot Fwd Pkts|Tot Bwd Pkts|TotLen Fwd Pkts|TotLen Bwd Pkts|Fwd Pkt Len Max|Fwd Pkt Len Min|Fwd Pkt Len Mean|Fwd Pkt Len Std|Bwd Pkt Len Max|Bwd Pkt Len Min|Bwd Pkt Len Mean|Bwd Pkt Len Std|   Flow IAT Mean|    Flow IAT Std|Flow IAT Max|Flow IAT Min|Fwd IAT Tot|    Fwd IAT Mean|     Fwd IAT Std|Fwd IAT Max|Fwd IAT Min|Bwd IAT Tot|    Bwd IAT Mean|     Bwd IAT Std|Bwd IAT Max|Bwd IAT Min|Fwd PSH Flags|Bwd PSH Flags|Fwd URG Flags|Bwd URG Flags|Fwd Header Len|Bwd Header Len|  Fwd Pkts/s|  Bwd Pkts/s|Pkt Len Min|Pkt Len Max|  Pkt Len Mean|   Pkt Len Std|     Pkt Len Var|FIN Flag Cnt|SYN Flag Cnt|RST Flag Cnt|PSH Flag Cnt|ACK Flag Cnt|URG Flag Cnt|CWE Flag Count|ECE Flag Cnt|Down/Up Ratio|Pkt Size Avg|Fwd Seg Size Avg|Bwd Seg Size Avg|Fwd Byts/b Avg|Fwd Pkts/b Avg|Fwd Blk Rate Avg|Bwd Byts/b Avg|Bwd Pkts/b Avg|Bwd Blk Rate Avg|Subflow Fwd Pkts|Subflow Fwd Byts|Subflow Bwd Pkts|Subflow Bwd Byts|Init Fwd Win Byts|Init Bwd Win Byts|Fwd Act Data Pkts|Fwd Seg Size Min|Active Mean|Active Std|Active Max|Active Min|   Idle Mean|      Idle Std|Idle Max|Idle Min|LabelT|Timestamp_ix|\n",
            "+--------+--------+-------------+------------+------------+---------------+---------------+---------------+---------------+----------------+---------------+---------------+---------------+----------------+---------------+----------------+----------------+------------+------------+-----------+----------------+----------------+-----------+-----------+-----------+----------------+----------------+-----------+-----------+-------------+-------------+-------------+-------------+--------------+--------------+------------+------------+-----------+-----------+--------------+--------------+----------------+------------+------------+------------+------------+------------+------------+--------------+------------+-------------+------------+----------------+----------------+--------------+--------------+----------------+--------------+--------------+----------------+----------------+----------------+----------------+----------------+-----------------+-----------------+-----------------+----------------+-----------+----------+----------+----------+------------+--------------+--------+--------+------+------------+\n",
            "|       0|       0|    112641719|           3|           0|              0|              0|              0|              0|             0.0|            0.0|              0|              0|             0.0|            0.0|    5.63208595E7|  139.3000358938|    56320958|    56320761|  112641719|    5.63208595E7|  139.3000358938|   56320958|   56320761|          0|             0.0|             0.0|          0|          0|            0|            0|            0|            0|             0|             0|0.0266331163|         0.0|          0|          0|           0.0|           0.0|             0.0|           0|           0|           0|           0|           0|           0|             0|           0|            0|         0.0|             0.0|             0.0|             0|             0|               0|             0|             0|               0|               3|               0|               0|               0|               -1|               -1|                0|               0|        0.0|       0.0|         0|         0|5.63208595E7|139.3000358938|56320958|56320761|     0|      3707.0|\n",
            "|       0|       0|    112641466|           3|           0|              0|              0|              0|              0|             0.0|            0.0|              0|              0|             0.0|            0.0|     5.6320733E7|  114.5512985522|    56320814|    56320652|  112641466|     5.6320733E7|  114.5512985522|   56320814|   56320652|          0|             0.0|             0.0|          0|          0|            0|            0|            0|            0|             0|             0|0.0266331761|         0.0|          0|          0|           0.0|           0.0|             0.0|           0|           0|           0|           0|           0|           0|             0|           0|            0|         0.0|             0.0|             0.0|             0|             0|               0|             0|             0|               0|               3|               0|               0|               0|               -1|               -1|                0|               0|        0.0|       0.0|         0|         0| 5.6320733E7|114.5512985522|56320814|56320652|     0|     14238.0|\n",
            "|       0|       0|    112638623|           3|           0|              0|              0|              0|              0|             0.0|            0.0|              0|              0|             0.0|            0.0|    5.63193115E7|  301.9345955667|    56319525|    56319098|  112638623|    5.63193115E7|  301.9345955667|   56319525|   56319098|          0|             0.0|             0.0|          0|          0|            0|            0|            0|            0|             0|             0|0.0266338483|         0.0|          0|          0|           0.0|           0.0|             0.0|           0|           0|           0|           0|           0|           0|             0|           0|            0|         0.0|             0.0|             0.0|             0|             0|               0|             0|             0|               0|               3|               0|               0|               0|               -1|               -1|                0|               0|        0.0|       0.0|         0|         0|5.63193115E7|301.9345955667|56319525|56319098|     0|     21794.0|\n",
            "|      22|       6|      6453966|          15|          10|           1239|           2273|            744|              0|            82.6| 196.7412368715|            976|              0|           227.3| 371.6778922072|       268915.25|247443.778966007|      673900|          22|    6453966|460997.571428571|123109.423587757|     673900|     229740|    5637902|626433.555555556| 455082.21422401|    1167293|        554|            0|            0|            0|            0|           488|           328|2.3241523119|1.5494348746|          0|        976|135.0769230769|277.8347599674|77192.1538461539|           0|           0|           0|           1|           0|           0|             0|           0|            0|      140.48|            82.6|           227.3|             0|             0|               0|             0|             0|               0|              15|            1239|              10|            2273|            65535|              233|                6|              32|        0.0|       0.0|         0|         0|         0.0|           0.0|       0|       0|     0|     17562.0|\n",
            "|      22|       6|      8804066|          14|          11|           1143|           2209|            744|              0|   81.6428571429| 203.7455453568|            976|              0|  200.8181818182| 362.2498635422|366836.083333333|511356.609732762|     1928102|          21|    8804066|677235.846153846|532416.970958985|    1928102|     246924|    7715481|        771548.1|755543.082716951|    2174893|         90|            0|            0|            0|            0|           456|           360|1.5901743581|1.2494227099|          0|        976|128.9230769231|279.7630315931|78267.3538461539|           0|           0|           0|           1|           0|           0|             0|           0|            0|      134.08|   81.6428571429|  200.8181818182|             0|             0|               0|             0|             0|               0|              14|            1143|              11|            2209|             5808|              233|                6|              32|        0.0|       0.0|         0|         0|         0.0|           0.0|       0|       0|     0|     10091.0|\n",
            "+--------+--------+-------------+------------+------------+---------------+---------------+---------------+---------------+----------------+---------------+---------------+---------------+----------------+---------------+----------------+----------------+------------+------------+-----------+----------------+----------------+-----------+-----------+-----------+----------------+----------------+-----------+-----------+-------------+-------------+-------------+-------------+--------------+--------------+------------+------------+-----------+-----------+--------------+--------------+----------------+------------+------------+------------+------------+------------+------------+--------------+------------+-------------+------------+----------------+----------------+--------------+--------------+----------------+--------------+--------------+----------------+----------------+----------------+----------------+----------------+-----------------+-----------------+-----------------+----------------+-----------+----------+----------+----------+------------+--------------+--------+--------+------+------------+\n",
            "only showing top 5 rows\n",
            "\n"
          ]
        }
      ],
      "source": [
        "# Check if any columns have a NaN value.\n",
        "# After checking I can see none of the columns have a NaN value.\n",
        "from pyspark.sql.functions import col, sum\n",
        "Nan_values = Group5_drop_df.select([F.when(F.isnan(c), F.col(c)).alias(c) for c in Group5_drop_df.columns])\n",
        "Nan_values = Group5_drop_df.dropna().show(5)"
      ]
    },
    {
      "cell_type": "markdown",
      "metadata": {
        "id": "eSYZCaUe0jax"
      },
      "source": [
        "With this code, we check if I have any NaN values in my dataset. And if there are some NaN values, \".dropna\" (or \"na.drop\") code drops the NaN values (and NULL values)."
      ]
    },
    {
      "cell_type": "code",
      "execution_count": null,
      "metadata": {
        "colab": {
          "base_uri": "https://localhost:8080/"
        },
        "id": "4J74OZ-pDx-f",
        "outputId": "aa601bd8-c4cd-4d8f-ecc3-d8ec78621490"
      },
      "outputs": [
        {
          "output_type": "stream",
          "name": "stdout",
          "text": [
            "root\n",
            " |-- Dst Port: integer (nullable = true)\n",
            " |-- Protocol: integer (nullable = true)\n",
            " |-- Flow Duration: long (nullable = true)\n",
            " |-- Tot Fwd Pkts: integer (nullable = true)\n",
            " |-- Tot Bwd Pkts: integer (nullable = true)\n",
            " |-- TotLen Fwd Pkts: integer (nullable = true)\n",
            " |-- TotLen Bwd Pkts: integer (nullable = true)\n",
            " |-- Fwd Pkt Len Max: integer (nullable = true)\n",
            " |-- Fwd Pkt Len Min: integer (nullable = true)\n",
            " |-- Fwd Pkt Len Mean: double (nullable = true)\n",
            " |-- Fwd Pkt Len Std: double (nullable = true)\n",
            " |-- Bwd Pkt Len Max: integer (nullable = true)\n",
            " |-- Bwd Pkt Len Min: integer (nullable = true)\n",
            " |-- Bwd Pkt Len Mean: double (nullable = true)\n",
            " |-- Bwd Pkt Len Std: double (nullable = true)\n",
            " |-- Flow IAT Mean: double (nullable = true)\n",
            " |-- Flow IAT Std: double (nullable = true)\n",
            " |-- Flow IAT Max: long (nullable = true)\n",
            " |-- Flow IAT Min: long (nullable = true)\n",
            " |-- Fwd IAT Tot: long (nullable = true)\n",
            " |-- Fwd IAT Mean: double (nullable = true)\n",
            " |-- Fwd IAT Std: double (nullable = true)\n",
            " |-- Fwd IAT Max: long (nullable = true)\n",
            " |-- Fwd IAT Min: long (nullable = true)\n",
            " |-- Bwd IAT Tot: integer (nullable = true)\n",
            " |-- Bwd IAT Mean: double (nullable = true)\n",
            " |-- Bwd IAT Std: double (nullable = true)\n",
            " |-- Bwd IAT Max: integer (nullable = true)\n",
            " |-- Bwd IAT Min: integer (nullable = true)\n",
            " |-- Fwd PSH Flags: integer (nullable = true)\n",
            " |-- Bwd PSH Flags: integer (nullable = true)\n",
            " |-- Fwd URG Flags: integer (nullable = true)\n",
            " |-- Bwd URG Flags: integer (nullable = true)\n",
            " |-- Fwd Header Len: integer (nullable = true)\n",
            " |-- Bwd Header Len: integer (nullable = true)\n",
            " |-- Fwd Pkts/s: double (nullable = true)\n",
            " |-- Bwd Pkts/s: double (nullable = true)\n",
            " |-- Pkt Len Min: integer (nullable = true)\n",
            " |-- Pkt Len Max: integer (nullable = true)\n",
            " |-- Pkt Len Mean: double (nullable = true)\n",
            " |-- Pkt Len Std: double (nullable = true)\n",
            " |-- Pkt Len Var: double (nullable = true)\n",
            " |-- FIN Flag Cnt: integer (nullable = true)\n",
            " |-- SYN Flag Cnt: integer (nullable = true)\n",
            " |-- RST Flag Cnt: integer (nullable = true)\n",
            " |-- PSH Flag Cnt: integer (nullable = true)\n",
            " |-- ACK Flag Cnt: integer (nullable = true)\n",
            " |-- URG Flag Cnt: integer (nullable = true)\n",
            " |-- CWE Flag Count: integer (nullable = true)\n",
            " |-- ECE Flag Cnt: integer (nullable = true)\n",
            " |-- Down/Up Ratio: integer (nullable = true)\n",
            " |-- Pkt Size Avg: double (nullable = true)\n",
            " |-- Fwd Seg Size Avg: double (nullable = true)\n",
            " |-- Bwd Seg Size Avg: double (nullable = true)\n",
            " |-- Fwd Byts/b Avg: integer (nullable = true)\n",
            " |-- Fwd Pkts/b Avg: integer (nullable = true)\n",
            " |-- Fwd Blk Rate Avg: integer (nullable = true)\n",
            " |-- Bwd Byts/b Avg: integer (nullable = true)\n",
            " |-- Bwd Pkts/b Avg: integer (nullable = true)\n",
            " |-- Bwd Blk Rate Avg: integer (nullable = true)\n",
            " |-- Subflow Fwd Pkts: integer (nullable = true)\n",
            " |-- Subflow Fwd Byts: integer (nullable = true)\n",
            " |-- Subflow Bwd Pkts: integer (nullable = true)\n",
            " |-- Subflow Bwd Byts: integer (nullable = true)\n",
            " |-- Init Fwd Win Byts: integer (nullable = true)\n",
            " |-- Init Bwd Win Byts: integer (nullable = true)\n",
            " |-- Fwd Act Data Pkts: integer (nullable = true)\n",
            " |-- Fwd Seg Size Min: integer (nullable = true)\n",
            " |-- Active Mean: double (nullable = true)\n",
            " |-- Active Std: double (nullable = true)\n",
            " |-- Active Max: integer (nullable = true)\n",
            " |-- Active Min: integer (nullable = true)\n",
            " |-- Idle Mean: double (nullable = true)\n",
            " |-- Idle Std: double (nullable = true)\n",
            " |-- Idle Max: long (nullable = true)\n",
            " |-- Idle Min: long (nullable = true)\n",
            " |-- LabelT: integer (nullable = false)\n",
            " |-- Timestamp_ix: double (nullable = false)\n",
            "\n"
          ]
        }
      ],
      "source": [
        "Group5_drop_df.printSchema()"
      ]
    },
    {
      "cell_type": "markdown",
      "metadata": {
        "id": "5oobdEeV94IA"
      },
      "source": [
        "In this part I check the columns of my dataframe after dropping some of them."
      ]
    },
    {
      "cell_type": "code",
      "execution_count": null,
      "metadata": {
        "colab": {
          "base_uri": "https://localhost:8080/"
        },
        "id": "4ECwulJpDz1j",
        "outputId": "29cfbece-b130-4168-fcb5-44dbc2884c9f"
      },
      "outputs": [
        {
          "output_type": "execute_result",
          "data": {
            "text/plain": [
              "1048575"
            ]
          },
          "metadata": {},
          "execution_count": 27
        }
      ],
      "source": [
        "Group5_drop_df.count()"
      ]
    },
    {
      "cell_type": "markdown",
      "metadata": {
        "id": "8k05P_xY9-gm"
      },
      "source": [
        "I want to know how much data I have after dropping some columns."
      ]
    },
    {
      "cell_type": "markdown",
      "metadata": {
        "id": "I6HBLMAnD2WM"
      },
      "source": [
        "LINEAR SEPARABILITY ASSESSMENT"
      ]
    },
    {
      "cell_type": "code",
      "execution_count": null,
      "metadata": {
        "colab": {
          "base_uri": "https://localhost:8080/"
        },
        "id": "kGlaKjfBD265",
        "outputId": "e0679326-75ab-4bd9-cdd2-00fda273ce73"
      },
      "outputs": [
        {
          "output_type": "stream",
          "name": "stdout",
          "text": [
            "+------+-------------+---------------+-----------------+------------+\n",
            "|LabelT|Dst Port_mean|Dst Port_sttdev|Dst Port_skewness|Dst Port_sum|\n",
            "+------+-------------+---------------+-----------------+------------+\n",
            "|     1|        21.49|            0.5|             0.03|     8187488|\n",
            "|     0|       7646.4|       17507.88|             2.15|  5104938702|\n",
            "+------+-------------+---------------+-----------------+------------+\n",
            "\n",
            "+------+-------------+---------------+-----------------+------------+\n",
            "|LabelT|Protocol_mean|Protocol_sttdev|Protocol_skewness|Protocol_sum|\n",
            "+------+-------------+---------------+-----------------+------------+\n",
            "|     1|          6.0|            0.0|             NULL|     2285694|\n",
            "|     0|         9.31|           5.22|             0.72|     6215688|\n",
            "+------+-------------+---------------+-----------------+------------+\n",
            "\n",
            "+------+------------------+--------------------+----------------------+-----------------+\n",
            "|LabelT|Flow Duration_mean|Flow Duration_sttdev|Flow Duration_skewness|Flow Duration_sum|\n",
            "+------+------------------+--------------------+----------------------+-----------------+\n",
            "|     1|          90287.99|           158737.19|                  1.21|      34395118978|\n",
            "|     0|        9773470.56|     1.57943280037E9|               -479.71|    6525023054919|\n",
            "+------+------------------+--------------------+----------------------+-----------------+\n",
            "\n",
            "+------+-----------------+-------------------+---------------------+----------------+\n",
            "|LabelT|Tot Fwd Pkts_mean|Tot Fwd Pkts_sttdev|Tot Fwd Pkts_skewness|Tot Fwd Pkts_sum|\n",
            "+------+-----------------+-------------------+---------------------+----------------+\n",
            "|     1|             6.28|               9.25|                 1.19|         2392588|\n",
            "|     0|             6.16|               55.3|                57.97|         4115521|\n",
            "+------+-----------------+-------------------+---------------------+----------------+\n",
            "\n",
            "+------+-----------------+-------------------+---------------------+----------------+\n",
            "|LabelT|Tot Bwd Pkts_mean|Tot Bwd Pkts_sttdev|Tot Bwd Pkts_skewness|Tot Bwd Pkts_sum|\n",
            "+------+-----------------+-------------------+---------------------+----------------+\n",
            "|     1|              6.0|               8.76|                 1.19|         2285595|\n",
            "|     0|              7.9|             131.25|                50.47|         5275880|\n",
            "+------+-----------------+-------------------+---------------------+----------------+\n",
            "\n",
            "+------+--------------------+----------------------+------------------------+-------------------+\n",
            "|LabelT|TotLen Fwd Pkts_mean|TotLen Fwd Pkts_sttdev|TotLen Fwd Pkts_skewness|TotLen Fwd Pkts_sum|\n",
            "+------+--------------------+----------------------+------------------------+-------------------+\n",
            "|     1|              476.34|                833.41|                    1.18|          181459392|\n",
            "|     0|              431.82|              19710.14|                  415.06|          288295542|\n",
            "+------+--------------------+----------------------+------------------------+-------------------+\n",
            "\n",
            "+------+--------------------+----------------------+------------------------+-------------------+\n",
            "|LabelT|TotLen Bwd Pkts_mean|TotLen Bwd Pkts_sttdev|TotLen Bwd Pkts_skewness|TotLen Bwd Pkts_sum|\n",
            "+------+--------------------+----------------------+------------------------+-------------------+\n",
            "|     1|               656.3|               1148.17|                    1.18|          250018250|\n",
            "|     0|             6727.47|             189830.83|                   51.16|         4491431742|\n",
            "+------+--------------------+----------------------+------------------------+-------------------+\n",
            "\n",
            "+------+--------------------+----------------------+------------------------+-------------------+\n",
            "|LabelT|Fwd Pkt Len Max_mean|Fwd Pkt Len Max_sttdev|Fwd Pkt Len Max_skewness|Fwd Pkt Len Max_sum|\n",
            "+------+--------------------+----------------------+------------------------+-------------------+\n",
            "|     1|              157.62|                275.74|                    1.18|           60043520|\n",
            "|     0|              184.25|                293.83|                   28.44|          123009985|\n",
            "+------+--------------------+----------------------+------------------------+-------------------+\n",
            "\n",
            "+------+--------------------+----------------------+------------------------+-------------------+\n",
            "|LabelT|Fwd Pkt Len Min_mean|Fwd Pkt Len Min_sttdev|Fwd Pkt Len Min_skewness|Fwd Pkt Len Min_sum|\n",
            "+------+--------------------+----------------------+------------------------+-------------------+\n",
            "|     1|                 0.0|                   0.0|                    NULL|                  0|\n",
            "|     0|               13.18|                 23.09|                    5.36|            8797057|\n",
            "+------+--------------------+----------------------+------------------------+-------------------+\n",
            "\n",
            "+------+---------------------+-----------------------+-------------------------+--------------------+\n",
            "|LabelT|Fwd Pkt Len Mean_mean|Fwd Pkt Len Mean_sttdev|Fwd Pkt Len Mean_skewness|Fwd Pkt Len Mean_sum|\n",
            "+------+---------------------+-----------------------+-------------------------+--------------------+\n",
            "|     1|                21.27|                  37.27|                     1.19|          8104165.75|\n",
            "|     0|                48.79|                  58.29|                    26.24|       3.257612787E7|\n",
            "+------+---------------------+-----------------------+-------------------------+--------------------+\n",
            "\n",
            "+------+--------------------+----------------------+------------------------+-------------------+\n",
            "|LabelT|Fwd Pkt Len Std_mean|Fwd Pkt Len Std_sttdev|Fwd Pkt Len Std_skewness|Fwd Pkt Len Std_sum|\n",
            "+------+--------------------+----------------------+------------------------+-------------------+\n",
            "|     1|               33.74|                 59.03|                    1.18|      1.285197764E7|\n",
            "|     0|               59.61|                 95.74|                   10.48|      3.979809902E7|\n",
            "+------+--------------------+----------------------+------------------------+-------------------+\n",
            "\n",
            "+------+--------------------+----------------------+------------------------+-------------------+\n",
            "|LabelT|Bwd Pkt Len Max_mean|Bwd Pkt Len Max_sttdev|Bwd Pkt Len Max_skewness|Bwd Pkt Len Max_sum|\n",
            "+------+--------------------+----------------------+------------------------+-------------------+\n",
            "|     1|              240.36|                 420.5|                    1.18|           91566368|\n",
            "|     0|              385.11|                523.98|                    1.11|          257110135|\n",
            "+------+--------------------+----------------------+------------------------+-------------------+\n",
            "\n",
            "+------+--------------------+----------------------+------------------------+-------------------+\n",
            "|LabelT|Bwd Pkt Len Min_mean|Bwd Pkt Len Min_sttdev|Bwd Pkt Len Min_skewness|Bwd Pkt Len Min_sum|\n",
            "+------+--------------------+----------------------+------------------------+-------------------+\n",
            "|     1|                 0.0|                   0.0|                    NULL|                  0|\n",
            "|     0|               31.67|                 55.11|                     1.8|           21145422|\n",
            "+------+--------------------+----------------------+------------------------+-------------------+\n",
            "\n",
            "+------+---------------------+-----------------------+-------------------------+--------------------+\n",
            "|LabelT|Bwd Pkt Len Mean_mean|Bwd Pkt Len Mean_sttdev|Bwd Pkt Len Mean_skewness|Bwd Pkt Len Mean_sum|\n",
            "+------+---------------------+-----------------------+-------------------------+--------------------+\n",
            "|     1|                30.87|                  54.08|                     1.19|       1.176032349E7|\n",
            "|     0|               128.07|                 184.68|                     3.23|       8.550537899E7|\n",
            "+------+---------------------+-----------------------+-------------------------+--------------------+\n",
            "\n",
            "+------+--------------------+----------------------+------------------------+-------------------+\n",
            "|LabelT|Bwd Pkt Len Std_mean|Bwd Pkt Len Std_sttdev|Bwd Pkt Len Std_skewness|Bwd Pkt Len Std_sum|\n",
            "+------+--------------------+----------------------+------------------------+-------------------+\n",
            "|     1|               64.57|                112.98|                    1.18|      2.459704267E7|\n",
            "|     0|              138.11|                212.35|                    1.24|      9.220362989E7|\n",
            "+------+--------------------+----------------------+------------------------+-------------------+\n",
            "\n",
            "+------+------------------+--------------------+----------------------+-------------------+\n",
            "|LabelT|Flow IAT Mean_mean|Flow IAT Mean_sttdev|Flow IAT Mean_skewness|  Flow IAT Mean_sum|\n",
            "+------+------------------+--------------------+----------------------+-------------------+\n",
            "|     1|           2117.83|              3718.0|                  1.22|     8.0678625138E8|\n",
            "|     0|        2486544.15|      4.1763567475E8|               -813.28|1.66008152138986E12|\n",
            "+------+------------------+--------------------+----------------------+-------------------+\n",
            "\n",
            "+------+-----------------+-------------------+---------------------+------------------+\n",
            "|LabelT|Flow IAT Std_mean|Flow IAT Std_sttdev|Flow IAT Std_skewness|  Flow IAT Std_sum|\n",
            "+------+-----------------+-------------------+---------------------+------------------+\n",
            "|     1|          5096.91|            9152.24|                 1.37|   1.94166302837E9|\n",
            "|     0|       3297707.58|     9.1898885042E8|               425.29|2.2016353218849E12|\n",
            "+------+-----------------+-------------------+---------------------+------------------+\n",
            "\n",
            "+------+-----------------+-------------------+---------------------+----------------+\n",
            "|LabelT|Flow IAT Max_mean|Flow IAT Max_sttdev|Flow IAT Max_skewness|Flow IAT Max_sum|\n",
            "+------+-----------------+-------------------+---------------------+----------------+\n",
            "|     1|         25191.51|           47247.76|                 1.66|      9596681006|\n",
            "|     0|       9889909.96|    1.91760029539E9|                471.5|   6602761027498|\n",
            "+------+-----------------+-------------------+---------------------+----------------+\n",
            "\n",
            "+------+-----------------+-------------------+---------------------+----------------+\n",
            "|LabelT|Flow IAT Min_mean|Flow IAT Min_sttdev|Flow IAT Min_skewness|Flow IAT Min_sum|\n",
            "+------+-----------------+-------------------+---------------------+----------------+\n",
            "|     1|             4.88|              93.56|               350.65|         1858138|\n",
            "|     0|      -2386553.22|    2.05631804338E9|              -430.17|  -1593324979147|\n",
            "+------+-----------------+-------------------+---------------------+----------------+\n",
            "\n",
            "+------+----------------+------------------+--------------------+---------------+\n",
            "|LabelT|Fwd IAT Tot_mean|Fwd IAT Tot_sttdev|Fwd IAT Tot_skewness|Fwd IAT Tot_sum|\n",
            "+------+----------------+------------------+--------------------+---------------+\n",
            "|     1|        90193.35|         158582.08|                1.21|    34359068297|\n",
            "|     0|      9284671.81|    1.5794286143E9|             -479.71|  6198688299427|\n",
            "+------+----------------+------------------+--------------------+---------------+\n",
            "\n",
            "+------+-----------------+-------------------+---------------------+-------------------+\n",
            "|LabelT|Fwd IAT Mean_mean|Fwd IAT Mean_sttdev|Fwd IAT Mean_skewness|   Fwd IAT Mean_sum|\n",
            "+------+-----------------+-------------------+---------------------+-------------------+\n",
            "|     1|          4212.35|            7408.11|                 1.21|    1.60469155647E9|\n",
            "|     0|       2786330.73|     4.1763855158E8|              -813.26|1.86022683941169E12|\n",
            "+------+-----------------+-------------------+---------------------+-------------------+\n",
            "\n",
            "+------+----------------+------------------+--------------------+-------------------+\n",
            "|LabelT|Fwd IAT Std_mean|Fwd IAT Std_sttdev|Fwd IAT Std_skewness|    Fwd IAT Std_sum|\n",
            "+------+----------------+------------------+--------------------+-------------------+\n",
            "|     1|         7055.16|           12705.2|                1.38|     2.6876544329E9|\n",
            "|     0|      3369276.64|    9.1899041444E8|              425.28|2.24941668674134E12|\n",
            "+------+----------------+------------------+--------------------+-------------------+\n",
            "\n",
            "+------+----------------+------------------+--------------------+---------------+\n",
            "|LabelT|Fwd IAT Max_mean|Fwd IAT Max_sttdev|Fwd IAT Max_skewness|Fwd IAT Max_sum|\n",
            "+------+----------------+------------------+--------------------+---------------+\n",
            "|     1|        25987.69|          48328.39|                1.61|     9899986168|\n",
            "|     0|      9537551.73|   1.91759889665E9|               471.5|  6367517509783|\n",
            "+------+----------------+------------------+--------------------+---------------+\n",
            "\n",
            "+------+----------------+------------------+--------------------+---------------+\n",
            "|LabelT|Fwd IAT Min_mean|Fwd IAT Min_sttdev|Fwd IAT Min_skewness|Fwd IAT Min_sum|\n",
            "+------+----------------+------------------+--------------------+---------------+\n",
            "|     1|           58.12|            139.14|              101.58|       22140647|\n",
            "|     0|     -2317165.51|   2.05631868321E9|             -430.17| -1546999940342|\n",
            "+------+----------------+------------------+--------------------+---------------+\n",
            "\n",
            "+------+----------------+------------------+--------------------+---------------+\n",
            "|LabelT|Bwd IAT Tot_mean|Bwd IAT Tot_sttdev|Bwd IAT Tot_skewness|Bwd IAT Tot_sum|\n",
            "+------+----------------+------------------+--------------------+---------------+\n",
            "|     1|        90278.75|         158730.04|                1.21|    34391599425|\n",
            "|     0|      8987056.54|     2.778427013E7|                3.27|  5999992610663|\n",
            "+------+----------------+------------------+--------------------+---------------+\n",
            "\n",
            "+------+-----------------+-------------------+---------------------+------------------+\n",
            "|LabelT|Bwd IAT Mean_mean|Bwd IAT Mean_sttdev|Bwd IAT Mean_skewness|  Bwd IAT Mean_sum|\n",
            "+------+-----------------+-------------------+---------------------+------------------+\n",
            "|     1|          4461.87|            7868.13|                 1.23|   1.69974584965E9|\n",
            "|     0|         751046.4|         2835983.11|                12.86|5.0141810291302E11|\n",
            "+------+-----------------+-------------------+---------------------+------------------+\n",
            "\n",
            "+------+----------------+------------------+--------------------+------------------+\n",
            "|LabelT|Bwd IAT Std_mean|Bwd IAT Std_sttdev|Bwd IAT Std_skewness|   Bwd IAT Std_sum|\n",
            "+------+----------------+------------------+--------------------+------------------+\n",
            "|     1|          9215.7|          16437.27|                1.32|   3.51071217748E9|\n",
            "|     0|       944821.91|         3225519.7|                5.77|6.3078767424805E11|\n",
            "+------+----------------+------------------+--------------------+------------------+\n",
            "\n",
            "+------+----------------+------------------+--------------------+---------------+\n",
            "|LabelT|Bwd IAT Max_mean|Bwd IAT Max_sttdev|Bwd IAT Max_skewness|Bwd IAT Max_sum|\n",
            "+------+----------------+------------------+--------------------+---------------+\n",
            "|     1|        34819.12|           63077.3|                1.43|    13264309392|\n",
            "|     0|      2760536.32|         9871263.3|                5.14|  1843005821242|\n",
            "+------+----------------+------------------+--------------------+---------------+\n",
            "\n",
            "+------+----------------+------------------+--------------------+---------------+\n",
            "|LabelT|Bwd IAT Min_mean|Bwd IAT Min_sttdev|Bwd IAT Min_skewness|Bwd IAT Min_sum|\n",
            "+------+----------------+------------------+--------------------+---------------+\n",
            "|     1|            2.78|              6.21|               21.29|        1059954|\n",
            "|     0|       139475.35|        2117069.33|               27.78|    93117371003|\n",
            "+------+----------------+------------------+--------------------+---------------+\n",
            "\n",
            "+------+------------------+--------------------+----------------------+-----------------+\n",
            "|LabelT|Fwd PSH Flags_mean|Fwd PSH Flags_sttdev|Fwd PSH Flags_skewness|Fwd PSH Flags_sum|\n",
            "+------+------------------+--------------------+----------------------+-----------------+\n",
            "|     1|               0.0|                 0.0|                  NULL|                0|\n",
            "|     0|              0.04|                 0.2|                  4.58|            27886|\n",
            "+------+------------------+--------------------+----------------------+-----------------+\n",
            "\n",
            "+------+------------------+--------------------+----------------------+-----------------+\n",
            "|LabelT|Bwd PSH Flags_mean|Bwd PSH Flags_sttdev|Bwd PSH Flags_skewness|Bwd PSH Flags_sum|\n",
            "+------+------------------+--------------------+----------------------+-----------------+\n",
            "|     1|               0.0|                 0.0|                  NULL|                0|\n",
            "|     0|               0.0|                 0.0|                  NULL|                0|\n",
            "+------+------------------+--------------------+----------------------+-----------------+\n",
            "\n",
            "+------+------------------+--------------------+----------------------+-----------------+\n",
            "|LabelT|Fwd URG Flags_mean|Fwd URG Flags_sttdev|Fwd URG Flags_skewness|Fwd URG Flags_sum|\n",
            "+------+------------------+--------------------+----------------------+-----------------+\n",
            "|     1|               0.0|                 0.0|                  NULL|                0|\n",
            "|     0|               0.0|                 0.0|                  NULL|                0|\n",
            "+------+------------------+--------------------+----------------------+-----------------+\n",
            "\n",
            "+------+------------------+--------------------+----------------------+-----------------+\n",
            "|LabelT|Bwd URG Flags_mean|Bwd URG Flags_sttdev|Bwd URG Flags_skewness|Bwd URG Flags_sum|\n",
            "+------+------------------+--------------------+----------------------+-----------------+\n",
            "|     1|               0.0|                 0.0|                  NULL|                0|\n",
            "|     0|               0.0|                 0.0|                  NULL|                0|\n",
            "+------+------------------+--------------------+----------------------+-----------------+\n",
            "\n",
            "+------+-------------------+---------------------+-----------------------+------------------+\n",
            "|LabelT|Fwd Header Len_mean|Fwd Header Len_sttdev|Fwd Header Len_skewness|Fwd Header Len_sum|\n",
            "+------+-------------------+---------------------+-----------------------+------------------+\n",
            "|     1|             207.01|               297.17|                   1.19|          78860480|\n",
            "|     0|             126.91|              1331.49|                  62.23|          84725484|\n",
            "+------+-------------------+---------------------+-----------------------+------------------+\n",
            "\n",
            "+------+-------------------+---------------------+-----------------------+------------------+\n",
            "|LabelT|Bwd Header Len_mean|Bwd Header Len_sttdev|Bwd Header Len_skewness|Bwd Header Len_sum|\n",
            "+------+-------------------+---------------------+-----------------------+------------------+\n",
            "|     1|             187.87|               287.25|                   1.19|          71568904|\n",
            "|     0|             164.05|              2627.78|                  50.36|         109525264|\n",
            "+------+-------------------+---------------------+-----------------------+------------------+\n",
            "\n",
            "+------+---------------+-----------------+-------------------+-----------------+\n",
            "|LabelT|Fwd Pkts/s_mean|Fwd Pkts/s_sttdev|Fwd Pkts/s_skewness|   Fwd Pkts/s_sum|\n",
            "+------+---------------+-----------------+-------------------+-----------------+\n",
            "|     1|      340832.66|        348248.99|               0.86|1.298398624059E11|\n",
            "|     0|       27585.38|        211314.51|              10.13| 1.84167167214E10|\n",
            "+------+---------------+-----------------+-------------------+-----------------+\n",
            "\n",
            "+------+---------------+-----------------+-------------------+------------------+\n",
            "|LabelT|Bwd Pkts/s_mean|Bwd Pkts/s_sttdev|Bwd Pkts/s_skewness|    Bwd Pkts/s_sum|\n",
            "+------+---------------+-----------------+-------------------+------------------+\n",
            "|     1|      340796.01|        348273.56|               0.86|1.2982589963922E11|\n",
            "|     0|        3213.06|         37132.93|              47.07|   2.14512511485E9|\n",
            "+------+---------------+-----------------+-------------------+------------------+\n",
            "\n",
            "+------+----------------+------------------+--------------------+---------------+\n",
            "|LabelT|Pkt Len Min_mean|Pkt Len Min_sttdev|Pkt Len Min_skewness|Pkt Len Min_sum|\n",
            "+------+----------------+------------------+--------------------+---------------+\n",
            "|     1|             0.0|               0.0|                NULL|              0|\n",
            "|     0|           13.07|             22.35|                3.62|        8726985|\n",
            "+------+----------------+------------------+--------------------+---------------+\n",
            "\n",
            "+------+----------------+------------------+--------------------+---------------+\n",
            "|LabelT|Pkt Len Max_mean|Pkt Len Max_sttdev|Pkt Len Max_skewness|Pkt Len Max_sum|\n",
            "+------+----------------+------------------+--------------------+---------------+\n",
            "|     1|          240.36|             420.5|                1.18|       91566368|\n",
            "|     0|          392.99|            535.77|                5.45|      262371441|\n",
            "+------+----------------+------------------+--------------------+---------------+\n",
            "\n",
            "+------+-----------------+-------------------+---------------------+----------------+\n",
            "|LabelT|Pkt Len Mean_mean|Pkt Len Mean_sttdev|Pkt Len Mean_skewness|Pkt Len Mean_sum|\n",
            "+------+-----------------+-------------------+---------------------+----------------+\n",
            "|     1|            25.33|              44.34|                 1.18|      9650457.89|\n",
            "|     0|            84.67|             116.35|                 3.74|   5.652955696E7|\n",
            "+------+-----------------+-------------------+---------------------+----------------+\n",
            "\n",
            "+------+----------------+------------------+--------------------+---------------+\n",
            "|LabelT|Pkt Len Std_mean|Pkt Len Std_sttdev|Pkt Len Std_skewness|Pkt Len Std_sum|\n",
            "+------+----------------+------------------+--------------------+---------------+\n",
            "|     1|           50.29|             87.99|                1.18|  1.915972582E7|\n",
            "|     0|          121.62|             167.1|                1.83|   8.11985406E7|\n",
            "+------+----------------+------------------+--------------------+---------------+\n",
            "\n",
            "+------+----------------+------------------+--------------------+-----------------+\n",
            "|LabelT|Pkt Len Var_mean|Pkt Len Var_sttdev|Pkt Len Var_skewness|  Pkt Len Var_sum|\n",
            "+------+----------------+------------------+--------------------+-----------------+\n",
            "|     1|        10272.38|          17976.02|                1.18|  3.91325237255E9|\n",
            "|     0|        42715.56|         144771.71|               277.3|2.851801758172E10|\n",
            "+------+----------------+------------------+--------------------+-----------------+\n",
            "\n",
            "+------+-----------------+-------------------+---------------------+----------------+\n",
            "|LabelT|FIN Flag Cnt_mean|FIN Flag Cnt_sttdev|FIN Flag Cnt_skewness|FIN Flag Cnt_sum|\n",
            "+------+-----------------+-------------------+---------------------+----------------+\n",
            "|     1|              0.0|                0.0|                 NULL|               0|\n",
            "|     0|             0.01|               0.07|                13.24|            3746|\n",
            "+------+-----------------+-------------------+---------------------+----------------+\n",
            "\n",
            "+------+-----------------+-------------------+---------------------+----------------+\n",
            "|LabelT|SYN Flag Cnt_mean|SYN Flag Cnt_sttdev|SYN Flag Cnt_skewness|SYN Flag Cnt_sum|\n",
            "+------+-----------------+-------------------+---------------------+----------------+\n",
            "|     1|              0.0|                0.0|                 NULL|               0|\n",
            "|     0|             0.04|                0.2|                 4.58|           27886|\n",
            "+------+-----------------+-------------------+---------------------+----------------+\n",
            "\n",
            "+------+-----------------+-------------------+---------------------+----------------+\n",
            "|LabelT|RST Flag Cnt_mean|RST Flag Cnt_sttdev|RST Flag Cnt_skewness|RST Flag Cnt_sum|\n",
            "+------+-----------------+-------------------+---------------------+----------------+\n",
            "|     1|              0.0|                0.0|                 NULL|               0|\n",
            "|     0|             0.06|               0.24|                 3.63|           41528|\n",
            "+------+-----------------+-------------------+---------------------+----------------+\n",
            "\n",
            "+------+-----------------+-------------------+---------------------+----------------+\n",
            "|LabelT|PSH Flag Cnt_mean|PSH Flag Cnt_sttdev|PSH Flag Cnt_skewness|PSH Flag Cnt_sum|\n",
            "+------+-----------------+-------------------+---------------------+----------------+\n",
            "|     1|             0.75|               0.43|                -1.18|          287208|\n",
            "|     0|              0.4|               0.49|                 0.43|          263746|\n",
            "+------+-----------------+-------------------+---------------------+----------------+\n",
            "\n",
            "+------+-----------------+-------------------+---------------------+----------------+\n",
            "|LabelT|ACK Flag Cnt_mean|ACK Flag Cnt_sttdev|ACK Flag Cnt_skewness|ACK Flag Cnt_sum|\n",
            "+------+-----------------+-------------------+---------------------+----------------+\n",
            "|     1|             0.25|               0.43|                 1.18|           93741|\n",
            "|     0|             0.27|               0.45|                 1.02|          182527|\n",
            "+------+-----------------+-------------------+---------------------+----------------+\n",
            "\n",
            "+------+-----------------+-------------------+---------------------+----------------+\n",
            "|LabelT|URG Flag Cnt_mean|URG Flag Cnt_sttdev|URG Flag Cnt_skewness|URG Flag Cnt_sum|\n",
            "+------+-----------------+-------------------+---------------------+----------------+\n",
            "|     1|             0.25|               0.43|                 1.18|           93736|\n",
            "|     0|             0.05|               0.22|                 4.14|           33295|\n",
            "+------+-----------------+-------------------+---------------------+----------------+\n",
            "\n",
            "+------+-------------------+---------------------+-----------------------+------------------+\n",
            "|LabelT|CWE Flag Count_mean|CWE Flag Count_sttdev|CWE Flag Count_skewness|CWE Flag Count_sum|\n",
            "+------+-------------------+---------------------+-----------------------+------------------+\n",
            "|     1|                0.0|                  0.0|                   NULL|                 0|\n",
            "|     0|                0.0|                  0.0|                   NULL|                 0|\n",
            "+------+-------------------+---------------------+-----------------------+------------------+\n",
            "\n",
            "+------+-----------------+-------------------+---------------------+----------------+\n",
            "|LabelT|ECE Flag Cnt_mean|ECE Flag Cnt_sttdev|ECE Flag Cnt_skewness|ECE Flag Cnt_sum|\n",
            "+------+-----------------+-------------------+---------------------+----------------+\n",
            "|     1|              0.0|                0.0|                 NULL|               0|\n",
            "|     0|             0.06|               0.24|                 3.63|           41527|\n",
            "+------+-----------------+-------------------+---------------------+----------------+\n",
            "\n",
            "+------+------------------+--------------------+----------------------+-----------------+\n",
            "|LabelT|Down/Up Ratio_mean|Down/Up Ratio_sttdev|Down/Up Ratio_skewness|Down/Up Ratio_sum|\n",
            "+------+------------------+--------------------+----------------------+-----------------+\n",
            "|     1|              0.88|                0.32|                 -2.38|           336411|\n",
            "|     0|              0.54|                0.63|                 18.74|           359270|\n",
            "+------+------------------+--------------------+----------------------+-----------------+\n",
            "\n",
            "+------+-----------------+-------------------+---------------------+----------------+\n",
            "|LabelT|Pkt Size Avg_mean|Pkt Size Avg_sttdev|Pkt Size Avg_skewness|Pkt Size Avg_sum|\n",
            "+------+-----------------+-------------------+---------------------+----------------+\n",
            "|     1|            25.91|              45.35|                 1.18|      9871395.49|\n",
            "|     0|            97.43|             119.73|                  3.4|   6.504346443E7|\n",
            "+------+-----------------+-------------------+---------------------+----------------+\n",
            "\n",
            "+------+---------------------+-----------------------+-------------------------+--------------------+\n",
            "|LabelT|Fwd Seg Size Avg_mean|Fwd Seg Size Avg_sttdev|Fwd Seg Size Avg_skewness|Fwd Seg Size Avg_sum|\n",
            "+------+---------------------+-----------------------+-------------------------+--------------------+\n",
            "|     1|                21.27|                  37.27|                     1.19|          8104165.75|\n",
            "|     0|                48.79|                  58.29|                    26.24|       3.257612787E7|\n",
            "+------+---------------------+-----------------------+-------------------------+--------------------+\n",
            "\n",
            "+------+---------------------+-----------------------+-------------------------+--------------------+\n",
            "|LabelT|Bwd Seg Size Avg_mean|Bwd Seg Size Avg_sttdev|Bwd Seg Size Avg_skewness|Bwd Seg Size Avg_sum|\n",
            "+------+---------------------+-----------------------+-------------------------+--------------------+\n",
            "|     1|                30.87|                  54.08|                     1.19|       1.176032349E7|\n",
            "|     0|               128.07|                 184.68|                     3.23|       8.550537899E7|\n",
            "+------+---------------------+-----------------------+-------------------------+--------------------+\n",
            "\n",
            "+------+-------------------+---------------------+-----------------------+------------------+\n",
            "|LabelT|Fwd Byts/b Avg_mean|Fwd Byts/b Avg_sttdev|Fwd Byts/b Avg_skewness|Fwd Byts/b Avg_sum|\n",
            "+------+-------------------+---------------------+-----------------------+------------------+\n",
            "|     1|                0.0|                  0.0|                   NULL|                 0|\n",
            "|     0|                0.0|                  0.0|                   NULL|                 0|\n",
            "+------+-------------------+---------------------+-----------------------+------------------+\n",
            "\n",
            "+------+-------------------+---------------------+-----------------------+------------------+\n",
            "|LabelT|Fwd Pkts/b Avg_mean|Fwd Pkts/b Avg_sttdev|Fwd Pkts/b Avg_skewness|Fwd Pkts/b Avg_sum|\n",
            "+------+-------------------+---------------------+-----------------------+------------------+\n",
            "|     1|                0.0|                  0.0|                   NULL|                 0|\n",
            "|     0|                0.0|                  0.0|                   NULL|                 0|\n",
            "+------+-------------------+---------------------+-----------------------+------------------+\n",
            "\n",
            "+------+---------------------+-----------------------+-------------------------+--------------------+\n",
            "|LabelT|Fwd Blk Rate Avg_mean|Fwd Blk Rate Avg_sttdev|Fwd Blk Rate Avg_skewness|Fwd Blk Rate Avg_sum|\n",
            "+------+---------------------+-----------------------+-------------------------+--------------------+\n",
            "|     1|                  0.0|                    0.0|                     NULL|                   0|\n",
            "|     0|                  0.0|                    0.0|                     NULL|                   0|\n",
            "+------+---------------------+-----------------------+-------------------------+--------------------+\n",
            "\n",
            "+------+-------------------+---------------------+-----------------------+------------------+\n",
            "|LabelT|Bwd Byts/b Avg_mean|Bwd Byts/b Avg_sttdev|Bwd Byts/b Avg_skewness|Bwd Byts/b Avg_sum|\n",
            "+------+-------------------+---------------------+-----------------------+------------------+\n",
            "|     1|                0.0|                  0.0|                   NULL|                 0|\n",
            "|     0|                0.0|                  0.0|                   NULL|                 0|\n",
            "+------+-------------------+---------------------+-----------------------+------------------+\n",
            "\n",
            "+------+-------------------+---------------------+-----------------------+------------------+\n",
            "|LabelT|Bwd Pkts/b Avg_mean|Bwd Pkts/b Avg_sttdev|Bwd Pkts/b Avg_skewness|Bwd Pkts/b Avg_sum|\n",
            "+------+-------------------+---------------------+-----------------------+------------------+\n",
            "|     1|                0.0|                  0.0|                   NULL|                 0|\n",
            "|     0|                0.0|                  0.0|                   NULL|                 0|\n",
            "+------+-------------------+---------------------+-----------------------+------------------+\n",
            "\n",
            "+------+---------------------+-----------------------+-------------------------+--------------------+\n",
            "|LabelT|Bwd Blk Rate Avg_mean|Bwd Blk Rate Avg_sttdev|Bwd Blk Rate Avg_skewness|Bwd Blk Rate Avg_sum|\n",
            "+------+---------------------+-----------------------+-------------------------+--------------------+\n",
            "|     1|                  0.0|                    0.0|                     NULL|                   0|\n",
            "|     0|                  0.0|                    0.0|                     NULL|                   0|\n",
            "+------+---------------------+-----------------------+-------------------------+--------------------+\n",
            "\n",
            "+------+---------------------+-----------------------+-------------------------+--------------------+\n",
            "|LabelT|Subflow Fwd Pkts_mean|Subflow Fwd Pkts_sttdev|Subflow Fwd Pkts_skewness|Subflow Fwd Pkts_sum|\n",
            "+------+---------------------+-----------------------+-------------------------+--------------------+\n",
            "|     1|                 6.28|                   9.25|                     1.19|             2392588|\n",
            "|     0|                 6.16|                   55.3|                    57.97|             4115521|\n",
            "+------+---------------------+-----------------------+-------------------------+--------------------+\n",
            "\n",
            "+------+---------------------+-----------------------+-------------------------+--------------------+\n",
            "|LabelT|Subflow Fwd Byts_mean|Subflow Fwd Byts_sttdev|Subflow Fwd Byts_skewness|Subflow Fwd Byts_sum|\n",
            "+------+---------------------+-----------------------+-------------------------+--------------------+\n",
            "|     1|               476.34|                 833.41|                     1.18|           181459392|\n",
            "|     0|               431.82|               19710.14|                   415.06|           288295542|\n",
            "+------+---------------------+-----------------------+-------------------------+--------------------+\n",
            "\n",
            "+------+---------------------+-----------------------+-------------------------+--------------------+\n",
            "|LabelT|Subflow Bwd Pkts_mean|Subflow Bwd Pkts_sttdev|Subflow Bwd Pkts_skewness|Subflow Bwd Pkts_sum|\n",
            "+------+---------------------+-----------------------+-------------------------+--------------------+\n",
            "|     1|                  6.0|                   8.76|                     1.19|             2285595|\n",
            "|     0|                  7.9|                 131.25|                    50.47|             5275880|\n",
            "+------+---------------------+-----------------------+-------------------------+--------------------+\n",
            "\n",
            "+------+---------------------+-----------------------+-------------------------+--------------------+\n",
            "|LabelT|Subflow Bwd Byts_mean|Subflow Bwd Byts_sttdev|Subflow Bwd Byts_skewness|Subflow Bwd Byts_sum|\n",
            "+------+---------------------+-----------------------+-------------------------+--------------------+\n",
            "|     1|                656.3|                1148.17|                     1.18|           250018250|\n",
            "|     0|              6727.47|              189830.83|                    51.16|          4491431742|\n",
            "+------+---------------------+-----------------------+-------------------------+--------------------+\n",
            "\n",
            "+------+----------------------+------------------------+--------------------------+---------------------+\n",
            "|LabelT|Init Fwd Win Byts_mean|Init Fwd Win Byts_sttdev|Init Fwd Win Byts_skewness|Init Fwd Win Byts_sum|\n",
            "+------+----------------------+------------------------+--------------------------+---------------------+\n",
            "|     1|              20327.14|                11475.29|                     -1.18|           7743604245|\n",
            "|     0|               4895.22|                10060.46|                      4.67|           3268176009|\n",
            "+------+----------------------+------------------------+--------------------------+---------------------+\n",
            "\n",
            "+------+----------------------+------------------------+--------------------------+---------------------+\n",
            "|LabelT|Init Bwd Win Byts_mean|Init Bwd Win Byts_sttdev|Init Bwd Win Byts_skewness|Init Bwd Win Byts_sum|\n",
            "+------+----------------------+------------------------+--------------------------+---------------------+\n",
            "|     1|                113.24|                  114.99|                      0.03|             43137895|\n",
            "|     0|               9582.49|                22018.11|                      1.97|           6397518782|\n",
            "+------+----------------------+------------------------+--------------------------+---------------------+\n",
            "\n",
            "+------+----------------------+------------------------+--------------------------+---------------------+\n",
            "|LabelT|Fwd Act Data Pkts_mean|Fwd Act Data Pkts_sttdev|Fwd Act Data Pkts_skewness|Fwd Act Data Pkts_sum|\n",
            "+------+----------------------+------------------------+--------------------------+---------------------+\n",
            "|     1|                  3.94|                    6.89|                      1.18|              1500988|\n",
            "|     0|                  2.14|                     4.5|                     58.37|              1428244|\n",
            "+------+----------------------+------------------------+--------------------------+---------------------+\n",
            "\n",
            "+------+---------------------+-----------------------+-------------------------+--------------------+\n",
            "|LabelT|Fwd Seg Size Min_mean|Fwd Seg Size Min_sttdev|Fwd Seg Size Min_skewness|Fwd Seg Size Min_sum|\n",
            "+------+---------------------+-----------------------+-------------------------+--------------------+\n",
            "|     1|                36.06|                    4.0|                    -0.03|            13737488|\n",
            "|     0|                15.99|                   6.05|                    -0.72|            10673028|\n",
            "+------+---------------------+-----------------------+-------------------------+--------------------+\n",
            "\n",
            "+------+----------------+------------------+--------------------+-----------------+\n",
            "|LabelT|Active Mean_mean|Active Mean_sttdev|Active Mean_skewness|  Active Mean_sum|\n",
            "+------+----------------+------------------+--------------------+-----------------+\n",
            "|     1|             0.0|               0.0|                NULL|              0.0|\n",
            "|     0|        80924.48|         727196.84|               38.13|5.402728997224E10|\n",
            "+------+----------------+------------------+--------------------+-----------------+\n",
            "\n",
            "+------+---------------+-----------------+-------------------+-----------------+\n",
            "|LabelT|Active Std_mean|Active Std_sttdev|Active Std_skewness|   Active Std_sum|\n",
            "+------+---------------+-----------------+-------------------+-----------------+\n",
            "|     1|            0.0|              0.0|               NULL|              0.0|\n",
            "|     0|       33550.44|        273261.14|              50.73|2.239914491519E10|\n",
            "+------+---------------+-----------------+-------------------+-----------------+\n",
            "\n",
            "+------+---------------+-----------------+-------------------+--------------+\n",
            "|LabelT|Active Max_mean|Active Max_sttdev|Active Max_skewness|Active Max_sum|\n",
            "+------+---------------+-----------------+-------------------+--------------+\n",
            "|     1|            0.0|              0.0|               NULL|             0|\n",
            "|     0|      138042.71|        923117.45|              25.69|   92160905261|\n",
            "+------+---------------+-----------------+-------------------+--------------+\n",
            "\n",
            "+------+---------------+-----------------+-------------------+--------------+\n",
            "|LabelT|Active Min_mean|Active Min_sttdev|Active Min_skewness|Active Min_sum|\n",
            "+------+---------------+-----------------+-------------------+--------------+\n",
            "|     1|            0.0|              0.0|               NULL|             0|\n",
            "|     0|       62753.06|        701130.72|              41.35|   41895577551|\n",
            "+------+---------------+-----------------+-------------------+--------------+\n",
            "\n",
            "+------+--------------+----------------+------------------+-------------------+\n",
            "|LabelT|Idle Mean_mean|Idle Mean_sttdev|Idle Mean_skewness|      Idle Mean_sum|\n",
            "+------+--------------+----------------+------------------+-------------------+\n",
            "|     1|           0.0|             0.0|              NULL|                0.0|\n",
            "|     0|     4870762.1|  6.7859393657E8|             475.6|3.25184741722532E12|\n",
            "+------+--------------+----------------+------------------+-------------------+\n",
            "\n",
            "+------+-------------+---------------+-----------------+------------------+\n",
            "|LabelT|Idle Std_mean|Idle Std_sttdev|Idle Std_skewness|      Idle Std_sum|\n",
            "+------+-------------+---------------+-----------------+------------------+\n",
            "|     1|          0.0|            0.0|             NULL|               0.0|\n",
            "|     0|   1146102.75| 4.7873994466E8|           478.35|7.6516799721866E11|\n",
            "+------+-------------+---------------+-----------------+------------------+\n",
            "\n",
            "+------+-------------+---------------+-----------------+-------------+\n",
            "|LabelT|Idle Max_mean|Idle Max_sttdev|Idle Max_skewness| Idle Max_sum|\n",
            "+------+-------------+---------------+-----------------+-------------+\n",
            "|     1|          0.0|            0.0|             NULL|            0|\n",
            "|     0|   7558352.29|1.90756812556E9|           479.86|5046152506603|\n",
            "+------+-------------+---------------+-----------------+-------------+\n",
            "\n",
            "+------+-------------+---------------+-----------------+-------------+\n",
            "|LabelT|Idle Min_mean|Idle Min_sttdev|Idle Min_skewness| Idle Min_sum|\n",
            "+------+-------------+---------------+-----------------+-------------+\n",
            "|     1|          0.0|            0.0|             NULL|            0|\n",
            "|     0|   3340545.04|  2.268229188E7|           332.44|2230234721292|\n",
            "+------+-------------+---------------+-----------------+-------------+\n",
            "\n",
            "+------+-----------+-------------+---------------+----------+\n",
            "|LabelT|LabelT_mean|LabelT_sttdev|LabelT_skewness|LabelT_sum|\n",
            "+------+-----------+-------------+---------------+----------+\n",
            "|     1|        1.0|          0.0|           NULL|    380949|\n",
            "|     0|        0.0|          0.0|           NULL|         0|\n",
            "+------+-----------+-------------+---------------+----------+\n",
            "\n",
            "+------+-----------------+-------------------+---------------------+----------------+\n",
            "|LabelT|Timestamp_ix_mean|Timestamp_ix_sttdev|Timestamp_ix_skewness|Timestamp_ix_sum|\n",
            "+------+-----------------+-------------------+---------------------+----------------+\n",
            "|     1|          7080.16|            3981.26|                 0.07|   2.697181673E9|\n",
            "|     0|          9549.72|            8296.49|                 0.59|    6.37564193E9|\n",
            "+------+-----------------+-------------------+---------------------+----------------+\n",
            "\n"
          ]
        }
      ],
      "source": [
        "# Calculating \"mean\" ('avg\"), \"sttdev\", \"skewness\" and their count of the data divided by label\n",
        "for col in Group5_drop_df.columns:\n",
        "  Group5_drop_df.groupBy(\"LabelT\").agg(\n",
        "                                        round(mean(col), 2).alias((col) + \"_mean\"),\n",
        "                                        round(stddev(col), 2).alias((col)+ \"_sttdev\"),\n",
        "                                        round(skewness(col), 2).alias((col)+ \"_skewness\"),\n",
        "                                        round(sum(col), 2).alias( (col)+ \"_sum\")\n",
        "  ).show()"
      ]
    },
    {
      "cell_type": "markdown",
      "metadata": {
        "id": "LXIRnhWg-TRD"
      },
      "source": [
        "\n",
        "\n",
        "Calculating the \"average\" (\"sum\"), \"mean\", and \"sttdev\" of the values of each column depending on whether they belong to label \"0\" or label \"1\", allows us to visualise how far or how close they are from each other and determine if they can belong to two different clusters. If they belong to two differentiated clusters, then that is data I want to use to train the model as both labels are identified.\n",
        "\n",
        "\"Skewness\" indicates if the values spread at any side of the core of the dataset. The dataset is skewed when the data points on a bell curve are not symmetrically distributed.\n"
      ]
    },
    {
      "cell_type": "code",
      "source": [
        "# Drop the columns I will not use for training my model.\n",
        "# I create a new dataframe G5 with only the columns with the best data to train the model.\n",
        "cols_to_keep = [\"LabelT\", \"Timestamp_ix\", \"Dst Port\", \"Protocol\",\n",
        "                  \"Tot Fwd Pkts\", \"Tot Bwd Pkts\", \"TotLen Fwd Pkts\",\n",
        "                  \"Fwd Pkt Len Min\", \"Fwd Pkt Len Mean\", \"Fwd Pkt Len Std\",\n",
        "                  \"Bwd Pkt Len Max\", \"Bwd Pkt Len Min\", \"TotLen Bwd Pkts\"\n",
        "                  \"TotLen Bwd Pkts\",\"Bwd Pkt Len Mean\",\"Bwd Pkt Len Std\"\n",
        "                  \"Flow IAT Mean\",\"Flow IAT Std\", \"Flow IAT Max\",\n",
        "                  \"Flow IAT Min\", \"Fwd IAT Tot\", \"Bwd IAT Tot\", \"Fwd IAT Mean\",\n",
        "                  \"Fwd IAT Std\", \"Fwd IAT Std\", \"Fwd IAT Max\", \"Fwd IAT Min\",\n",
        "                  \"Bwd IAT Tot\", \"Bwd IAT Mean\", \"Bwd IAT Std\", \"Bwd IAT Max\",\n",
        "                  \"Bwd IAT Min\", \"Bwd Header Len\", \"Fwd Pkts/s\", \"Bwd Pkts/s\",\n",
        "                  \"Pkt Len Min\", \"Pkt Len Max\", \"Pkt Len Mean\", \"Pkt Len Std\",\n",
        "                  \"Pkt Len Var\",\"Fwd Seg Size Avg\", \"Bwd Seg Size Avg\",\n",
        "                  \"Subflow Fwd Byts\", \"Subflow Bwd Pkts\", \"Subflow Bwd Pkts\",\n",
        "                  \"Init Fwd Win Byts\",\"Pkt Size Avg\", \"Active Mean\",\n",
        "                  \"Active Std\", \"Active Max\", \"Active Min\", \"Idle Mean\",\n",
        "                  \"Idle Min\", \"Idle Mean\"\n",
        "]\n",
        "input_cols = [col for col in Group5_drop_df.columns if col in cols_to_keep]\n",
        "G5_df = Group5_drop_df[input_cols]\n",
        "G5_df.show(5)"
      ],
      "metadata": {
        "colab": {
          "base_uri": "https://localhost:8080/"
        },
        "id": "_fSvYM3_wqDI",
        "outputId": "4cb1ba17-47a5-46ee-bd37-726532a1ad75"
      },
      "execution_count": null,
      "outputs": [
        {
          "output_type": "stream",
          "name": "stdout",
          "text": [
            "+--------+--------+------------+------------+---------------+---------------+----------------+---------------+---------------+---------------+----------------+----------------+------------+------------+-----------+----------------+----------------+-----------+-----------+-----------+----------------+----------------+-----------+-----------+--------------+------------+------------+-----------+-----------+--------------+--------------+----------------+------------+----------------+----------------+----------------+----------------+-----------------+-----------+----------+----------+----------+------------+--------+------+------------+\n",
            "|Dst Port|Protocol|Tot Fwd Pkts|Tot Bwd Pkts|TotLen Fwd Pkts|Fwd Pkt Len Min|Fwd Pkt Len Mean|Fwd Pkt Len Std|Bwd Pkt Len Max|Bwd Pkt Len Min|Bwd Pkt Len Mean|    Flow IAT Std|Flow IAT Max|Flow IAT Min|Fwd IAT Tot|    Fwd IAT Mean|     Fwd IAT Std|Fwd IAT Max|Fwd IAT Min|Bwd IAT Tot|    Bwd IAT Mean|     Bwd IAT Std|Bwd IAT Max|Bwd IAT Min|Bwd Header Len|  Fwd Pkts/s|  Bwd Pkts/s|Pkt Len Min|Pkt Len Max|  Pkt Len Mean|   Pkt Len Std|     Pkt Len Var|Pkt Size Avg|Fwd Seg Size Avg|Bwd Seg Size Avg|Subflow Fwd Byts|Subflow Bwd Pkts|Init Fwd Win Byts|Active Mean|Active Std|Active Max|Active Min|   Idle Mean|Idle Min|LabelT|Timestamp_ix|\n",
            "+--------+--------+------------+------------+---------------+---------------+----------------+---------------+---------------+---------------+----------------+----------------+------------+------------+-----------+----------------+----------------+-----------+-----------+-----------+----------------+----------------+-----------+-----------+--------------+------------+------------+-----------+-----------+--------------+--------------+----------------+------------+----------------+----------------+----------------+----------------+-----------------+-----------+----------+----------+----------+------------+--------+------+------------+\n",
            "|       0|       0|           3|           0|              0|              0|             0.0|            0.0|              0|              0|             0.0|  139.3000358938|    56320958|    56320761|  112641719|    5.63208595E7|  139.3000358938|   56320958|   56320761|          0|             0.0|             0.0|          0|          0|             0|0.0266331163|         0.0|          0|          0|           0.0|           0.0|             0.0|         0.0|             0.0|             0.0|               0|               0|               -1|        0.0|       0.0|         0|         0|5.63208595E7|56320761|     0|      3707.0|\n",
            "|       0|       0|           3|           0|              0|              0|             0.0|            0.0|              0|              0|             0.0|  114.5512985522|    56320814|    56320652|  112641466|     5.6320733E7|  114.5512985522|   56320814|   56320652|          0|             0.0|             0.0|          0|          0|             0|0.0266331761|         0.0|          0|          0|           0.0|           0.0|             0.0|         0.0|             0.0|             0.0|               0|               0|               -1|        0.0|       0.0|         0|         0| 5.6320733E7|56320652|     0|     14238.0|\n",
            "|       0|       0|           3|           0|              0|              0|             0.0|            0.0|              0|              0|             0.0|  301.9345955667|    56319525|    56319098|  112638623|    5.63193115E7|  301.9345955667|   56319525|   56319098|          0|             0.0|             0.0|          0|          0|             0|0.0266338483|         0.0|          0|          0|           0.0|           0.0|             0.0|         0.0|             0.0|             0.0|               0|               0|               -1|        0.0|       0.0|         0|         0|5.63193115E7|56319098|     0|     21794.0|\n",
            "|      22|       6|          15|          10|           1239|              0|            82.6| 196.7412368715|            976|              0|           227.3|247443.778966007|      673900|          22|    6453966|460997.571428571|123109.423587757|     673900|     229740|    5637902|626433.555555556| 455082.21422401|    1167293|        554|           328|2.3241523119|1.5494348746|          0|        976|135.0769230769|277.8347599674|77192.1538461539|      140.48|            82.6|           227.3|            1239|              10|            65535|        0.0|       0.0|         0|         0|         0.0|       0|     0|     17562.0|\n",
            "|      22|       6|          14|          11|           1143|              0|   81.6428571429| 203.7455453568|            976|              0|  200.8181818182|511356.609732762|     1928102|          21|    8804066|677235.846153846|532416.970958985|    1928102|     246924|    7715481|        771548.1|755543.082716951|    2174893|         90|           360|1.5901743581|1.2494227099|          0|        976|128.9230769231|279.7630315931|78267.3538461539|      134.08|   81.6428571429|  200.8181818182|            1143|              11|             5808|        0.0|       0.0|         0|         0|         0.0|       0|     0|     10091.0|\n",
            "+--------+--------+------------+------------+---------------+---------------+----------------+---------------+---------------+---------------+----------------+----------------+------------+------------+-----------+----------------+----------------+-----------+-----------+-----------+----------------+----------------+-----------+-----------+--------------+------------+------------+-----------+-----------+--------------+--------------+----------------+------------+----------------+----------------+----------------+----------------+-----------------+-----------+----------+----------+----------+------------+--------+------+------------+\n",
            "only showing top 5 rows\n",
            "\n"
          ]
        }
      ]
    },
    {
      "cell_type": "markdown",
      "source": [
        "In this part, we create a new variable, \"cols_to_keep\", to specify the columns we wish to keep in my data frame after considering their data is relevant to the training done to the model. In the variable \"input_cols\", we give the condition that if the columns are in the \"cols_to_keep\" variable, then they are in the \"input_cols\". We rename the data frame to \"G5_drop_df\". We define the columns of the new data frame as \"input_cols\" and then call \"show\" to visualise the data."
      ],
      "metadata": {
        "id": "cbt0tbGvwvv7"
      }
    },
    {
      "cell_type": "code",
      "execution_count": null,
      "metadata": {
        "colab": {
          "base_uri": "https://localhost:8080/"
        },
        "id": "T9Z2A5TPZRKd",
        "outputId": "00569dc1-4022-4100-fc6a-5bb39fc0aa5d"
      },
      "outputs": [
        {
          "output_type": "stream",
          "name": "stdout",
          "text": [
            "+--------+--------+------------+------------+---------------+---------------+----------------+---------------+---------------+---------------+----------------+------------+------------+------------+-----------+------------+-----------+-----------+-----------+-----------+------------+-----------+-----------+-----------+--------------+----------+----------+-----------+-----------+------------+-----------+-----------+------------+----------------+----------------+----------------+----------------+-----------------+-----------+----------+----------+----------+------------+--------+------+------------+\n",
            "|Dst Port|Protocol|Tot Fwd Pkts|Tot Bwd Pkts|TotLen Fwd Pkts|Fwd Pkt Len Min|Fwd Pkt Len Mean|Fwd Pkt Len Std|Bwd Pkt Len Max|Bwd Pkt Len Min|Bwd Pkt Len Mean|Flow IAT Std|Flow IAT Max|Flow IAT Min|Fwd IAT Tot|Fwd IAT Mean|Fwd IAT Std|Fwd IAT Max|Fwd IAT Min|Bwd IAT Tot|Bwd IAT Mean|Bwd IAT Std|Bwd IAT Max|Bwd IAT Min|Bwd Header Len|Fwd Pkts/s|Bwd Pkts/s|Pkt Len Min|Pkt Len Max|Pkt Len Mean|Pkt Len Std|Pkt Len Var|Pkt Size Avg|Fwd Seg Size Avg|Bwd Seg Size Avg|Subflow Fwd Byts|Subflow Bwd Pkts|Init Fwd Win Byts|Active Mean|Active Std|Active Max|Active Min|   Idle Mean|Idle Min|LabelT|Timestamp_ix|\n",
            "+--------+--------+------------+------------+---------------+---------------+----------------+---------------+---------------+---------------+----------------+------------+------------+------------+-----------+------------+-----------+-----------+-----------+-----------+------------+-----------+-----------+-----------+--------------+----------+----------+-----------+-----------+------------+-----------+-----------+------------+----------------+----------------+----------------+----------------+-----------------+-----------+----------+----------+----------+------------+--------+------+------------+\n",
            "|       0|       0|           3|           0|              0|              0|             0.0|            0.0|              0|              0|             0.0|       139.3|    56320958|    56320761|  112641719|5.63208595E7|      139.3|   56320958|   56320761|          0|         0.0|        0.0|          0|          0|             0|      0.03|       0.0|          0|          0|         0.0|        0.0|        0.0|         0.0|             0.0|             0.0|               0|               0|               -1|        0.0|       0.0|         0|         0|5.63208595E7|56320761|     0|      3707.0|\n",
            "|       0|       0|           3|           0|              0|              0|             0.0|            0.0|              0|              0|             0.0|      114.55|    56320814|    56320652|  112641466| 5.6320733E7|     114.55|   56320814|   56320652|          0|         0.0|        0.0|          0|          0|             0|      0.03|       0.0|          0|          0|         0.0|        0.0|        0.0|         0.0|             0.0|             0.0|               0|               0|               -1|        0.0|       0.0|         0|         0| 5.6320733E7|56320652|     0|     14238.0|\n",
            "|       0|       0|           3|           0|              0|              0|             0.0|            0.0|              0|              0|             0.0|      301.93|    56319525|    56319098|  112638623|5.63193115E7|     301.93|   56319525|   56319098|          0|         0.0|        0.0|          0|          0|             0|      0.03|       0.0|          0|          0|         0.0|        0.0|        0.0|         0.0|             0.0|             0.0|               0|               0|               -1|        0.0|       0.0|         0|         0|5.63193115E7|56319098|     0|     21794.0|\n",
            "|      22|       6|          15|          10|           1239|              0|            82.6|         196.74|            976|              0|           227.3|   247443.78|      673900|          22|    6453966|   460997.57|  123109.42|     673900|     229740|    5637902|   626433.56|  455082.21|    1167293|        554|           328|      2.32|      1.55|          0|        976|      135.08|     277.83|   77192.15|      140.48|            82.6|           227.3|            1239|              10|            65535|        0.0|       0.0|         0|         0|         0.0|       0|     0|     17562.0|\n",
            "|      22|       6|          14|          11|           1143|              0|           81.64|         203.75|            976|              0|          200.82|   511356.61|     1928102|          21|    8804066|   677235.85|  532416.97|    1928102|     246924|    7715481|    771548.1|  755543.08|    2174893|         90|           360|      1.59|      1.25|          0|        976|      128.92|     279.76|   78267.35|      134.08|           81.64|          200.82|            1143|              11|             5808|        0.0|       0.0|         0|         0|         0.0|       0|     0|     10091.0|\n",
            "+--------+--------+------------+------------+---------------+---------------+----------------+---------------+---------------+---------------+----------------+------------+------------+------------+-----------+------------+-----------+-----------+-----------+-----------+------------+-----------+-----------+-----------+--------------+----------+----------+-----------+-----------+------------+-----------+-----------+------------+----------------+----------------+----------------+----------------+-----------------+-----------+----------+----------+----------+------------+--------+------+------------+\n",
            "only showing top 5 rows\n",
            "\n"
          ]
        }
      ],
      "source": [
        "# For better visibility, I round to 2 decimals all the data.\n",
        "# Doing this I will loose a bit of precision in my results, but with this dataset I can do that.\n",
        "# Only data with Exponential keeps the exponential.\n",
        "# Data is much cleaner now and easier to read.\n",
        "\n",
        "for column in G5_df.columns:\n",
        "  G5_df = G5_df.withColumn(column,round(G5_df[column], 2))\n",
        "G5_df.show(5)"
      ]
    },
    {
      "cell_type": "markdown",
      "metadata": {
        "id": "13skTsi7-b3N"
      },
      "source": [
        "With the code \"2\" I am indicating I want to have two decimals in the values with decimals."
      ]
    },
    {
      "cell_type": "code",
      "execution_count": null,
      "metadata": {
        "colab": {
          "base_uri": "https://localhost:8080/"
        },
        "id": "PsO4gFXKZTy7",
        "outputId": "d23e5684-6547-4016-9ea8-67357aeef871"
      },
      "outputs": [
        {
          "output_type": "execute_result",
          "data": {
            "text/plain": [
              "1048575"
            ]
          },
          "metadata": {},
          "execution_count": 31
        }
      ],
      "source": [
        "G5_df.count()"
      ]
    },
    {
      "cell_type": "markdown",
      "metadata": {
        "id": "QDkiAYGWZoLW"
      },
      "source": [
        "VECTOR ASSEMBLER"
      ]
    },
    {
      "cell_type": "markdown",
      "source": [
        "Using Vector Assembler allows us to combine all data in one vector data. All the data is under \"Features\". It allows us to handle this amount of data using less memory."
      ],
      "metadata": {
        "id": "ODm3ZRQBxPy-"
      }
    },
    {
      "cell_type": "code",
      "execution_count": null,
      "metadata": {
        "id": "dFlIQE4CZsqU",
        "colab": {
          "base_uri": "https://localhost:8080/"
        },
        "outputId": "1ab5d05d-1812-435b-9ff4-4b0be7fd6792"
      },
      "outputs": [
        {
          "output_type": "stream",
          "name": "stdout",
          "text": [
            "+--------+--------+------------+------------+---------------+---------------+----------------+---------------+---------------+---------------+----------------+------------+------------+------------+------------+------------+-----------+-----------+-----------+-----------+------------+-----------+-----------+-----------+--------------+----------+----------+-----------+-----------+------------+-----------+-----------+------------+----------------+----------------+----------------+----------------+-----------------+-----------+----------+----------+----------+------------+-----------+------+------------+\n",
            "|Dst Port|Protocol|Tot Fwd Pkts|Tot Bwd Pkts|TotLen Fwd Pkts|Fwd Pkt Len Min|Fwd Pkt Len Mean|Fwd Pkt Len Std|Bwd Pkt Len Max|Bwd Pkt Len Min|Bwd Pkt Len Mean|Flow IAT Std|Flow IAT Max|Flow IAT Min| Fwd IAT Tot|Fwd IAT Mean|Fwd IAT Std|Fwd IAT Max|Fwd IAT Min|Bwd IAT Tot|Bwd IAT Mean|Bwd IAT Std|Bwd IAT Max|Bwd IAT Min|Bwd Header Len|Fwd Pkts/s|Bwd Pkts/s|Pkt Len Min|Pkt Len Max|Pkt Len Mean|Pkt Len Std|Pkt Len Var|Pkt Size Avg|Fwd Seg Size Avg|Bwd Seg Size Avg|Subflow Fwd Byts|Subflow Bwd Pkts|Init Fwd Win Byts|Active Mean|Active Std|Active Max|Active Min|   Idle Mean|   Idle Min|LabelT|Timestamp_ix|\n",
            "+--------+--------+------------+------------+---------------+---------------+----------------+---------------+---------------+---------------+----------------+------------+------------+------------+------------+------------+-----------+-----------+-----------+-----------+------------+-----------+-----------+-----------+--------------+----------+----------+-----------+-----------+------------+-----------+-----------+------------+----------------+----------------+----------------+----------------+-----------------+-----------+----------+----------+----------+------------+-----------+------+------------+\n",
            "|     0.0|     0.0|         3.0|         0.0|            0.0|            0.0|             0.0|            0.0|            0.0|            0.0|             0.0|       139.3| 5.6320958E7| 5.6320761E7|1.12641719E8|5.63208595E7|      139.3|5.6320958E7|5.6320761E7|        0.0|         0.0|        0.0|        0.0|        0.0|           0.0|      0.03|       0.0|        0.0|        0.0|         0.0|        0.0|        0.0|         0.0|             0.0|             0.0|             0.0|             0.0|             -1.0|        0.0|       0.0|       0.0|       0.0|5.63208595E7|5.6320761E7|   0.0|      3707.0|\n",
            "|     0.0|     0.0|         3.0|         0.0|            0.0|            0.0|             0.0|            0.0|            0.0|            0.0|             0.0|      114.55| 5.6320814E7| 5.6320652E7|1.12641466E8| 5.6320733E7|     114.55|5.6320814E7|5.6320652E7|        0.0|         0.0|        0.0|        0.0|        0.0|           0.0|      0.03|       0.0|        0.0|        0.0|         0.0|        0.0|        0.0|         0.0|             0.0|             0.0|             0.0|             0.0|             -1.0|        0.0|       0.0|       0.0|       0.0| 5.6320733E7|5.6320652E7|   0.0|     14238.0|\n",
            "|     0.0|     0.0|         3.0|         0.0|            0.0|            0.0|             0.0|            0.0|            0.0|            0.0|             0.0|      301.93| 5.6319525E7| 5.6319098E7|1.12638623E8|5.63193115E7|     301.93|5.6319525E7|5.6319098E7|        0.0|         0.0|        0.0|        0.0|        0.0|           0.0|      0.03|       0.0|        0.0|        0.0|         0.0|        0.0|        0.0|         0.0|             0.0|             0.0|             0.0|             0.0|             -1.0|        0.0|       0.0|       0.0|       0.0|5.63193115E7|5.6319098E7|   0.0|     21794.0|\n",
            "|    22.0|     6.0|        15.0|        10.0|         1239.0|            0.0|            82.6|         196.74|          976.0|            0.0|           227.3|   247443.78|    673900.0|        22.0|   6453966.0|   460997.57|  123109.42|   673900.0|   229740.0|  5637902.0|   626433.56|  455082.21|  1167293.0|      554.0|         328.0|      2.32|      1.55|        0.0|      976.0|      135.08|     277.83|   77192.15|      140.48|            82.6|           227.3|          1239.0|            10.0|          65535.0|        0.0|       0.0|       0.0|       0.0|         0.0|        0.0|   0.0|     17562.0|\n",
            "|    22.0|     6.0|        14.0|        11.0|         1143.0|            0.0|           81.64|         203.75|          976.0|            0.0|          200.82|   511356.61|   1928102.0|        21.0|   8804066.0|   677235.85|  532416.97|  1928102.0|   246924.0|  7715481.0|    771548.1|  755543.08|  2174893.0|       90.0|         360.0|      1.59|      1.25|        0.0|      976.0|      128.92|     279.76|   78267.35|      134.08|           81.64|          200.82|          1143.0|            11.0|           5808.0|        0.0|       0.0|       0.0|       0.0|         0.0|        0.0|   0.0|     10091.0|\n",
            "+--------+--------+------------+------------+---------------+---------------+----------------+---------------+---------------+---------------+----------------+------------+------------+------------+------------+------------+-----------+-----------+-----------+-----------+------------+-----------+-----------+-----------+--------------+----------+----------+-----------+-----------+------------+-----------+-----------+------------+----------------+----------------+----------------+----------------+-----------------+-----------+----------+----------+----------+------------+-----------+------+------------+\n",
            "only showing top 5 rows\n",
            "\n"
          ]
        }
      ],
      "source": [
        "# \"Double\": Float values of 64bits.\n",
        "from pyspark.sql.functions import col\n",
        "for column in G5_df.columns:\n",
        "  G5_df = G5_df.withColumn(column, col(column).cast(\"double\"))\n",
        "G5_df.show(5)"
      ]
    },
    {
      "cell_type": "markdown",
      "metadata": {
        "id": "NrPeVXZI--L8"
      },
      "source": [
        "The code \"double\" changes the data in float values of 64 bits. Doubles have high precision."
      ]
    },
    {
      "cell_type": "code",
      "execution_count": null,
      "metadata": {
        "colab": {
          "base_uri": "https://localhost:8080/"
        },
        "id": "Sahwfa9eZurw",
        "outputId": "eaaf9637-53a7-4415-d426-5113c96f5656"
      },
      "outputs": [
        {
          "output_type": "stream",
          "name": "stdout",
          "text": [
            "root\n",
            " |-- Dst Port: double (nullable = true)\n",
            " |-- Protocol: double (nullable = true)\n",
            " |-- Tot Fwd Pkts: double (nullable = true)\n",
            " |-- Tot Bwd Pkts: double (nullable = true)\n",
            " |-- TotLen Fwd Pkts: double (nullable = true)\n",
            " |-- Fwd Pkt Len Min: double (nullable = true)\n",
            " |-- Fwd Pkt Len Mean: double (nullable = true)\n",
            " |-- Fwd Pkt Len Std: double (nullable = true)\n",
            " |-- Bwd Pkt Len Max: double (nullable = true)\n",
            " |-- Bwd Pkt Len Min: double (nullable = true)\n",
            " |-- Bwd Pkt Len Mean: double (nullable = true)\n",
            " |-- Flow IAT Std: double (nullable = true)\n",
            " |-- Flow IAT Max: double (nullable = true)\n",
            " |-- Flow IAT Min: double (nullable = true)\n",
            " |-- Fwd IAT Tot: double (nullable = true)\n",
            " |-- Fwd IAT Mean: double (nullable = true)\n",
            " |-- Fwd IAT Std: double (nullable = true)\n",
            " |-- Fwd IAT Max: double (nullable = true)\n",
            " |-- Fwd IAT Min: double (nullable = true)\n",
            " |-- Bwd IAT Tot: double (nullable = true)\n",
            " |-- Bwd IAT Mean: double (nullable = true)\n",
            " |-- Bwd IAT Std: double (nullable = true)\n",
            " |-- Bwd IAT Max: double (nullable = true)\n",
            " |-- Bwd IAT Min: double (nullable = true)\n",
            " |-- Bwd Header Len: double (nullable = true)\n",
            " |-- Fwd Pkts/s: double (nullable = true)\n",
            " |-- Bwd Pkts/s: double (nullable = true)\n",
            " |-- Pkt Len Min: double (nullable = true)\n",
            " |-- Pkt Len Max: double (nullable = true)\n",
            " |-- Pkt Len Mean: double (nullable = true)\n",
            " |-- Pkt Len Std: double (nullable = true)\n",
            " |-- Pkt Len Var: double (nullable = true)\n",
            " |-- Pkt Size Avg: double (nullable = true)\n",
            " |-- Fwd Seg Size Avg: double (nullable = true)\n",
            " |-- Bwd Seg Size Avg: double (nullable = true)\n",
            " |-- Subflow Fwd Byts: double (nullable = true)\n",
            " |-- Subflow Bwd Pkts: double (nullable = true)\n",
            " |-- Init Fwd Win Byts: double (nullable = true)\n",
            " |-- Active Mean: double (nullable = true)\n",
            " |-- Active Std: double (nullable = true)\n",
            " |-- Active Max: double (nullable = true)\n",
            " |-- Active Min: double (nullable = true)\n",
            " |-- Idle Mean: double (nullable = true)\n",
            " |-- Idle Min: double (nullable = true)\n",
            " |-- LabelT: double (nullable = true)\n",
            " |-- Timestamp_ix: double (nullable = true)\n",
            "\n"
          ]
        }
      ],
      "source": [
        "G5_df.printSchema()"
      ]
    },
    {
      "cell_type": "code",
      "execution_count": null,
      "metadata": {
        "colab": {
          "base_uri": "https://localhost:8080/"
        },
        "id": "YNF9gZrGZwus",
        "outputId": "00c7e667-cf01-405c-c53b-d857b62028f9"
      },
      "outputs": [
        {
          "output_type": "stream",
          "name": "stdout",
          "text": [
            "+--------+--------+------------+------------+---------------+---------------+----------------+---------------+---------------+---------------+----------------+------------+------------+------------+------------+------------+-----------+-----------+-----------+-----------+------------+-----------+-----------+-----------+--------------+----------+----------+-----------+-----------+------------+-----------+-----------+------------+----------------+----------------+----------------+----------------+-----------------+-----------+----------+----------+----------+------------+-----------+------+------------+\n",
            "|Dst Port|Protocol|Tot Fwd Pkts|Tot Bwd Pkts|TotLen Fwd Pkts|Fwd Pkt Len Min|Fwd Pkt Len Mean|Fwd Pkt Len Std|Bwd Pkt Len Max|Bwd Pkt Len Min|Bwd Pkt Len Mean|Flow IAT Std|Flow IAT Max|Flow IAT Min| Fwd IAT Tot|Fwd IAT Mean|Fwd IAT Std|Fwd IAT Max|Fwd IAT Min|Bwd IAT Tot|Bwd IAT Mean|Bwd IAT Std|Bwd IAT Max|Bwd IAT Min|Bwd Header Len|Fwd Pkts/s|Bwd Pkts/s|Pkt Len Min|Pkt Len Max|Pkt Len Mean|Pkt Len Std|Pkt Len Var|Pkt Size Avg|Fwd Seg Size Avg|Bwd Seg Size Avg|Subflow Fwd Byts|Subflow Bwd Pkts|Init Fwd Win Byts|Active Mean|Active Std|Active Max|Active Min|   Idle Mean|   Idle Min|LabelT|Timestamp_ix|\n",
            "+--------+--------+------------+------------+---------------+---------------+----------------+---------------+---------------+---------------+----------------+------------+------------+------------+------------+------------+-----------+-----------+-----------+-----------+------------+-----------+-----------+-----------+--------------+----------+----------+-----------+-----------+------------+-----------+-----------+------------+----------------+----------------+----------------+----------------+-----------------+-----------+----------+----------+----------+------------+-----------+------+------------+\n",
            "|     0.0|     0.0|         3.0|         0.0|            0.0|            0.0|             0.0|            0.0|            0.0|            0.0|             0.0|       139.3| 5.6320958E7| 5.6320761E7|1.12641719E8|5.63208595E7|      139.3|5.6320958E7|5.6320761E7|        0.0|         0.0|        0.0|        0.0|        0.0|           0.0|      0.03|       0.0|        0.0|        0.0|         0.0|        0.0|        0.0|         0.0|             0.0|             0.0|             0.0|             0.0|             -1.0|        0.0|       0.0|       0.0|       0.0|5.63208595E7|5.6320761E7|   0.0|      3707.0|\n",
            "|     0.0|     0.0|         3.0|         0.0|            0.0|            0.0|             0.0|            0.0|            0.0|            0.0|             0.0|      114.55| 5.6320814E7| 5.6320652E7|1.12641466E8| 5.6320733E7|     114.55|5.6320814E7|5.6320652E7|        0.0|         0.0|        0.0|        0.0|        0.0|           0.0|      0.03|       0.0|        0.0|        0.0|         0.0|        0.0|        0.0|         0.0|             0.0|             0.0|             0.0|             0.0|             -1.0|        0.0|       0.0|       0.0|       0.0| 5.6320733E7|5.6320652E7|   0.0|     14238.0|\n",
            "|     0.0|     0.0|         3.0|         0.0|            0.0|            0.0|             0.0|            0.0|            0.0|            0.0|             0.0|      301.93| 5.6319525E7| 5.6319098E7|1.12638623E8|5.63193115E7|     301.93|5.6319525E7|5.6319098E7|        0.0|         0.0|        0.0|        0.0|        0.0|           0.0|      0.03|       0.0|        0.0|        0.0|         0.0|        0.0|        0.0|         0.0|             0.0|             0.0|             0.0|             0.0|             -1.0|        0.0|       0.0|       0.0|       0.0|5.63193115E7|5.6319098E7|   0.0|     21794.0|\n",
            "|    22.0|     6.0|        15.0|        10.0|         1239.0|            0.0|            82.6|         196.74|          976.0|            0.0|           227.3|   247443.78|    673900.0|        22.0|   6453966.0|   460997.57|  123109.42|   673900.0|   229740.0|  5637902.0|   626433.56|  455082.21|  1167293.0|      554.0|         328.0|      2.32|      1.55|        0.0|      976.0|      135.08|     277.83|   77192.15|      140.48|            82.6|           227.3|          1239.0|            10.0|          65535.0|        0.0|       0.0|       0.0|       0.0|         0.0|        0.0|   0.0|     17562.0|\n",
            "|    22.0|     6.0|        14.0|        11.0|         1143.0|            0.0|           81.64|         203.75|          976.0|            0.0|          200.82|   511356.61|   1928102.0|        21.0|   8804066.0|   677235.85|  532416.97|  1928102.0|   246924.0|  7715481.0|    771548.1|  755543.08|  2174893.0|       90.0|         360.0|      1.59|      1.25|        0.0|      976.0|      128.92|     279.76|   78267.35|      134.08|           81.64|          200.82|          1143.0|            11.0|           5808.0|        0.0|       0.0|       0.0|       0.0|         0.0|        0.0|   0.0|     10091.0|\n",
            "+--------+--------+------------+------------+---------------+---------------+----------------+---------------+---------------+---------------+----------------+------------+------------+------------+------------+------------+-----------+-----------+-----------+-----------+------------+-----------+-----------+-----------+--------------+----------+----------+-----------+-----------+------------+-----------+-----------+------------+----------------+----------------+----------------+----------------+-----------------+-----------+----------+----------+----------+------------+-----------+------+------------+\n",
            "only showing top 5 rows\n",
            "\n"
          ]
        }
      ],
      "source": [
        "G5_df.show(5)"
      ]
    },
    {
      "cell_type": "code",
      "execution_count": null,
      "metadata": {
        "colab": {
          "base_uri": "https://localhost:8080/"
        },
        "id": "7Po3ZKaqZxFR",
        "outputId": "d5d674e0-cb50-4fab-9270-3e56724f2f49"
      },
      "outputs": [
        {
          "output_type": "execute_result",
          "data": {
            "text/plain": [
              "1048575"
            ]
          },
          "metadata": {},
          "execution_count": 35
        }
      ],
      "source": [
        " # Count data after dropping some columns.\n",
        " G5_df.count()"
      ]
    },
    {
      "cell_type": "code",
      "execution_count": null,
      "metadata": {
        "colab": {
          "base_uri": "https://localhost:8080/"
        },
        "id": "JtBLwCMZZztC",
        "outputId": "2588c51c-ab22-4c69-aaa1-ba866a44faa2"
      },
      "outputs": [
        {
          "output_type": "stream",
          "name": "stdout",
          "text": [
            "+-----------------------------------------------------------------------------------------------------------------------------------------------------------------------------------------------------------------------------------------------------------------------------------------------------------+------+\n",
            "|Features                                                                                                                                                                                                                                                                                                   |LabelT|\n",
            "+-----------------------------------------------------------------------------------------------------------------------------------------------------------------------------------------------------------------------------------------------------------------------------------------------------------+------+\n",
            "|(45,[2,11,12,13,14,15,16,17,18,25,37,42,43,44],[3.0,139.3,5.6320958E7,5.6320761E7,1.12641719E8,5.63208595E7,139.3,5.6320958E7,5.6320761E7,0.03,-1.0,5.63208595E7,5.6320761E7,3707.0])                                                                                                                      |0.0   |\n",
            "|(45,[2,11,12,13,14,15,16,17,18,25,37,42,43,44],[3.0,114.55,5.6320814E7,5.6320652E7,1.12641466E8,5.6320733E7,114.55,5.6320814E7,5.6320652E7,0.03,-1.0,5.6320733E7,5.6320652E7,14238.0])                                                                                                                     |0.0   |\n",
            "|(45,[2,11,12,13,14,15,16,17,18,25,37,42,43,44],[3.0,301.93,5.6319525E7,5.6319098E7,1.12638623E8,5.63193115E7,301.93,5.6319525E7,5.6319098E7,0.03,-1.0,5.63193115E7,5.6319098E7,21794.0])                                                                                                                   |0.0   |\n",
            "|[22.0,6.0,15.0,10.0,1239.0,0.0,82.6,196.74,976.0,0.0,227.3,247443.78,673900.0,22.0,6453966.0,460997.57,123109.42,673900.0,229740.0,5637902.0,626433.56,455082.21,1167293.0,554.0,328.0,2.32,1.55,0.0,976.0,135.08,277.83,77192.15,140.48,82.6,227.3,1239.0,10.0,65535.0,0.0,0.0,0.0,0.0,0.0,0.0,17562.0]   |0.0   |\n",
            "|[22.0,6.0,14.0,11.0,1143.0,0.0,81.64,203.75,976.0,0.0,200.82,511356.61,1928102.0,21.0,8804066.0,677235.85,532416.97,1928102.0,246924.0,7715481.0,771548.1,755543.08,2174893.0,90.0,360.0,1.59,1.25,0.0,976.0,128.92,279.76,78267.35,134.08,81.64,200.82,1143.0,11.0,5808.0,0.0,0.0,0.0,0.0,0.0,0.0,10091.0]|0.0   |\n",
            "|[22.0,6.0,16.0,12.0,1239.0,0.0,77.44,190.83,976.0,0.0,189.42,291724.15,951098.0,20.0,6989341.0,465956.07,244363.9,951098.0,265831.0,5980598.0,543690.73,460713.52,1254338.0,78.0,252.0,2.29,1.72,0.0,976.0,121.1,265.71,70601.1,125.43,77.44,189.42,1239.0,12.0,5808.0,0.0,0.0,0.0,0.0,0.0,0.0,17188.0]    |0.0   |\n",
            "|(45,[2,11,12,13,14,15,16,17,18,25,37,42,43,44],[3.0,203.65,5.6320384E7,5.6320096E7,1.1264048E8,5.632024E7,203.65,5.6320384E7,5.6320096E7,0.03,-1.0,5.632024E7,5.6320096E7,4884.0])                                                                                                                         |0.0   |\n",
            "|(45,[2,11,12,13,14,15,16,17,18,25,37,42,43,44],[3.0,62.23,5.6320666E7,5.6320578E7,1.12641244E8,5.6320622E7,62.23,5.6320666E7,5.6320578E7,0.03,-1.0,5.6320622E7,5.6320578E7,13193.0])                                                                                                                       |0.0   |\n",
            "|[80.0,6.0,5.0,3.0,211.0,0.0,42.2,94.36,463.0,0.0,154.33,115865.79,237711.0,24.0,476513.0,119128.25,137379.96,238470.0,108.0,238634.0,119317.0,167621.08,237843.0,791.0,104.0,10.49,6.3,0.0,463.0,74.89,161.41,26051.86,84.25,42.2,154.33,211.0,3.0,14600.0,0.0,0.0,0.0,0.0,0.0,0.0,21813.0]                |0.0   |\n",
            "|[80.0,6.0,5.0,3.0,220.0,0.0,44.0,98.39,472.0,0.0,157.33,115746.93,237494.0,15.0,475048.0,118762.0,137096.76,237853.0,15.0,237516.0,118758.0,167472.58,237179.0,337.0,104.0,10.53,6.32,0.0,472.0,76.89,165.07,27247.11,86.5,44.0,157.33,220.0,3.0,14600.0,0.0,0.0,0.0,0.0,0.0,0.0,21166.0]                  |0.0   |\n",
            "+-----------------------------------------------------------------------------------------------------------------------------------------------------------------------------------------------------------------------------------------------------------------------------------------------------------+------+\n",
            "only showing top 10 rows\n",
            "\n"
          ]
        }
      ],
      "source": [
        "# Create a vectorassembler with all input features.\n",
        "features_cols = [col for col in G5_df.columns if col != \"LabelT\"]\n",
        "assembler = VectorAssembler(inputCols = features_cols, outputCol = \"Features\")\n",
        "d5 = assembler.transform(G5_df)\n",
        "d5 = d5.select(\"Features\", \"LabelT\")\n",
        "d5.show(10, truncate = False)"
      ]
    },
    {
      "cell_type": "markdown",
      "metadata": {
        "id": "zkU26aGC_FmM"
      },
      "source": [
        "We use \"vector assembler\" to aggregate the data in \"LabelT\" (which indicates the two different types of traffic we have) and \"Features\" (which holds the data of the entire dataset)."
      ]
    },
    {
      "cell_type": "code",
      "execution_count": null,
      "metadata": {
        "colab": {
          "base_uri": "https://localhost:8080/"
        },
        "id": "Ko7J-4KlnO6U",
        "outputId": "ae9bf271-07e3-4b76-8577-2c53b3f68716"
      },
      "outputs": [
        {
          "output_type": "stream",
          "name": "stdout",
          "text": [
            "[ 0.00000000e+00  0.00000000e+00  3.00000000e+00  0.00000000e+00\n",
            "  0.00000000e+00  0.00000000e+00  0.00000000e+00  0.00000000e+00\n",
            "  0.00000000e+00  0.00000000e+00  0.00000000e+00  1.39300000e+02\n",
            "  5.63209580e+07  5.63207610e+07  1.12641719e+08  5.63208595e+07\n",
            "  1.39300000e+02  5.63209580e+07  5.63207610e+07  0.00000000e+00\n",
            "  0.00000000e+00  0.00000000e+00  0.00000000e+00  0.00000000e+00\n",
            "  0.00000000e+00  3.00000000e-02  0.00000000e+00  0.00000000e+00\n",
            "  0.00000000e+00  0.00000000e+00  0.00000000e+00  0.00000000e+00\n",
            "  0.00000000e+00  0.00000000e+00  0.00000000e+00  0.00000000e+00\n",
            "  0.00000000e+00 -1.00000000e+00  0.00000000e+00  0.00000000e+00\n",
            "  0.00000000e+00  0.00000000e+00  5.63208595e+07  5.63207610e+07\n",
            "  3.70700000e+03]\n",
            "[ 0.00000000e+00  0.00000000e+00  3.00000000e+00  0.00000000e+00\n",
            "  0.00000000e+00  0.00000000e+00  0.00000000e+00  0.00000000e+00\n",
            "  0.00000000e+00  0.00000000e+00  0.00000000e+00  1.14550000e+02\n",
            "  5.63208140e+07  5.63206520e+07  1.12641466e+08  5.63207330e+07\n",
            "  1.14550000e+02  5.63208140e+07  5.63206520e+07  0.00000000e+00\n",
            "  0.00000000e+00  0.00000000e+00  0.00000000e+00  0.00000000e+00\n",
            "  0.00000000e+00  3.00000000e-02  0.00000000e+00  0.00000000e+00\n",
            "  0.00000000e+00  0.00000000e+00  0.00000000e+00  0.00000000e+00\n",
            "  0.00000000e+00  0.00000000e+00  0.00000000e+00  0.00000000e+00\n",
            "  0.00000000e+00 -1.00000000e+00  0.00000000e+00  0.00000000e+00\n",
            "  0.00000000e+00  0.00000000e+00  5.63207330e+07  5.63206520e+07\n",
            "  1.42380000e+04]\n"
          ]
        }
      ],
      "source": [
        "# Extract the values from Sparse Vectors to the list format.\n",
        "selected_d5 = d5.select(\"Features\").limit(2).collect()\n",
        "\n",
        "for row in selected_d5:\n",
        "  dense_vector = row[0].toArray()\n",
        "  print(dense_vector)"
      ]
    },
    {
      "cell_type": "markdown",
      "metadata": {
        "id": "ExZDTr_qnUfz"
      },
      "source": [
        "\"Dense vector\" contains a value for each dimension, representing its entry values."
      ]
    },
    {
      "cell_type": "code",
      "execution_count": null,
      "metadata": {
        "colab": {
          "base_uri": "https://localhost:8080/"
        },
        "id": "nAFqykpWnSXD",
        "outputId": "b3663cd9-2b79-40b5-8dba-9f9d1b6c2f03"
      },
      "outputs": [
        {
          "output_type": "stream",
          "name": "stdout",
          "text": [
            "DataFrame[Features: vector, LabelT: double, scaledFeatures: vector]\n",
            "+-----------------------------------------------------------------------------------------------------------------------------------------------------------------------------------------------------------------------------------------------------------------------------------------------------------------------------------------------------------------------------------------------------------------------------------------------------------------------------------------------------------------------------------------------------------------------------------------------------------------------------------------------------------------------------------------------------------------------------------------------------------------------------------+------+\n",
            "|scaledFeatures                                                                                                                                                                                                                                                                                                                                                                                                                                                                                                                                                                                                                                                                                                                                                                     |LabelT|\n",
            "+-----------------------------------------------------------------------------------------------------------------------------------------------------------------------------------------------------------------------------------------------------------------------------------------------------------------------------------------------------------------------------------------------------------------------------------------------------------------------------------------------------------------------------------------------------------------------------------------------------------------------------------------------------------------------------------------------------------------------------------------------------------------------------------+------+\n",
            "|(45,[2,11,12,13,14,15,16,17,18,25,37,42,43,44],[0.06744829905434696,1.899647884470881E-7,0.036808074955145556,0.034325065032614406,0.0893778369443324,0.1690045663725723,1.8996444621704036E-7,0.03680811424535853,0.034325054833179235,9.723638675268135E-8,-7.729712266680654E-5,0.10401320572244793,3.099633906207753,0.5191133492505751])                                                                                                                                                                                                                                                                                                                                                                                                                                      |0.0   |\n",
            "|(45,[2,11,12,13,14,15,16,17,18,25,37,42,43,44],[0.06744829905434696,1.5621296853276338E-7,0.03680798084519108,0.034324998601834314,0.08937763619639508,0.16900418677826504,1.5621268710812614E-7,0.03680802013530359,0.034324988402418884,9.723638675268135E-8,-7.729712266680654E-5,0.10401297210260191,3.0996279073524504,1.993832173355729])                                                                                                                                                                                                                                                                                                                                                                                                                                    |0.0   |\n",
            "|(45,[2,11,12,13,14,15,16,17,18,25,37,42,43,44],[0.06744829905434696,4.117449287568507E-7,0.036807138430390234,0.0343240515061255,0.08937538036087793,0.1689999212185198,4.1174418697997837E-7,0.03680717771960352,0.03432404130699148,9.723638675268135E-8,-7.729712266680654E-5,0.10401034688037969,3.0995423823878596,3.051943979920969])                                                                                                                                                                                                                                                                                                                                                                                                                                        |0.0   |\n",
            "|[0.0015231832643312591,1.3451030916839688,0.3372414952717348,0.09535780976760756,0.07873958306586953,0.0,1.5491691552624787,2.309457595955598,1.9762739063586112,0.0,1.4386087316607,3.3744153137292034E-4,4.4042151613032915E-4,1.3408047357838737E-8,0.0051210290992830575,0.0013833363891873763,1.6788523183346036E-4,4.404219862514965E-4,1.4001654021284616E-4,0.24969278360610944,0.27340350992695883,0.17417352401653746,0.14618480493292885,3.2769197291658444E-4,0.15589620093079531,7.519613908874024E-6,5.804577557169535E-6,0.0,1.9427415531901318,1.3409571067310164,1.8830591442658895,0.6593689261913449,1.3359706318326172,1.5491691552624787,1.4386087316607,0.07873958306586953,0.09535780976760756,5.065666933969166,0.0,0.0,0.0,0.0,0.0,0.0,2.4593117452221738]|0.0   |\n",
            "|[0.0015231832643312591,1.3451030916839688,0.3147587289202858,0.10489359074436833,0.07263869527384091,0.0,1.5311642837243193,2.391745375500422,1.9762739063586112,0.0,1.2710136625257444,6.973420692007906E-4,0.001260094385062947,1.2798590659755158E-8,0.0069857632001793304,0.0020322124374044827,7.260609825025454E-4,0.0012600957301312997,1.5048944100076966E-4,0.3417051108284693,0.3367379592777185,0.28916885322743924,0.2723706121385054,5.323515805504079E-5,0.1711055863874583,5.153528497892111E-6,4.681110933201237E-6,0.0,1.9427415531901318,1.2798059683133152,1.8961401799655375,0.668553195180367,1.2751063661454822,1.5311642837243193,1.2710136625257444,0.07263869527384091,0.10489359074436833,0.4489416884488124,0.0,0.0,0.0,0.0,0.0,0.0,1.4131029963009314] |0.0   |\n",
            "+-----------------------------------------------------------------------------------------------------------------------------------------------------------------------------------------------------------------------------------------------------------------------------------------------------------------------------------------------------------------------------------------------------------------------------------------------------------------------------------------------------------------------------------------------------------------------------------------------------------------------------------------------------------------------------------------------------------------------------------------------------------------------------------+------+\n",
            "only showing top 5 rows\n",
            "\n"
          ]
        }
      ],
      "source": [
        "from pyspark.ml.feature import  StandardScaler\n",
        "scaler = StandardScaler(inputCol = \"Features\", outputCol = \"scaledFeatures\")\n",
        "\n",
        "scaler_model = scaler.fit(d5)\n",
        "d5_s = scaler_model.transform(d5)\n",
        "\n",
        "print(d5_s)\n",
        "\n",
        "d5_s = d5_s.select(\"scaledFeatures\", \"LabelT\")\n",
        "d5_s.show(5, truncate = False)"
      ]
    },
    {
      "cell_type": "markdown",
      "metadata": {
        "id": "m6YwjXS-ngEW"
      },
      "source": [
        "We use \"scaledFeatures\" to rescale the features with a dimension from 1 to 0. It standardizes the range of the data, making the model stronger."
      ]
    },
    {
      "cell_type": "code",
      "source": [
        "# Divide the dataset: 70% data is for training and 30% is for testing.\n",
        "training_d5,test_d5 = d5_s.randomSplit([0.70,0.30], seed =21)"
      ],
      "metadata": {
        "id": "NXxf2NFvyAO1"
      },
      "execution_count": null,
      "outputs": []
    },
    {
      "cell_type": "markdown",
      "source": [
        "\n",
        "\n",
        "The code \"randomSplit\" applies a split of the training and test data. We have chosen a standard of 70% training and 30% test data.\n",
        "\n",
        "Although the data is not balanced, benign traffic is expected to be more common in this specific case than attack traffic. If I balance the balance, I would create bias and get results that would not be accurate.\n"
      ],
      "metadata": {
        "id": "tGvpzQsLyB-5"
      }
    },
    {
      "cell_type": "code",
      "execution_count": null,
      "metadata": {
        "colab": {
          "base_uri": "https://localhost:8080/"
        },
        "id": "MzJJ_280aB_6",
        "outputId": "6ed717e0-89f7-43be-fe50-07526465b16c"
      },
      "outputs": [
        {
          "output_type": "stream",
          "name": "stdout",
          "text": [
            "+------+------+\n",
            "|LabelT| count|\n",
            "+------+------+\n",
            "|   0.0|467057|\n",
            "|   1.0|267085|\n",
            "+------+------+\n",
            "\n"
          ]
        }
      ],
      "source": [
        "# Check if I have enough data in each df.\n",
        "# First I check the trainging dataset.\n",
        "training_d5.groupBy(\"LabelT\").count().show()"
      ]
    },
    {
      "cell_type": "markdown",
      "metadata": {
        "id": "gxQWrN32ojUb"
      },
      "source": [
        " We put the labels in the training data in a group again to see how many variables we have in each group."
      ]
    },
    {
      "cell_type": "code",
      "execution_count": null,
      "metadata": {
        "colab": {
          "base_uri": "https://localhost:8080/"
        },
        "id": "sVDbJrFVpKZ6",
        "outputId": "1e65984c-9cf6-4345-d234-9044bfefe1ad"
      },
      "outputs": [
        {
          "output_type": "stream",
          "name": "stdout",
          "text": [
            "+------+------+\n",
            "|LabelT| count|\n",
            "+------+------+\n",
            "|   0.0|200569|\n",
            "|   1.0|113864|\n",
            "+------+------+\n",
            "\n"
          ]
        }
      ],
      "source": [
        "# Then I check the test dataset\n",
        "test_d5.groupBy(\"LabelT\").count().show()"
      ]
    },
    {
      "cell_type": "markdown",
      "metadata": {
        "id": "lXFyl_BhpMjc"
      },
      "source": [
        "And the same is applied to the test data."
      ]
    },
    {
      "cell_type": "markdown",
      "metadata": {
        "id": "IRGHM3rOsKvU"
      },
      "source": [
        "---\n",
        "# **Task 2 - Model Selection and Implementation (25 marks)**\n",
        "---\n"
      ]
    },
    {
      "cell_type": "code",
      "execution_count": null,
      "metadata": {
        "id": "6oAJuyTBsRO-"
      },
      "outputs": [],
      "source": [
        "##AZAHARA DORADO LAGUNA:"
      ]
    },
    {
      "cell_type": "markdown",
      "metadata": {
        "id": "9mCzD61uIMSP"
      },
      "source": [
        "- SUPERVISED LEARNING\n",
        "     "
      ]
    },
    {
      "cell_type": "markdown",
      "metadata": {
        "id": "zSbXqhwzIO8v"
      },
      "source": [
        "      - LOGISTIC REGRESSION MODEL\n",
        "      "
      ]
    },
    {
      "cell_type": "markdown",
      "metadata": {
        "id": "4nJeFQ2zIxgD"
      },
      "source": [
        "'''\n",
        "This is the first model I am applying. In this first part I am comparing three supervised learning models.\n",
        "'''"
      ]
    },
    {
      "cell_type": "code",
      "execution_count": null,
      "metadata": {
        "id": "Utcun7C-I0eL"
      },
      "outputs": [],
      "source": [
        "log_reg = LogisticRegression(featuresCol=\"scaledFeatures\",labelCol=\"LabelT\").fit(training_d5)"
      ]
    },
    {
      "cell_type": "markdown",
      "metadata": {
        "id": "BH3OQDsoI3Qj"
      },
      "source": [
        "\n",
        "\n",
        "\"Logistic regression\" is the first model I am training the machine learning with. This model calculates the probabilities that something might occur based in past data. Because I divided my labels in two (\"benign traffic' is \"0\" and \"attack traffic' is \"1\") this specific model is binary logistic regression.\n",
        "\n",
        "This type of model is usually used for classification.\n"
      ]
    },
    {
      "cell_type": "code",
      "source": [
        "# Evaluate the model (without Random Search).\n",
        "results_log_reg = log_reg.evaluate(test_d5).predictions\n",
        "results_log_reg.show(5)"
      ],
      "metadata": {
        "colab": {
          "base_uri": "https://localhost:8080/"
        },
        "id": "HyIp_bCbF051",
        "outputId": "6f18f138-ff5b-4320-b27a-95cb4b8881e4"
      },
      "execution_count": null,
      "outputs": [
        {
          "output_type": "stream",
          "name": "stdout",
          "text": [
            "+--------------------+------+--------------------+--------------------+----------+\n",
            "|      scaledFeatures|LabelT|       rawPrediction|         probability|prediction|\n",
            "+--------------------+------+--------------------+--------------------+----------+\n",
            "|(45,[0,1,2,3,4,5,...|   0.0|[0.66386224114292...|[0.66012745293877...|       0.0|\n",
            "|(45,[0,1,2,3,4,5,...|   0.0|[1.46915381560414...|[0.81292873610065...|       0.0|\n",
            "|(45,[0,1,2,3,4,5,...|   0.0|[8.40611554369171...|[0.99977655360477...|       0.0|\n",
            "|(45,[0,1,2,3,4,5,...|   0.0|[25.5100781053812...|[0.99999999999166...|       0.0|\n",
            "|(45,[0,1,2,3,4,5,...|   0.0|[27.7353561330439...|[0.99999999999909...|       0.0|\n",
            "+--------------------+------+--------------------+--------------------+----------+\n",
            "only showing top 5 rows\n",
            "\n"
          ]
        }
      ]
    },
    {
      "cell_type": "code",
      "source": [
        "# Calculation of the Test Error and Accuracy of the Logistic Regression Model (without Random Search).\n",
        "evaluator = MulticlassClassificationEvaluator(\n",
        "    labelCol=\"LabelT\", predictionCol=\"prediction\", metricName=\"precisionByLabel\")\n",
        "precisionByLabel = evaluator.evaluate(results_log_reg)\n",
        "print(\"Test Error = %g \" % (1.0 - precisionByLabel))\n",
        "print (\"Precision by Label:\", precisionByLabel )"
      ],
      "metadata": {
        "colab": {
          "base_uri": "https://localhost:8080/"
        },
        "id": "g7VWu9gaGRw5",
        "outputId": "6a7bd079-a202-477b-be5e-5b971c29436a"
      },
      "execution_count": null,
      "outputs": [
        {
          "output_type": "stream",
          "name": "stdout",
          "text": [
            "Test Error = 0.000418804 \n",
            "Precision by Label: 0.9995811956863155\n"
          ]
        }
      ]
    },
    {
      "cell_type": "markdown",
      "metadata": {
        "id": "nQag0lBTIU69"
      },
      "source": [
        "     - DECISION TREE CLASSIFIER\n"
      ]
    },
    {
      "cell_type": "markdown",
      "metadata": {
        "id": "w_-S26DxMVeT"
      },
      "source": [
        "''' This is the second model I am applying under supervised learning. I am still doing classification.condition.\n",
        "'''"
      ]
    },
    {
      "cell_type": "code",
      "execution_count": null,
      "metadata": {
        "id": "s2BUBgyQMVME"
      },
      "outputs": [],
      "source": [
        "from pyspark.ml import Pipeline\n",
        "from pyspark.ml.classification import DecisionTreeClassifier\n",
        "from pyspark.ml.feature import StringIndexer, VectorIndexer\n",
        "from pyspark.ml.evaluation import MulticlassClassificationEvaluator"
      ]
    },
    {
      "cell_type": "code",
      "execution_count": null,
      "metadata": {
        "colab": {
          "base_uri": "https://localhost:8080/"
        },
        "id": "GnJT7kICMmku",
        "outputId": "6cf50e49-4c23-468e-f88a-649901c1d943"
      },
      "outputs": [
        {
          "output_type": "stream",
          "name": "stdout",
          "text": [
            "+----------+------------+--------------------+\n",
            "|prediction|indexedLabel|     indexedFeatures|\n",
            "+----------+------------+--------------------+\n",
            "|       0.0|         0.0|(45,[0,1,2,3,4,5,...|\n",
            "|       0.0|         0.0|(45,[0,1,2,3,4,5,...|\n",
            "|       0.0|         0.0|(45,[0,1,2,3,4,5,...|\n",
            "|       0.0|         0.0|(45,[0,1,2,3,4,5,...|\n",
            "|       0.0|         0.0|(45,[0,1,2,3,4,5,...|\n",
            "|       0.0|         0.0|(45,[0,1,2,3,4,5,...|\n",
            "|       0.0|         0.0|(45,[0,1,2,3,4,5,...|\n",
            "|       0.0|         0.0|(45,[0,1,2,3,4,5,...|\n",
            "|       0.0|         0.0|(45,[0,1,2,3,4,5,...|\n",
            "|       0.0|         0.0|(45,[0,1,2,3,4,5,...|\n",
            "+----------+------------+--------------------+\n",
            "only showing top 10 rows\n",
            "\n",
            "Test Error = 3.18033e-06 \n",
            "The accuracy is:  0.9999968196722354\n",
            "DecisionTreeClassificationModel: uid=DecisionTreeClassifier_66936b0b6c65, depth=5, numNodes=15, numClasses=2, numFeatures=45\n"
          ]
        }
      ],
      "source": [
        "# Fit on whole dataset to include all labels in index.\n",
        "labelIndexer = StringIndexer(inputCol=\"LabelT\", outputCol=\"indexedLabel\").fit(d5_s)\n",
        "# Automatically identify categorical features, and index them.\n",
        "# We specify maxCategories so features with > 4 distinct values are treated as continuous.\n",
        "featureIndexer =\\\n",
        "    VectorIndexer(inputCol=\"scaledFeatures\", outputCol=\"indexedFeatures\", maxCategories=4).fit(d5_s)\n",
        "\n",
        "# Train a Decision Tree model.\n",
        "dt = DecisionTreeClassifier(labelCol=\"indexedLabel\", featuresCol=\"indexedFeatures\")\n",
        "\n",
        "# Chain indexers and tree in a Pipeline\n",
        "pipeline = Pipeline(stages=[labelIndexer, featureIndexer, dt])\n",
        "\n",
        "# Train Decision Tree model.\n",
        "model = pipeline.fit(training_d5)\n",
        "\n",
        "# Make predictions for Decision Tree model.\n",
        "predictionsDTC = model.transform(test_d5)\n",
        "\n",
        "# Select example rows to display.\n",
        "predictionsDTC.select(\"prediction\", \"indexedLabel\", \"indexedFeatures\").show(10)\n",
        "\n",
        "# Select (prediction, true label) and compute test error.\n",
        "evaluator = MulticlassClassificationEvaluator(\n",
        "    labelCol=\"indexedLabel\", predictionCol=\"prediction\", metricName=\"accuracy\")\n",
        "accuracy_DTC = evaluator.evaluate(predictionsDTC)\n",
        "print(\"Test Error = %g \" % (1.0 - accuracy_DTC))\n",
        "print(\"The accuracy is: \", accuracy_DTC )\n",
        "\n",
        "treeModel = model.stages[2]\n",
        "\n",
        "print(treeModel)\n"
      ]
    },
    {
      "cell_type": "markdown",
      "metadata": {
        "id": "ILR8ZYu1IR7A"
      },
      "source": [
        "      - RANDOM FOREST MODEL\n"
      ]
    },
    {
      "cell_type": "markdown",
      "metadata": {
        "id": "0NSQ5WCuQlHG"
      },
      "source": [
        "Random Forest is made up of decision trees. It can be used for classification and regression problems.\n",
        "It has more true or false positives than the logistic regression model because the dataset has more explanatory variables.\n",
        "It combines many decision trees in a single model.\n",
        "It also takes less training time compared to other models. However, this model uses more memory than other models (especially with large datasets)."
      ]
    },
    {
      "cell_type": "code",
      "execution_count": null,
      "metadata": {
        "id": "K8JjLHdPNcUC",
        "colab": {
          "base_uri": "https://localhost:8080/"
        },
        "outputId": "35ad673c-b3e5-418a-cd39-0020cdcb4417"
      },
      "outputs": [
        {
          "output_type": "stream",
          "name": "stdout",
          "text": [
            "+--------------+------------+--------------------+\n",
            "|predictedLabel|indexedLabel|     indexedFeatures|\n",
            "+--------------+------------+--------------------+\n",
            "|           0.0|         0.0|(45,[0,1,2,3,4,5,...|\n",
            "|           0.0|         0.0|(45,[0,1,2,3,4,5,...|\n",
            "|           0.0|         0.0|(45,[0,1,2,3,4,5,...|\n",
            "|           0.0|         0.0|(45,[0,1,2,3,4,5,...|\n",
            "|           0.0|         0.0|(45,[0,1,2,3,4,5,...|\n",
            "+--------------+------------+--------------------+\n",
            "only showing top 5 rows\n",
            "\n",
            "Test Error = 9.54098e-06\n",
            "Accuracy = 0.9999904590167062\n",
            "DecisionTreeClassificationModel: uid=DecisionTreeClassifier_66936b0b6c65, depth=5, numNodes=15, numClasses=2, numFeatures=45\n"
          ]
        }
      ],
      "source": [
        "# Train a RandomForest model.\n",
        "rf = RandomForestClassifier(labelCol=\"indexedLabel\", featuresCol=\"indexedFeatures\", numTrees=10)\n",
        "\n",
        "# Convert indexed labels back to original labels.\n",
        "labelConverter = IndexToString(inputCol=\"prediction\", outputCol=\"predictedLabel\",\n",
        "                               labels=labelIndexer.labels)\n",
        "\n",
        "# Chain indexers and RandomForest model in a Pipeline\n",
        "pipelineRFC = Pipeline(stages=[labelIndexer, featureIndexer, rf, labelConverter])\n",
        "\n",
        "# Train RandomForest model model.\n",
        "modelRFC = pipelineRFC.fit(training_d5)\n",
        "\n",
        "# Make predictions fir RandomForest model.\n",
        "predictionsRFC = modelRFC.transform(test_d5)\n",
        "\n",
        "# Select rows to display.\n",
        "predictionsRFC.select(\"predictedLabel\", \"indexedLabel\", \"indexedFeatures\").show(5)\n",
        "\n",
        "# Select (prediction, true label) and compute test error for RandomForest model.\n",
        "evaluator = MulticlassClassificationEvaluator(\n",
        "    labelCol=\"indexedLabel\", predictionCol=\"prediction\", metricName=\"accuracy\")\n",
        "accuracy_RFC = evaluator.evaluate(predictionsRFC)\n",
        "print(\"Test Error = %g\" % (1.0 - accuracy_RFC))\n",
        "print(\"Accuracy =\", accuracy_RFC )\n",
        "\n",
        "rfModel = model.stages[2]\n",
        "print(rfModel)"
      ]
    },
    {
      "cell_type": "markdown",
      "metadata": {
        "id": "EzKIFNAZIXAG"
      },
      "source": [
        "  - UNSUPERVISED LEARNING\n",
        "   "
      ]
    },
    {
      "cell_type": "markdown",
      "source": [
        "    - K-MEANS"
      ],
      "metadata": {
        "id": "zbuGq9QQs7Zz"
      }
    },
    {
      "cell_type": "code",
      "source": [
        "# K-Means Model.\n",
        "# Importing libraries.\n",
        "from pyspark.ml.clustering import KMeans\n",
        "from pyspark.ml.evaluation import ClusteringEvaluator\n",
        "\n",
        "silhouette_scoreKM=[]\n",
        "\n",
        "# Defining evalutator.\n",
        "evaluator = ClusteringEvaluator(predictionCol='prediction',\n",
        "                                featuresCol='scaledFeatures',\n",
        "                                metricName='silhouette',\n",
        "                                distanceMeasure='squaredEuclidean')\n",
        "\n",
        "# Trains a k-means model and make predictions.\n",
        "# k=2 because we have two classes: Label 0 and Label 1.\n",
        "kmeans=KMeans(featuresCol=\"scaledFeatures\", k=2)\n",
        "modelKM=kmeans.fit(training_d5[\"scaledFeatures\", \"LabelT\"])\n",
        "predictionsKM=modelKM.transform(test_d5[\"scaledFeatures\", \"LabelT\"])\n",
        "scoreKM=evaluator.evaluate(predictionsKM)\n",
        "silhouette_scoreKM.append(scoreKM)\n",
        "\n",
        "print(\"Silhouette Score for k=2 is \", scoreKM)\n",
        "\n",
        "\n",
        "predictionsKM.groupBy(\"prediction\").count().show()\n",
        "\n",
        "# Shows the result.\n",
        "centers = modelKM.clusterCenters()\n",
        "print(\"Cluster Centers: \")\n",
        "for center in centers:\n",
        "  print(center)\n"
      ],
      "metadata": {
        "colab": {
          "base_uri": "https://localhost:8080/"
        },
        "id": "StidH_05s_B4",
        "outputId": "242fb8ba-d51c-44fb-8d3b-10f058b007e4"
      },
      "execution_count": null,
      "outputs": [
        {
          "output_type": "stream",
          "name": "stdout",
          "text": [
            "Silhouette Score for k=2 is  0.22525865486424074\n",
            "+----------+------+\n",
            "|prediction| count|\n",
            "+----------+------+\n",
            "|         1|164877|\n",
            "|         0|149556|\n",
            "+----------+------+\n",
            "\n",
            "Cluster Centers: \n",
            "[ 5.45791146e-02  2.33138622e+00  2.50753480e-01  1.34536606e-01\n",
            "  6.00789322e-02  8.82198471e-01  1.42526149e+00  1.16226478e+00\n",
            "  1.37594419e+00  9.04388864e-01  1.19687108e+00  4.66711129e-03\n",
            "  5.94234971e-03 -3.14600471e-03  7.08264498e-03  2.77564444e-03\n",
            "  5.02272020e-03  5.86611878e-03 -3.10789339e-03  5.09519884e-01\n",
            "  3.69533513e-01  4.28547294e-01  4.23858328e-01  7.18874816e-02\n",
            "  1.60723854e-01  2.19317118e-03  2.59032939e-03  9.04771160e-01\n",
            "  1.36719070e+00  1.25588209e+00  1.30720212e+00  5.52318303e-01\n",
            "  1.35841618e+00  1.42526149e+00  1.19687108e+00  6.00789322e-02\n",
            "  1.34536606e-01  7.07700870e-01  1.47940568e-01  1.96500504e-01\n",
            "  2.16607950e-01  1.12379702e-01  8.99612383e-03  1.64149874e-01\n",
            "  1.12311185e+00]\n",
            "[5.94839736e-01 1.35126592e+00 4.06580721e-02 9.92121733e-03\n",
            " 1.41417471e-03 2.21000919e-02 9.64978934e-02 7.14038619e-02\n",
            " 3.75696452e-02 6.64019987e-03 3.51086916e-02 1.33862440e-03\n",
            " 2.12934435e-03 9.97778028e-04 2.18149758e-03 6.74272178e-03\n",
            " 1.14226530e-03 1.92324294e-03 1.01312659e-03 2.49469042e-02\n",
            " 6.27680503e-02 5.33431713e-02 3.79422441e-02 3.21393209e-02\n",
            " 1.16449732e-02 8.72385367e-01 8.97432704e-01 1.97457921e-02\n",
            " 4.31559873e-02 5.67538296e-02 5.30929129e-02 4.86664745e-03\n",
            " 6.46819160e-02 9.64978934e-02 3.51086916e-02 1.41417471e-03\n",
            " 9.92121733e-03 9.06445674e-01 3.41897330e-02 6.71849693e-03\n",
            " 2.91455029e-02 3.37494609e-02 2.52690333e-03 7.43226151e-02\n",
            " 1.29162858e+00]\n"
          ]
        }
      ]
    },
    {
      "cell_type": "markdown",
      "source": [
        "In this case I know the number of clusters as I have the data divided in two labels: Label \"0\" and Label \"1\"."
      ],
      "metadata": {
        "id": "DaIy3rxXF-1w"
      }
    },
    {
      "cell_type": "code",
      "source": [
        "# K-Means Model.\n",
        "# Importing libraries.\n",
        "from pyspark.ml.clustering import KMeans\n",
        "from pyspark.ml.evaluation import ClusteringEvaluator\n",
        "\n",
        "silhouette_score=[]\n",
        "# Defining evalutator.\n",
        "evaluator = ClusteringEvaluator(predictionCol='prediction',\n",
        "                                featuresCol='scaledFeatures',\n",
        "                                metricName='silhouette',\n",
        "                                distanceMeasure='squaredEuclidean')\n",
        "\n",
        "# Trains a k-means model and make predictions.\n",
        "for i in range(2,10):\n",
        "    kmeans_KM=KMeans(featuresCol='scaledFeatures', k=i)\n",
        "    model_KM=kmeans_KM.fit(training_d5)\n",
        "    predictions_KM=model_KM.transform(test_d5)\n",
        "    score_KM=evaluator.evaluate(predictions_KM)\n",
        "    silhouette_score.append(score_KM)\n",
        "    print(\"Silhouette Score for k =\" ,i,'is',score_KM)\n",
        "\n",
        "\n",
        "\n",
        "predictions_KM.groupBy(\"prediction\").count().show()\n",
        "\n",
        "# Shows the result.\n",
        "centers_KM = model_KM.clusterCenters()\n",
        "print(\"Cluster Centers: \")\n",
        "for center_KM in centers_KM:\n",
        "  print(center_KM)"
      ],
      "metadata": {
        "colab": {
          "base_uri": "https://localhost:8080/"
        },
        "id": "Q74kcQqNF9Yo",
        "outputId": "e50c9af3-a40a-437a-a573-fc0b09d1a24f"
      },
      "execution_count": null,
      "outputs": [
        {
          "output_type": "stream",
          "name": "stdout",
          "text": [
            "Silhouette Score for k = 2 is 0.22525865486424074\n",
            "Silhouette Score for k = 3 is 0.270845149179145\n",
            "Silhouette Score for k = 4 is 0.270845149179145\n",
            "Silhouette Score for k = 5 is 0.12892150029065824\n",
            "Silhouette Score for k = 6 is 0.16993820468157822\n",
            "Silhouette Score for k = 7 is 0.2694025705533454\n",
            "Silhouette Score for k = 8 is 0.24268574220303574\n",
            "Silhouette Score for k = 9 is 0.31762473224305615\n",
            "+----------+------+\n",
            "|prediction| count|\n",
            "+----------+------+\n",
            "|         1| 53604|\n",
            "|         6|    44|\n",
            "|         5|     1|\n",
            "|         8| 22175|\n",
            "|         7|    32|\n",
            "|         2|126340|\n",
            "|         0|112237|\n",
            "+----------+------+\n",
            "\n",
            "Cluster Centers: \n",
            "[8.12304551e-01 1.33850879e+00 5.28742129e-02 1.19882934e-02\n",
            " 2.49456404e-03 2.09521630e-02 1.45441927e-01 1.20041735e-01\n",
            " 7.05693813e-02 4.57716424e-03 5.56103721e-02 7.00718895e-04\n",
            " 3.56802937e-03 2.65851880e-03 6.31736338e-03 1.39831819e-02\n",
            " 3.98614338e-04 3.27019842e-03 2.68547371e-03 9.49306508e-02\n",
            " 1.33111606e-01 9.83051369e-02 7.09531379e-02 4.24392154e-02\n",
            " 1.53313017e-02 1.80840100e-01 1.78449030e-01 1.90436381e-02\n",
            " 7.93077856e-02 8.61708826e-02 8.96534938e-02 9.26703792e-03\n",
            " 9.63398253e-02 1.45441927e-01 5.56103721e-02 2.49456404e-03\n",
            " 1.19882934e-02 3.51069925e-01 4.54953515e-02 1.17875455e-02\n",
            " 4.20110031e-02 4.47681531e-02 3.86793227e-03 1.13625238e-01\n",
            " 1.54220480e+00]\n",
            "[1.31040152e-01 1.34539783e+00 2.39744876e-02 9.10610781e-03\n",
            " 6.32779791e-05 5.00341797e-03 7.65353103e-03 4.70673398e-03\n",
            " 3.42835013e-04 1.18308921e-04 4.34068770e-04 2.69859463e-05\n",
            " 7.99043090e-05 4.57394363e-05 1.02631231e-04 2.61853245e-04\n",
            " 2.77587788e-05 7.63654979e-05 4.62469833e-05 7.28987669e-04\n",
            " 1.73450748e-03 4.58316885e-04 6.13546675e-04 1.69654661e-03\n",
            " 9.09120468e-03 2.30013129e+00 2.38204648e+00 3.95308933e-04\n",
            " 1.65861883e-03 4.24487640e-03 2.74637048e-03 1.00478872e-04\n",
            " 5.62311988e-03 7.65353103e-03 4.34068770e-04 6.32779791e-05\n",
            " 9.10610781e-03 2.06466126e+00 1.95366657e-03 1.56247434e-04\n",
            " 1.59095695e-03 1.98914106e-03 1.50315552e-04 4.44439417e-03\n",
            " 7.72497594e-01]\n",
            "[5.66580562e-02 2.52745564e+00 1.78139993e-01 7.07388930e-02\n",
            " 4.68877203e-02 1.05236929e+00 1.38886941e+00 1.03125406e+00\n",
            " 1.13835110e+00 1.07409740e+00 8.65324217e-01 2.27475201e-04\n",
            " 3.91921310e-04 4.72983705e-05 1.40137843e-03 7.53562375e-04\n",
            " 2.76363675e-04 4.10305921e-04 5.27678332e-05 6.82037503e-02\n",
            " 7.78172076e-02 6.33804575e-02 5.71029791e-02 2.19219334e-02\n",
            " 9.77164797e-02 2.64354298e-03 3.09631891e-03 1.07982105e+00\n",
            " 1.12923168e+00 9.59003514e-01 9.90592271e-01 2.99799404e-01\n",
            " 1.08495879e+00 1.38886941e+00 8.65324217e-01 4.68877203e-02\n",
            " 7.07388930e-02 7.17529984e-01 6.41541404e-03 2.81137009e-03\n",
            " 6.84720101e-03 6.17881557e-03 4.46890581e-04 1.29618305e-02\n",
            " 1.16531621e+00]\n",
            "[3.06713721e-02 1.34510309e+00 2.02850759e+01 2.35033162e+01\n",
            " 5.06835527e+02 0.00000000e+00 1.70947440e+02 1.15145020e+02\n",
            " 2.89961499e+00 0.00000000e+00 1.03006411e-02 4.38629787e-06\n",
            " 1.04003100e-04 0.00000000e+00 3.85629646e-04 1.79119751e-06\n",
            " 8.98467055e-06 1.05327777e-04 6.09456517e-10 1.34089969e-02\n",
            " 5.30443789e-05 4.67214535e-04 6.16273524e-03 0.00000000e+00\n",
            " 2.80760503e+01 6.21293514e-03 1.94410188e-02 0.00000000e+00\n",
            " 9.12133083e+01 2.36437253e+01 4.33520942e+01 3.66365574e+02\n",
            " 2.26573173e+01 1.70947440e+02 1.03006411e-02 5.06835527e+02\n",
            " 2.35033162e+01 2.07797855e+00 0.00000000e+00 0.00000000e+00\n",
            " 0.00000000e+00 0.00000000e+00 0.00000000e+00 0.00000000e+00\n",
            " 2.34451726e+00]\n",
            "[ 0.00000000e+00  0.00000000e+00  6.74482991e-02  0.00000000e+00\n",
            "  0.00000000e+00  0.00000000e+00  0.00000000e+00  0.00000000e+00\n",
            "  0.00000000e+00  0.00000000e+00  0.00000000e+00  3.49579658e+02\n",
            " -1.04199326e+02 -3.18114456e+02 -5.40672119e+02 -1.02235700e+03\n",
            "  3.49579028e+02 -1.04199437e+02 -3.18114361e+02  0.00000000e+00\n",
            "  0.00000000e+00  0.00000000e+00  0.00000000e+00  0.00000000e+00\n",
            "  0.00000000e+00  0.00000000e+00  0.00000000e+00  0.00000000e+00\n",
            "  0.00000000e+00  0.00000000e+00  0.00000000e+00  0.00000000e+00\n",
            "  0.00000000e+00  0.00000000e+00  0.00000000e+00  0.00000000e+00\n",
            "  0.00000000e+00 -7.72971227e-05  0.00000000e+00  0.00000000e+00\n",
            "  0.00000000e+00  0.00000000e+00  0.00000000e+00  0.00000000e+00\n",
            "  4.37598410e+00]\n",
            "[ 0.00000000e+00  0.00000000e+00  4.08062209e+00  0.00000000e+00\n",
            "  0.00000000e+00  0.00000000e+00  0.00000000e+00  0.00000000e+00\n",
            "  0.00000000e+00  0.00000000e+00  0.00000000e+00  5.50693553e+02\n",
            "  5.66825563e+02 -5.55771791e+02 -4.73249773e+02 -1.86979343e+01\n",
            "  5.50692560e+02  5.66826168e+02 -5.55771626e+02  0.00000000e+00\n",
            "  0.00000000e+00  0.00000000e+00  0.00000000e+00  0.00000000e+00\n",
            "  0.00000000e+00  0.00000000e+00  0.00000000e+00  0.00000000e+00\n",
            "  0.00000000e+00  0.00000000e+00  0.00000000e+00  0.00000000e+00\n",
            "  0.00000000e+00  0.00000000e+00  0.00000000e+00  0.00000000e+00\n",
            "  0.00000000e+00 -7.72971227e-05  0.00000000e+00  0.00000000e+00\n",
            "  0.00000000e+00  0.00000000e+00  5.75796985e+02  5.60287582e+02\n",
            "  4.37619415e+00]\n",
            "[2.68245572e-02 1.34510309e+00 3.14173718e+01 5.12169715e+01\n",
            " 7.22608267e-01 0.00000000e+00 1.88126794e-01 6.38744245e-01\n",
            " 2.95631138e+00 9.01168161e-01 9.14525781e+00 7.36030747e-04\n",
            " 2.06830057e-02 0.00000000e+00 6.31831527e-02 2.10148602e-04\n",
            " 1.30615838e-03 1.46365340e-02 8.09706515e-09 3.85178390e+00\n",
            " 7.72193989e-03 2.28099981e-01 3.77421211e+00 0.00000000e+00\n",
            " 5.10653371e+01 5.44818121e-05 2.36712507e-04 0.00000000e+00\n",
            " 2.90615027e+00 1.12333409e+01 3.86770553e+00 2.90146398e+00\n",
            " 1.07630487e+01 1.88126794e-01 9.14525781e+00 7.22608267e-01\n",
            " 5.12169715e+01 5.68665467e-01 5.22611749e+00 2.92015528e+00\n",
            " 5.83526211e+00 4.69815188e+00 5.50658629e-02 1.58013324e+00\n",
            " 1.71404602e+00]\n",
            "[2.60551942e-02 1.34510309e+00 7.67875943e+01 6.30497081e+01\n",
            " 6.91906691e-01 0.00000000e+00 6.42610094e-02 4.55091021e-01\n",
            " 2.95631138e+00 7.92852572e-01 9.19524558e+00 4.90121266e-04\n",
            " 1.18962234e-02 0.00000000e+00 7.39324157e-02 8.86894036e-05\n",
            " 6.67872764e-04 6.29866679e-03 4.65798909e-09 4.48811055e+00\n",
            " 7.05467417e-03 1.67161390e-01 2.19491614e+00 0.00000000e+00\n",
            " 6.28561028e+01 1.94105657e-04 4.33345151e-04 0.00000000e+00\n",
            " 2.90615027e+00 9.52089534e+00 4.67755055e+00 4.06919816e+00\n",
            " 9.12180571e+00 6.42610094e-02 9.19524558e+00 6.91906691e-01\n",
            " 6.30497081e+01 4.07354259e-01 1.96839942e+00 3.17017304e+00\n",
            " 3.48017436e+00 1.31490496e+00 3.04509101e-02 8.34364506e-01\n",
            " 1.90739425e+00]\n",
            "[4.28152889e-02 1.34529300e+00 4.45476926e-01 2.76391692e-01\n",
            " 9.37967034e-02 5.74937620e-03 1.64972904e+00 1.86244381e+00\n",
            " 2.69936432e+00 8.17145183e-03 3.07816958e+00 8.45265470e-03\n",
            " 1.54156692e-02 2.31793682e-06 5.20704769e-02 1.36145661e-02\n",
            " 1.06286888e-02 1.48036379e-02 2.03952771e-04 2.72470339e+00\n",
            " 1.83101352e+00 2.41734129e+00 2.43429347e+00 3.78807303e-01\n",
            " 2.95608052e-01 4.52936150e-05 4.71721587e-05 5.04066331e-03\n",
            " 2.67982712e+00 2.93423996e+00 3.08030643e+00 1.95821260e+00\n",
            " 2.91478211e+00 1.64972904e+00 3.07816958e+00 9.37967034e-02\n",
            " 2.76391692e-01 6.47015089e-01 9.63213848e-01 1.28257035e+00\n",
            " 1.39908489e+00 7.28218111e-01 3.44321866e-02 9.70387847e-01\n",
            " 8.63873156e-01]\n"
          ]
        }
      ]
    },
    {
      "cell_type": "markdown",
      "source": [
        "      - GAUSSIAN MIXTURE"
      ],
      "metadata": {
        "id": "InLFNinXCq14"
      }
    },
    {
      "cell_type": "code",
      "source": [
        "from pyspark.ml.clustering import GaussianMixture\n",
        "from pyspark.ml.evaluation import ClusteringEvaluator\n",
        "\n",
        "# Loading data\n",
        "dataset = d5_s\n",
        "gmm = GaussianMixture(predictionCol='prediction', featuresCol='scaledFeatures').setK(2).setSeed(538009335)\n",
        "\n",
        "\n",
        "# Evaluator\n",
        "evaluator = ClusteringEvaluator(predictionCol='prediction',\n",
        "                                featuresCol='scaledFeatures',\n",
        "                                metricName='silhouette',\n",
        "                                distanceMeasure='squaredEuclidean')\n",
        "\n",
        "model = gmm.fit(training_d5)\n",
        "predictionsGMM =model.transform(test_d5)\n",
        "scoreGMM=evaluator.evaluate(predictionsGMM)\n",
        "print(\"Gaussians shown as a DataFrame: \")\n",
        "model.gaussiansDF.show(truncate=True)\n",
        "print(\"Test Error = %g\" % (1.0 - scoreGMM))\n",
        "print (\"Score:\", scoreGMM )\n"
      ],
      "metadata": {
        "colab": {
          "base_uri": "https://localhost:8080/"
        },
        "id": "psRD4W5uGp5z",
        "outputId": "2784342d-f3df-463f-f2a8-7fcd7c329fa9"
      },
      "execution_count": null,
      "outputs": [
        {
          "output_type": "stream",
          "name": "stdout",
          "text": [
            "Gaussians shown as a DataFrame: \n",
            "+--------------------+--------------------+\n",
            "|                mean|                 cov|\n",
            "+--------------------+--------------------+\n",
            "|[0.07432123919301...|0.049304279529164...|\n",
            "|[0.51711938607525...|1.568208637897686...|\n",
            "+--------------------+--------------------+\n",
            "\n",
            "Test Error = 0.738691\n",
            "Score: 0.2613086952272078\n"
          ]
        }
      ]
    },
    {
      "cell_type": "markdown",
      "metadata": {
        "id": "jBh-tqvEHmIa"
      },
      "source": [
        "---\n",
        "# **Task 3 - Model Parameter Tuning (20 marks)**\n",
        "---\n"
      ]
    },
    {
      "cell_type": "code",
      "execution_count": null,
      "metadata": {
        "id": "mhLRVi66Hmdo"
      },
      "outputs": [],
      "source": [
        "##AZAHARA DORADO LAGUNA:\n",
        "# 2 types of models: supervised learning and unsupervised learning\n"
      ]
    },
    {
      "cell_type": "markdown",
      "source": [
        "It requires labelled data because it makes conclusions from the inputs and outputs of data.\n",
        "It can discover abnormalities in the data but cannot predict the future of the data or discover unknown anomalies."
      ],
      "metadata": {
        "id": "hp1novcLQ7oj"
      }
    },
    {
      "cell_type": "markdown",
      "metadata": {
        "id": "Dxf_ceExgb2V"
      },
      "source": [
        "SUPERVISED LEARNING"
      ]
    },
    {
      "cell_type": "markdown",
      "metadata": {
        "id": "Lml2FD-vgIEP"
      },
      "source": [
        "LOGISTIC REGRESSION"
      ]
    },
    {
      "cell_type": "code",
      "execution_count": null,
      "metadata": {
        "id": "9BDGdp2CRkTx"
      },
      "outputs": [],
      "source": [
        "log_reg = LogisticRegression(featuresCol=\"scaledFeatures\",labelCol=\"LabelT\").fit(training_d5)"
      ]
    },
    {
      "cell_type": "code",
      "source": [
        "training_d5.show(5)"
      ],
      "metadata": {
        "colab": {
          "base_uri": "https://localhost:8080/"
        },
        "id": "0z7lsv16TOG2",
        "outputId": "47abe0ef-a17a-4004-efe2-938291d2e534"
      },
      "execution_count": null,
      "outputs": [
        {
          "output_type": "stream",
          "name": "stdout",
          "text": [
            "+--------------------+------+\n",
            "|      scaledFeatures|LabelT|\n",
            "+--------------------+------+\n",
            "|(45,[0,1,2,3,4,5,...|   0.0|\n",
            "|(45,[0,1,2,3,4,5,...|   0.0|\n",
            "|(45,[0,1,2,3,4,5,...|   0.0|\n",
            "|(45,[0,1,2,3,4,5,...|   0.0|\n",
            "|(45,[0,1,2,3,4,5,...|   0.0|\n",
            "+--------------------+------+\n",
            "only showing top 5 rows\n",
            "\n"
          ]
        }
      ]
    },
    {
      "cell_type": "code",
      "source": [
        "d5_s.show(5)"
      ],
      "metadata": {
        "colab": {
          "base_uri": "https://localhost:8080/"
        },
        "id": "JBZvsHeFZG-e",
        "outputId": "b51a569c-a3d0-48d1-d051-6ba088d28aa2"
      },
      "execution_count": null,
      "outputs": [
        {
          "output_type": "stream",
          "name": "stdout",
          "text": [
            "+--------------------+------+\n",
            "|      scaledFeatures|LabelT|\n",
            "+--------------------+------+\n",
            "|(45,[2,11,12,13,1...|   0.0|\n",
            "|(45,[2,11,12,13,1...|   0.0|\n",
            "|(45,[2,11,12,13,1...|   0.0|\n",
            "|[0.00152318326433...|   0.0|\n",
            "|[0.00152318326433...|   0.0|\n",
            "+--------------------+------+\n",
            "only showing top 5 rows\n",
            "\n"
          ]
        }
      ]
    },
    {
      "cell_type": "markdown",
      "source": [
        "RANDOM SEARCH"
      ],
      "metadata": {
        "id": "KPBXOv-HSrIF"
      }
    },
    {
      "cell_type": "code",
      "source": [
        "import random\n",
        "\n",
        "# Possibble values for maxIter:\n",
        "maxIter_options = [100, 150, 200, 250, 300, 350, 400, 450, 500, 550]\n",
        "\n",
        "#perform random search manually\n",
        "best_accuracy = 0.0\n",
        "best_params = None\n",
        "\n",
        "# Using maxIter to create a sublist of 5 random numbers\n",
        "for mI in random.sample(maxIter_options, 5):\n",
        "  lrModel = LogisticRegression(featuresCol=\"scaledFeatures\",labelCol = \"LabelT\", maxIter=mI).fit(training_d5)\n",
        "  predictions =  lrModel.transform(test_d5)\n",
        "\n",
        "# Evaluate\n",
        "evaluator = MulticlassClassificationEvaluator(predictionCol = \"prediction\", labelCol = \"LabelT\")\n",
        "accuracy = evaluator.evaluate(predictions)\n",
        "\n",
        "  # check if the current model is the best so far\n",
        "if accuracy > best_accuracy:\n",
        "  best_accuracy = accuracy\n",
        "  best_params = mI\n",
        "\n",
        "# Print\n",
        "print(\"best maxIter value: \" , best_params)\n",
        "print(\"accuracy: \", accuracy)\n"
      ],
      "metadata": {
        "colab": {
          "base_uri": "https://localhost:8080/"
        },
        "id": "vWCWfoSpSqKq",
        "outputId": "79f9a7ee-fb48-449a-d23a-a8b56f23268d"
      },
      "execution_count": null,
      "outputs": [
        {
          "output_type": "stream",
          "name": "stdout",
          "text": [
            "best maxIter value:  300\n",
            "accuracy:  0.9998855112420812\n"
          ]
        }
      ]
    },
    {
      "cell_type": "markdown",
      "metadata": {
        "id": "Np9gJPEIHwbG"
      },
      "source": [
        "---\n",
        "# **Task 4 - Model Evaluation and Accuracy Calculation (20 marks)**\n",
        "---"
      ]
    },
    {
      "cell_type": "code",
      "execution_count": null,
      "metadata": {
        "id": "FCVAx1VsHws-"
      },
      "outputs": [],
      "source": [
        "##AZAHARA DORADO LAGUNA:\n"
      ]
    },
    {
      "cell_type": "markdown",
      "metadata": {
        "id": "TFFO2RjmJHro"
      },
      "source": [
        "- SUPERVISED LEARNING"
      ]
    },
    {
      "cell_type": "markdown",
      "metadata": {
        "id": "4mKVznS4JCgH"
      },
      "source": [
        "      - LOGISTIC REGRESSION MODEL EVALUATION AND ACCURACY CALCULATION"
      ]
    },
    {
      "cell_type": "markdown",
      "source": [
        "The Logistic Regression Model obtained excellent results without tuning it. These are results without tuning the model."
      ],
      "metadata": {
        "id": "XdB0UdfCfpFc"
      }
    },
    {
      "cell_type": "code",
      "execution_count": null,
      "metadata": {
        "colab": {
          "base_uri": "https://localhost:8080/"
        },
        "id": "drASe_L_I_GL",
        "outputId": "930d6f52-d7bc-4b0f-d190-ffb65617f3d0"
      },
      "outputs": [
        {
          "output_type": "stream",
          "name": "stdout",
          "text": [
            "+--------------------+------+--------------------+--------------------+----------+\n",
            "|      scaledFeatures|LabelT|       rawPrediction|         probability|prediction|\n",
            "+--------------------+------+--------------------+--------------------+----------+\n",
            "|(45,[0,1,2,3,4,5,...|   0.0|[0.66386224114292...|[0.66012745293877...|       0.0|\n",
            "|(45,[0,1,2,3,4,5,...|   0.0|[1.46915381560414...|[0.81292873610065...|       0.0|\n",
            "|(45,[0,1,2,3,4,5,...|   0.0|[8.40611554369171...|[0.99977655360477...|       0.0|\n",
            "|(45,[0,1,2,3,4,5,...|   0.0|[25.5100781053812...|[0.99999999999166...|       0.0|\n",
            "|(45,[0,1,2,3,4,5,...|   0.0|[27.7353561330439...|[0.99999999999909...|       0.0|\n",
            "+--------------------+------+--------------------+--------------------+----------+\n",
            "only showing top 5 rows\n",
            "\n"
          ]
        }
      ],
      "source": [
        "# Evaluate the model (without Random Search).\n",
        "results_log_reg = log_reg.evaluate(test_d5).predictions\n",
        "results_log_reg.show(5)"
      ]
    },
    {
      "cell_type": "markdown",
      "metadata": {
        "id": "n9kkXwGQJqV1"
      },
      "source": [
        "In this part of evaluating the \"logistic regression\" model, I am observing how accurate was the prediction of the label of the model after my training. I have two probabilities: \"1\" or \"0\". I wanted to see only 20 rows of the results and I can observe the model seems to accurately predict the label."
      ]
    },
    {
      "cell_type": "code",
      "source": [
        "# Evaluate the model (with Random Search).\n",
        "results_lrModel = lrModel.evaluate(test_d5).predictions\n",
        "results_lrModel.show(5)"
      ],
      "metadata": {
        "colab": {
          "base_uri": "https://localhost:8080/"
        },
        "id": "_iXpRLthn1nN",
        "outputId": "cb824e91-6344-449a-bec3-6f60ec8bbe31"
      },
      "execution_count": null,
      "outputs": [
        {
          "output_type": "stream",
          "name": "stdout",
          "text": [
            "+--------------------+------+--------------------+-----------+----------+\n",
            "|      scaledFeatures|LabelT|       rawPrediction|probability|prediction|\n",
            "+--------------------+------+--------------------+-----------+----------+\n",
            "|(45,[0,1,2,3,4,5,...|   0.0|[329.665198832661...|  [1.0,0.0]|       0.0|\n",
            "|(45,[0,1,2,3,4,5,...|   0.0|[329.871525326566...|  [1.0,0.0]|       0.0|\n",
            "|(45,[0,1,2,3,4,5,...|   0.0|[347.906837346509...|  [1.0,0.0]|       0.0|\n",
            "|(45,[0,1,2,3,4,5,...|   0.0|[393.259095598358...|  [1.0,0.0]|       0.0|\n",
            "|(45,[0,1,2,3,4,5,...|   0.0|[554.117774103129...|  [1.0,0.0]|       0.0|\n",
            "+--------------------+------+--------------------+-----------+----------+\n",
            "only showing top 5 rows\n",
            "\n"
          ]
        }
      ]
    },
    {
      "cell_type": "code",
      "execution_count": null,
      "metadata": {
        "id": "mitNC53nJs0W"
      },
      "outputs": [],
      "source": [
        "# Evaluate the model performance using confusion matrix (without Random Search).\n",
        "true_postives = results_log_reg[(results_log_reg.LabelT == 1) & (results_log_reg.prediction == 1)].count()\n",
        "true_negatives = results_log_reg[(results_log_reg.LabelT == 0) & (results_log_reg.prediction == 0)].count()\n",
        "false_positives = results_log_reg[(results_log_reg.LabelT == 0) & (results_log_reg.prediction == 1)].count()\n",
        "false_negatives = results_log_reg[(results_log_reg.LabelT == 1) & (results_log_reg.prediction == 0)].count()"
      ]
    },
    {
      "cell_type": "markdown",
      "metadata": {
        "id": "jzt1f2auJuqe"
      },
      "source": [
        "In this part I am calculating the accuracy of my model. I am considering how accurate was rightly predicting those with label \"0\" into label \"0\" (true_negatives) and those with label \"1\" into label \"1\" (true_negatives). It is also the prediction of those with label \"0\" into label \"1\" (false_negatives) and those with label \"1\" into label \"0\" (false_negatives)."
      ]
    },
    {
      "cell_type": "code",
      "source": [
        "# Evaluate the model performance using confusion matrix (with Random Search).\n",
        "true_postives_lrModel = results_lrModel[(results_lrModel.LabelT == 1) & (results_lrModel.prediction == 1)].count()\n",
        "true_negatives_lrModel = results_lrModel[(results_lrModel.LabelT == 0) & (results_lrModel.prediction == 0)].count()\n",
        "false_positives_lrModel = results_lrModel[(results_lrModel.LabelT == 0) & (results_lrModel.prediction == 1)].count()\n",
        "false_negatives_lrModel = results_lrModel[(results_lrModel.LabelT == 1) & (results_lrModel.prediction == 0)].count()"
      ],
      "metadata": {
        "id": "e-7mIUEeoUle"
      },
      "execution_count": null,
      "outputs": []
    },
    {
      "cell_type": "code",
      "source": [
        "# Print results (without Random Search).\n",
        "print ('TP2 =', true_postives)\n",
        "print('TN2 =', true_negatives)\n",
        "print('FP2 =', false_positives)\n",
        "print('FN2 =', false_negatives)"
      ],
      "metadata": {
        "colab": {
          "base_uri": "https://localhost:8080/"
        },
        "id": "ewr_ffrJQMbE",
        "outputId": "d39e5efe-9399-48b6-c4fa-192a6e4a000d"
      },
      "execution_count": null,
      "outputs": [
        {
          "output_type": "stream",
          "name": "stdout",
          "text": [
            "TP2 = 113780\n",
            "TN2 = 200487\n",
            "FP2 = 82\n",
            "FN2 = 84\n"
          ]
        }
      ]
    },
    {
      "cell_type": "code",
      "source": [
        "# Print results (with Random Search).\n",
        "print ('TP2 =', true_postives_lrModel)\n",
        "print('TN2 =', true_negatives_lrModel)\n",
        "print('FP2 =', false_positives_lrModel)\n",
        "print('FN2 =', false_negatives_lrModel)"
      ],
      "metadata": {
        "colab": {
          "base_uri": "https://localhost:8080/"
        },
        "id": "x2Hhno22ovrZ",
        "outputId": "76a924f4-47a0-44c3-91d6-d7d9aae3f396"
      },
      "execution_count": null,
      "outputs": [
        {
          "output_type": "stream",
          "name": "stdout",
          "text": [
            "TP2 = 113860\n",
            "TN2 = 200537\n",
            "FP2 = 32\n",
            "FN2 = 4\n"
          ]
        }
      ]
    },
    {
      "cell_type": "code",
      "execution_count": null,
      "metadata": {
        "id": "LttAgw6HJwEw",
        "colab": {
          "base_uri": "https://localhost:8080/"
        },
        "outputId": "877263f8-46d2-4a85-cbd5-7b887e63aa63"
      },
      "outputs": [
        {
          "output_type": "stream",
          "name": "stdout",
          "text": [
            "+------+----------+------+\n",
            "|LabelT|prediction| count|\n",
            "+------+----------+------+\n",
            "|   1.0|       1.0|113780|\n",
            "|   0.0|       1.0|    82|\n",
            "|   1.0|       0.0|    84|\n",
            "|   0.0|       0.0|200487|\n",
            "+------+----------+------+\n",
            "\n"
          ]
        }
      ],
      "source": [
        "# Confusion Matrix (without Random Search).\n",
        "confusion_matrix = results_log_reg.groupBy(\"LabelT\", \"prediction\").count()\n",
        "confusion_matrix.show()"
      ]
    },
    {
      "cell_type": "markdown",
      "metadata": {
        "id": "qH4PD-tZJz4T"
      },
      "source": [
        "In this part I am using the confusion matrix to visualise the prediction and the number of those predictions."
      ]
    },
    {
      "cell_type": "code",
      "source": [
        "# Confusion Matrix (with Random Search).\n",
        "confusion_matrix_lrModel = results_lrModel.groupBy(\"LabelT\", \"prediction\").count()\n",
        "confusion_matrix_lrModel.show()"
      ],
      "metadata": {
        "colab": {
          "base_uri": "https://localhost:8080/"
        },
        "id": "PXn-_cyapdu1",
        "outputId": "ad4d1f7a-5a70-4832-bc93-05e98cb4db43"
      },
      "execution_count": null,
      "outputs": [
        {
          "output_type": "stream",
          "name": "stdout",
          "text": [
            "+------+----------+------+\n",
            "|LabelT|prediction| count|\n",
            "+------+----------+------+\n",
            "|   1.0|       1.0|113860|\n",
            "|   0.0|       1.0|    32|\n",
            "|   1.0|       0.0|     4|\n",
            "|   0.0|       0.0|200537|\n",
            "+------+----------+------+\n",
            "\n"
          ]
        }
      ]
    },
    {
      "cell_type": "code",
      "source": [
        "# Predictions (without Random Search):\n",
        "y_true = results_log_reg.select(\"labelT\")\n",
        "y_true = y_true.toPandas()\n",
        "\n",
        "y_pred = results_log_reg.select(\"prediction\")\n",
        "y_pred = y_pred.toPandas()\n",
        "\n",
        "print(\"y_true ----------------------->\")\n",
        "print (y_true)\n",
        "print(\"y_pred ----------------------->\")\n",
        "print (y_pred)"
      ],
      "metadata": {
        "colab": {
          "base_uri": "https://localhost:8080/"
        },
        "id": "5DnA_Xp31qN4",
        "outputId": "09d3d1cc-a49c-4618-e089-7d51b147584b"
      },
      "execution_count": null,
      "outputs": [
        {
          "output_type": "stream",
          "name": "stdout",
          "text": [
            "y_true ----------------------->\n",
            "        labelT\n",
            "0          0.0\n",
            "1          0.0\n",
            "2          0.0\n",
            "3          0.0\n",
            "4          0.0\n",
            "...        ...\n",
            "314428     0.0\n",
            "314429     0.0\n",
            "314430     0.0\n",
            "314431     0.0\n",
            "314432     0.0\n",
            "\n",
            "[314433 rows x 1 columns]\n",
            "y_pred ----------------------->\n",
            "        prediction\n",
            "0              0.0\n",
            "1              0.0\n",
            "2              0.0\n",
            "3              0.0\n",
            "4              0.0\n",
            "...            ...\n",
            "314428         0.0\n",
            "314429         0.0\n",
            "314430         0.0\n",
            "314431         0.0\n",
            "314432         0.0\n",
            "\n",
            "[314433 rows x 1 columns]\n"
          ]
        }
      ]
    },
    {
      "cell_type": "code",
      "source": [
        "# Predictions (with Random Search):\n",
        "y_true_lrModel = results_lrModel.select(\"labelT\")\n",
        "y_true_lrModel = y_true_lrModel.toPandas()\n",
        "\n",
        "y_pred_lrModel = results_lrModel.select(\"prediction\")\n",
        "y_pred_lrModel = y_pred_lrModel.toPandas()\n",
        "\n",
        "print(\"y_true ----------------------->\")\n",
        "print (y_true_lrModel)\n",
        "print(\"y_pred ----------------------->\")\n",
        "print (y_pred_lrModel)"
      ],
      "metadata": {
        "colab": {
          "base_uri": "https://localhost:8080/"
        },
        "id": "5oBpUfNNqDOl",
        "outputId": "38fffcf9-4d31-4d03-b88c-8792039f4400"
      },
      "execution_count": null,
      "outputs": [
        {
          "output_type": "stream",
          "name": "stdout",
          "text": [
            "y_true ----------------------->\n",
            "        labelT\n",
            "0          0.0\n",
            "1          0.0\n",
            "2          0.0\n",
            "3          0.0\n",
            "4          0.0\n",
            "...        ...\n",
            "314428     0.0\n",
            "314429     0.0\n",
            "314430     0.0\n",
            "314431     0.0\n",
            "314432     0.0\n",
            "\n",
            "[314433 rows x 1 columns]\n",
            "y_pred ----------------------->\n",
            "        prediction\n",
            "0              0.0\n",
            "1              0.0\n",
            "2              0.0\n",
            "3              0.0\n",
            "4              0.0\n",
            "...            ...\n",
            "314428         0.0\n",
            "314429         0.0\n",
            "314430         0.0\n",
            "314431         0.0\n",
            "314432         0.0\n",
            "\n",
            "[314433 rows x 1 columns]\n"
          ]
        }
      ]
    },
    {
      "cell_type": "code",
      "source": [
        "# Calculation of the Test Error of the Logistic Regression Model (without Random Search).\n",
        "evaluator = MulticlassClassificationEvaluator(\n",
        "    labelCol=\"LabelT\", predictionCol=\"prediction\", metricName=\"precisionByLabel\")\n",
        "precisionByLabel = evaluator.evaluate(results_log_reg)\n",
        "print(\"Test Error = %g \" % (1.0 - precisionByLabel))"
      ],
      "metadata": {
        "colab": {
          "base_uri": "https://localhost:8080/"
        },
        "id": "Cc4i6GGkq-n8",
        "outputId": "23d88bc1-0c69-4747-8e8b-99820f4a1481"
      },
      "execution_count": null,
      "outputs": [
        {
          "output_type": "stream",
          "name": "stdout",
          "text": [
            "Test Error = 0.000418804 \n"
          ]
        }
      ]
    },
    {
      "cell_type": "code",
      "source": [
        "# Calculation of the Test Error of the Logistic Regression Model (with Random Search).\n",
        "evaluator_lrModel = MulticlassClassificationEvaluator(\n",
        "    labelCol=\"LabelT\", predictionCol=\"prediction\", metricName=\"precisionByLabel\")\n",
        "precisionByLabel = evaluator_lrModel.evaluate(results_lrModel)\n",
        "print(\"Test Error = %g \" % (1.0 - precisionByLabel))"
      ],
      "metadata": {
        "colab": {
          "base_uri": "https://localhost:8080/"
        },
        "id": "MIsd1JOq1xDH",
        "outputId": "71d72d01-9726-47b8-87be-3b951bf8ca10"
      },
      "execution_count": null,
      "outputs": [
        {
          "output_type": "stream",
          "name": "stdout",
          "text": [
            "Test Error = 1.9946e-05 \n"
          ]
        }
      ]
    },
    {
      "cell_type": "code",
      "source": [
        "# View classication report and accuracy store (without Random Search).\n",
        "print(classification_report(y_true.labelT, y_pred.prediction))\n",
        "print(\"The accuracy of the logistic regression model is: \", accuracy_score(y_true.labelT, y_pred.prediction))"
      ],
      "metadata": {
        "colab": {
          "base_uri": "https://localhost:8080/"
        },
        "id": "TK1yxdkv2G2a",
        "outputId": "28cbdb5c-7748-4564-c931-081a4603cc8e"
      },
      "execution_count": null,
      "outputs": [
        {
          "output_type": "stream",
          "name": "stdout",
          "text": [
            "              precision    recall  f1-score   support\n",
            "\n",
            "         0.0       1.00      1.00      1.00    200569\n",
            "         1.0       1.00      1.00      1.00    113864\n",
            "\n",
            "    accuracy                           1.00    314433\n",
            "   macro avg       1.00      1.00      1.00    314433\n",
            "weighted avg       1.00      1.00      1.00    314433\n",
            "\n",
            "The accuracy of the logistic regression model is:  0.9994720655910798\n"
          ]
        }
      ]
    },
    {
      "cell_type": "markdown",
      "source": [
        "With this code I see at the same time a report of the classification and the accuracy of the model implemented (in this case is \"logistic regression\"). In the report I calculate:\n",
        "\n",
        "    Precision: It determines the quality of an acurate prediction.\n",
        "    Recall: It calculates how many times the model calculate true positives (it correctly predict the label).\n",
        "    F1-score: It indicates the truthforness of the model. It calculates the mean of the precision and the recall.\n",
        "    Support: It indicates the number of instances in each class of the dataset.\n",
        "\n",
        "The accuracy measures of how many times the model predicted correctly the label."
      ],
      "metadata": {
        "id": "1iV7Zay62J6a"
      }
    },
    {
      "cell_type": "code",
      "source": [
        "# View classication report and accuracy store (with Random Search).\n",
        "print(classification_report(y_true_lrModel.labelT, y_pred_lrModel.prediction))\n",
        "print(\"The accuracy of the logistic regression model is: \", accuracy_score(y_true_lrModel.labelT, y_pred_lrModel.prediction))"
      ],
      "metadata": {
        "colab": {
          "base_uri": "https://localhost:8080/"
        },
        "id": "2H_vCtu6rhGZ",
        "outputId": "a2a519d9-0ce2-4f0c-bf0d-6f93f9164248"
      },
      "execution_count": null,
      "outputs": [
        {
          "output_type": "stream",
          "name": "stdout",
          "text": [
            "              precision    recall  f1-score   support\n",
            "\n",
            "         0.0       1.00      1.00      1.00    200569\n",
            "         1.0       1.00      1.00      1.00    113864\n",
            "\n",
            "    accuracy                           1.00    314433\n",
            "   macro avg       1.00      1.00      1.00    314433\n",
            "weighted avg       1.00      1.00      1.00    314433\n",
            "\n",
            "The accuracy of the logistic regression model is:  0.9998855082004752\n"
          ]
        }
      ]
    },
    {
      "cell_type": "code",
      "source": [
        "# Calculations for label \"0\" (without Random Search).\n",
        "accuracy_LG = evaluator.evaluate(results_log_reg)\n",
        "f1_score_LG = evaluator.evaluate(results_log_reg, {evaluator.metricName: \"f1\" })\n",
        "precision_LG = evaluator.evaluate(results_log_reg, {evaluator.metricName: \"precisionByLabel\"})\n",
        "recall_LG = evaluator.evaluate(results_log_reg, {evaluator.metricName: \"recallByLabel\"})\n",
        "hamming_LG = evaluator.evaluate(results_log_reg, {evaluator.metricName: \"hammingLoss\"})\n",
        "\n",
        "print(\"The accuracy Label '0' of the Logistic Regression Model is: \" , accuracy_LG)\n",
        "print(\"The f1-score  Label '0' of the Logistic Regression Model is: \", f1_score_LG)\n",
        "print(\"The precision  Label '0' of the Logistic Regression Model is: \", precision_LG)\n",
        "print(\"The recall  Label '0' of the Logistic Regression Model is: \", recall_LG)\n",
        "print(\"The hamming  Label '0' of the Logistic Regression Model is: \", hamming_LG)"
      ],
      "metadata": {
        "colab": {
          "base_uri": "https://localhost:8080/"
        },
        "id": "2LCusHM82P7s",
        "outputId": "a183eb87-9cf0-4f61-f49a-2057b02ef5ad"
      },
      "execution_count": null,
      "outputs": [
        {
          "output_type": "stream",
          "name": "stdout",
          "text": [
            "The accuracy Label '0' of the Logistic Regression Model is:  0.9995811956863155\n",
            "The f1-score  Label '0' of the Logistic Regression Model is:  0.9994720645888773\n",
            "The precision  Label '0' of the Logistic Regression Model is:  0.9995811956863155\n",
            "The recall  Label '0' of the Logistic Regression Model is:  0.9995911631408643\n",
            "The hamming  Label '0' of the Logistic Regression Model is:  0.0005279344089201833\n"
          ]
        }
      ]
    },
    {
      "cell_type": "code",
      "source": [
        "# Calculations for label \"0\" (with Random Search).\n",
        "accuracy_LG_lrModel = evaluator_lrModel.evaluate(results_lrModel)\n",
        "f1_score_LG_lrModel = evaluator_lrModel.evaluate(results_lrModel, {evaluator_lrModel.metricName: \"f1\" })\n",
        "precision_LG_lrModel = evaluator_lrModel.evaluate(results_lrModel, {evaluator_lrModel.metricName: \"precisionByLabel\"})\n",
        "recall_LG_lrModel = evaluator_lrModel.evaluate(results_lrModel, {evaluator_lrModel.metricName: \"recallByLabel\"})\n",
        "hamming_LG_lrModel = evaluator_lrModel.evaluate(results_lrModel, {evaluator_lrModel.metricName: \"hammingLoss\"})\n",
        "\n",
        "print(\"The accuracy Label '0' of the Logistic Regression Model is: \" , accuracy_LG_lrModel)\n",
        "print(\"The f1-score  Label '0' of the Logistic Regression Model is: \", f1_score_LG_lrModel)\n",
        "print(\"The precision  Label '0' of the Logistic Regression Model is: \", precision_LG_lrModel)\n",
        "print(\"The recall  Label '0' of the Logistic Regression Model is: \", recall_LG_lrModel)\n",
        "print(\"The hamming  Label '0' of the Logistic Regression Model is: \", hamming_LG_lrModel)"
      ],
      "metadata": {
        "colab": {
          "base_uri": "https://localhost:8080/"
        },
        "id": "Qm3CzmOFsH_z",
        "outputId": "4c213e50-be7f-425e-eefa-d87260a0e2c1"
      },
      "execution_count": null,
      "outputs": [
        {
          "output_type": "stream",
          "name": "stdout",
          "text": [
            "The accuracy Label '0' of the Logistic Regression Model is:  0.9999800539540543\n",
            "The f1-score  Label '0' of the Logistic Regression Model is:  0.9998855112420812\n",
            "The precision  Label '0' of the Logistic Regression Model is:  0.9999800539540543\n",
            "The recall  Label '0' of the Logistic Regression Model is:  0.99984045390863\n",
            "The hamming  Label '0' of the Logistic Regression Model is:  0.00011449179952485904\n"
          ]
        }
      ]
    },
    {
      "cell_type": "markdown",
      "source": [
        "These are some additional performance metrics:\n",
        "\n",
        "    -Accuracy: It  measures of how many times the model predicted correctly the label.\n",
        "    -Precision: It determines the quality of an acurate prediction.\n",
        "    -Recall: It calculates how many times the model calculate true positives (it correctly predict the label).\n",
        "    -Hamming: It measures the similarity of two strings of the same length."
      ],
      "metadata": {
        "id": "6Mu0g76k2Vyq"
      }
    },
    {
      "cell_type": "code",
      "source": [
        "# Calculations for label \"1\" (\"attack traffic\", without Random Search).\n",
        "accuracy_1_LG = evaluator.evaluate(results_log_reg)\n",
        "f1_score_1_LG = evaluator.evaluate(results_log_reg, {evaluator.metricName: \"f1\", evaluator.metricLabel: 1.0})\n",
        "precision_1_LG = evaluator.evaluate(results_log_reg, {evaluator.metricName: \"precisionByLabel\", evaluator.metricLabel: 1.0})\n",
        "recall_1_LG = evaluator.evaluate(results_log_reg, {evaluator.metricName: \"recallByLabel\", evaluator.metricLabel: 1.0})\n",
        "hamming_1_LG = evaluator.evaluate(results_log_reg, {evaluator.metricName: \"hammingLoss\", evaluator.metricLabel: 1.0})\n",
        "\n",
        "print(\"The accuracy  Label '1' of the Logistic Regression Model is: \" , accuracy_1_LG)\n",
        "print(\"The f1-score  Label '1' of the Logistic Regression Model is: \", f1_score_1_LG)\n",
        "print(\"The precision Label '1' of the Logistic Regression Model is: \", precision_1_LG)\n",
        "print(\"The recall Label '1' of the Logistic Regression Model is: \", recall_1_LG)\n",
        "print(\"The hamming Label '1' of the Logistic Regression Model is: \", hamming_1_LG)"
      ],
      "metadata": {
        "colab": {
          "base_uri": "https://localhost:8080/"
        },
        "id": "FKLCzrKq2S1O",
        "outputId": "4be17639-3e1d-46fa-d96d-f6a0ab4c5923"
      },
      "execution_count": null,
      "outputs": [
        {
          "output_type": "stream",
          "name": "stdout",
          "text": [
            "The accuracy  Label '1' of the Logistic Regression Model is:  0.9995811956863155\n",
            "The f1-score  Label '1' of the Logistic Regression Model is:  0.9994720645888773\n",
            "The precision Label '1' of the Logistic Regression Model is:  0.9992798299696123\n",
            "The recall Label '1' of the Logistic Regression Model is:  0.9992622778051008\n",
            "The hamming Label '1' of the Logistic Regression Model is:  0.0005279344089201833\n"
          ]
        }
      ]
    },
    {
      "cell_type": "code",
      "source": [
        "# Calculations for label \"1\" (\"attack traffic\", with Random Search).\n",
        "accuracy_1_LG_lrModel = evaluator_lrModel.evaluate(results_lrModel)\n",
        "f1_score_1_LG_lrModel = evaluator_lrModel.evaluate(results_lrModel, {evaluator_lrModel.metricName: \"f1\", evaluator_lrModel.metricLabel: 1.0})\n",
        "precision_1_LG_lrModel = evaluator_lrModel.evaluate(results_lrModel, {evaluator_lrModel.metricName: \"precisionByLabel\", evaluator_lrModel.metricLabel: 1.0})\n",
        "recall_1_LG_lrModel = evaluator_lrModel.evaluate(results_lrModel, {evaluator_lrModel.metricName: \"recallByLabel\", evaluator_lrModel.metricLabel: 1.0})\n",
        "hamming_1_LG_lrModel = evaluator_lrModel.evaluate(results_lrModel, {evaluator_lrModel.metricName: \"hammingLoss\", evaluator_lrModel.metricLabel: 1.0})\n",
        "\n",
        "print(\"The accuracy  Label '1' of the Logistic Regression Model is: \" , accuracy_1_LG_lrModel)\n",
        "print(\"The f1-score  Label '1' of the Logistic Regression Model is: \", f1_score_1_LG_lrModel)\n",
        "print(\"The precision Label '1' of the Logistic Regression Model is: \", precision_1_LG_lrModel)\n",
        "print(\"The recall Label '1' of the Logistic Regression Model is: \", recall_1_LG_lrModel)\n",
        "print(\"The hamming Label '1' of the Logistic Regression Model is: \", hamming_1_LG_lrModel)"
      ],
      "metadata": {
        "id": "kQLiP9Wauw4Z",
        "colab": {
          "base_uri": "https://localhost:8080/"
        },
        "outputId": "2fdf6eec-1d75-4f7e-c15b-0fbe3febeded"
      },
      "execution_count": null,
      "outputs": [
        {
          "output_type": "stream",
          "name": "stdout",
          "text": [
            "The accuracy  Label '1' of the Logistic Regression Model is:  0.9999800539540543\n",
            "The f1-score  Label '1' of the Logistic Regression Model is:  0.9998855112420812\n",
            "The precision Label '1' of the Logistic Regression Model is:  0.9997190320654655\n",
            "The recall Label '1' of the Logistic Regression Model is:  0.9999648703716715\n",
            "The hamming Label '1' of the Logistic Regression Model is:  0.00011449179952485904\n"
          ]
        }
      ]
    },
    {
      "cell_type": "markdown",
      "metadata": {
        "id": "u6gTx3jfJVMc"
      },
      "source": [
        "     - DECISION TREE CLASSIFIER EVALUATION AND ACCURACY CALCULATION\n"
      ]
    },
    {
      "cell_type": "code",
      "execution_count": null,
      "metadata": {
        "id": "w0kG8Q3CM3xu",
        "colab": {
          "base_uri": "https://localhost:8080/"
        },
        "outputId": "09a7a969-561b-4d86-9a41-bfab2be78cda"
      },
      "outputs": [
        {
          "output_type": "stream",
          "name": "stdout",
          "text": [
            "y_true ----------------------->\n",
            "        labelT\n",
            "0          0.0\n",
            "1          0.0\n",
            "2          0.0\n",
            "3          0.0\n",
            "4          0.0\n",
            "...        ...\n",
            "314428     0.0\n",
            "314429     0.0\n",
            "314430     0.0\n",
            "314431     0.0\n",
            "314432     0.0\n",
            "\n",
            "[314433 rows x 1 columns]\n",
            "y_pred ----------------------->\n",
            "        prediction\n",
            "0              0.0\n",
            "1              0.0\n",
            "2              0.0\n",
            "3              0.0\n",
            "4              0.0\n",
            "...            ...\n",
            "314428         0.0\n",
            "314429         0.0\n",
            "314430         0.0\n",
            "314431         0.0\n",
            "314432         0.0\n",
            "\n",
            "[314433 rows x 1 columns]\n"
          ]
        }
      ],
      "source": [
        "# Evaluate the Decision Tree Model.\n",
        "y_trueDTC = predictionsDTC.select(\"indexedLabel\")\n",
        "y_trueDTC = y_trueDTC.toPandas()\n",
        "\n",
        "y_predDTC = predictionsDTC.select(\"prediction\")\n",
        "y_predDTC = y_predDTC.toPandas()\n",
        "\n",
        "print(\"y_true ----------------------->\")\n",
        "print (y_true)\n",
        "print(\"y_pred ----------------------->\")\n",
        "print (y_pred)"
      ]
    },
    {
      "cell_type": "code",
      "execution_count": null,
      "metadata": {
        "id": "faeoxIIUNA7s",
        "colab": {
          "base_uri": "https://localhost:8080/"
        },
        "outputId": "145dd64c-749e-4451-8756-c7f838fecfb9"
      },
      "outputs": [
        {
          "output_type": "stream",
          "name": "stdout",
          "text": [
            "              precision    recall  f1-score   support\n",
            "\n",
            "         0.0       1.00      1.00      1.00    200569\n",
            "         1.0       1.00      1.00      1.00    113864\n",
            "\n",
            "    accuracy                           1.00    314433\n",
            "   macro avg       1.00      1.00      1.00    314433\n",
            "weighted avg       1.00      1.00      1.00    314433\n",
            "\n",
            "The accuracy of the Decision Tree Classifier model is:  0.9999968196722354\n"
          ]
        }
      ],
      "source": [
        "# Creating the report for the Decision Tree Model.\n",
        "print(classification_report(y_trueDTC.indexedLabel, y_predDTC.prediction))\n",
        "print(\"The accuracy of the Decision Tree Classifier model is: \", accuracy_score(y_trueDTC.indexedLabel, y_predDTC.prediction))"
      ]
    },
    {
      "cell_type": "code",
      "execution_count": null,
      "metadata": {
        "id": "H_5BItmoNDcZ",
        "colab": {
          "base_uri": "https://localhost:8080/"
        },
        "outputId": "3a0fe68a-1024-4206-dd91-a9f00f6e73c2"
      },
      "outputs": [
        {
          "output_type": "stream",
          "name": "stdout",
          "text": [
            "The accuracy of the Decision Tree Model is:  0.9999968196722354\n",
            "The f1-score of the Decision Tree Model is:  0.9999968196752539\n",
            "The precision of the Decision Tree Model is:  1.0\n",
            "The recall of the Decision Tree Model is:  0.9999950141846446\n",
            "The hamming of the Decision Tree Model is:  3.1803277645794177e-06\n"
          ]
        }
      ],
      "source": [
        "# Calculations for label \"0\".\n",
        "accuracy_DTC = evaluator.evaluate(predictionsDTC)\n",
        "f1_score_DTC  = evaluator.evaluate(predictionsDTC, {evaluator.metricName: \"f1\" })\n",
        "precision_DTC  = evaluator.evaluate(predictionsDTC, {evaluator.metricName: \"precisionByLabel\"})\n",
        "recall_DTC  = evaluator.evaluate(predictionsDTC, {evaluator.metricName: \"recallByLabel\"})\n",
        "hamming_DTC  = evaluator.evaluate(predictionsDTC, {evaluator.metricName: \"hammingLoss\"})\n",
        "\n",
        "print(\"The accuracy of the Decision Tree Model is: \" , accuracy_DTC)\n",
        "print(\"The f1-score of the Decision Tree Model is: \", f1_score_DTC)\n",
        "print(\"The precision of the Decision Tree Model is: \", precision_DTC)\n",
        "print(\"The recall of the Decision Tree Model is: \", recall_DTC)\n",
        "print(\"The hamming of the Decision Tree Model is: \", hamming_DTC)"
      ]
    },
    {
      "cell_type": "code",
      "source": [
        "# Calculations for label \"1\" (\"attack traffic\").\n",
        "accuracy_1_DTC = evaluator.evaluate(predictionsDTC)\n",
        "f1_score_1_DTC  = evaluator.evaluate(predictionsDTC, {evaluator.metricName: \"f1\", evaluator.metricLabel: 1.0})\n",
        "precision_1_DTC  = evaluator.evaluate(predictionsDTC, {evaluator.metricName: \"precisionByLabel\", evaluator.metricLabel: 1.0})\n",
        "recall_1_DTC = evaluator.evaluate(predictionsDTC, {evaluator.metricName: \"recallByLabel\", evaluator.metricLabel: 1.0})\n",
        "hamming_1_DTC  = evaluator.evaluate(predictionsDTC, {evaluator.metricName: \"hammingLoss\", evaluator.metricLabel: 1.0})\n",
        "\n",
        "print(\"The accuracy  Label '1' of the Decision Tree Model is: \" , accuracy_1_DTC)\n",
        "print(\"The f1-score  Label '1' of the Decision Tree Model is: \", f1_score_1_DTC)\n",
        "print(\"The precision Label '1' of the Decision Tree Model is: \", precision_1_DTC)\n",
        "print(\"The recall Label '1' of the Decision Tree Model is: \", recall_1_DTC)\n",
        "print(\"The hamming Label '1' of the Decision Tree Model is: \", hamming_1_DTC)"
      ],
      "metadata": {
        "colab": {
          "base_uri": "https://localhost:8080/"
        },
        "id": "H6mWp7I6FBa8",
        "outputId": "5b8adf21-f48e-41a9-a41f-61fd875936ac"
      },
      "execution_count": null,
      "outputs": [
        {
          "output_type": "stream",
          "name": "stdout",
          "text": [
            "The accuracy  Label '1' of the Decision Tree Model is:  0.9999968196722354\n",
            "The f1-score  Label '1' of the Decision Tree Model is:  0.9999968196752539\n",
            "The precision Label '1' of the Decision Tree Model is:  0.9999912176700478\n",
            "The recall Label '1' of the Decision Tree Model is:  1.0\n",
            "The hamming Label '1' of the Decision Tree Model is:  3.1803277645794177e-06\n"
          ]
        }
      ]
    },
    {
      "cell_type": "markdown",
      "metadata": {
        "id": "flg8Y7jtJSV6"
      },
      "source": [
        "      - RANDOM FOREST MODEL EVALUATION AND ACCURACY CALCULATION\n"
      ]
    },
    {
      "cell_type": "code",
      "source": [
        "# Evaluate the Random Forest Model.\n",
        "y_trueRFC = predictionsRFC.select(\"indexedLabel\")\n",
        "y_trueRFC = y_trueRFC.toPandas()\n",
        "\n",
        "y_predRFC = predictionsRFC.select(\"prediction\")\n",
        "y_predRFC = y_predRFC.toPandas()\n",
        "\n",
        "print(\"y_true ----------------------->\")\n",
        "print (y_true)\n",
        "print(\"y_pred ----------------------->\")\n",
        "print (y_pred)"
      ],
      "metadata": {
        "colab": {
          "base_uri": "https://localhost:8080/"
        },
        "id": "H1xaW1cgMMvt",
        "outputId": "13ef6049-4921-4f17-d44e-001b85810d46"
      },
      "execution_count": null,
      "outputs": [
        {
          "output_type": "stream",
          "name": "stdout",
          "text": [
            "y_true ----------------------->\n",
            "        labelT\n",
            "0          0.0\n",
            "1          0.0\n",
            "2          0.0\n",
            "3          0.0\n",
            "4          0.0\n",
            "...        ...\n",
            "314428     0.0\n",
            "314429     0.0\n",
            "314430     0.0\n",
            "314431     0.0\n",
            "314432     0.0\n",
            "\n",
            "[314433 rows x 1 columns]\n",
            "y_pred ----------------------->\n",
            "        prediction\n",
            "0              0.0\n",
            "1              0.0\n",
            "2              0.0\n",
            "3              0.0\n",
            "4              0.0\n",
            "...            ...\n",
            "314428         0.0\n",
            "314429         0.0\n",
            "314430         0.0\n",
            "314431         0.0\n",
            "314432         0.0\n",
            "\n",
            "[314433 rows x 1 columns]\n"
          ]
        }
      ]
    },
    {
      "cell_type": "code",
      "source": [
        "# Creating the report for the Random Forest Model.\n",
        "print(classification_report(y_trueRFC.indexedLabel, y_predRFC.prediction))\n",
        "print(\"The accuracy of the Random Forest Classification model is: \", accuracy_score(y_trueRFC.indexedLabel, y_predRFC.prediction))"
      ],
      "metadata": {
        "colab": {
          "base_uri": "https://localhost:8080/"
        },
        "id": "JMSSpva4MXq-",
        "outputId": "a2cd01bf-6165-43b5-df95-2bc40395c2bc"
      },
      "execution_count": null,
      "outputs": [
        {
          "output_type": "stream",
          "name": "stdout",
          "text": [
            "              precision    recall  f1-score   support\n",
            "\n",
            "         0.0       1.00      1.00      1.00    200569\n",
            "         1.0       1.00      1.00      1.00    113864\n",
            "\n",
            "    accuracy                           1.00    314433\n",
            "   macro avg       1.00      1.00      1.00    314433\n",
            "weighted avg       1.00      1.00      1.00    314433\n",
            "\n",
            "The accuracy of the Random Forest Classification model is:  0.9999904590167062\n"
          ]
        }
      ]
    },
    {
      "cell_type": "code",
      "execution_count": null,
      "metadata": {
        "id": "sFwwtCxWNpoy",
        "colab": {
          "base_uri": "https://localhost:8080/"
        },
        "outputId": "b2321d38-2ef2-4a69-9bf5-34a42155ee82"
      },
      "outputs": [
        {
          "output_type": "stream",
          "name": "stdout",
          "text": [
            "The accuracy of the Random Forest Classification  Model is:  0.9999904590167062\n",
            "The f1-score of the Random Forest Classification  Model is:  0.9999904590076503\n",
            "The precision of the Random Forest Classification  Model is:  0.9999900284190059\n",
            "The recall of the Random Forest Classification  Model is:  0.9999950141846446\n",
            "The hamming of the Random Forest Classification  Model is:  9.540983293738252e-06\n"
          ]
        }
      ],
      "source": [
        "# Calculations for label \"0\".\n",
        "accuracy_RFC = evaluator.evaluate(predictionsRFC)\n",
        "f1_score_RFC = evaluator.evaluate(predictionsRFC, {evaluator.metricName: \"f1\" })\n",
        "precision_RFC = evaluator.evaluate(predictionsRFC, {evaluator.metricName: \"precisionByLabel\"})\n",
        "recall_RFC = evaluator.evaluate(predictionsRFC, {evaluator.metricName: \"recallByLabel\"})\n",
        "hamming_RFC = evaluator.evaluate(predictionsRFC, {evaluator.metricName: \"hammingLoss\"})\n",
        "\n",
        "print(\"The accuracy of the Random Forest Classification  Model is: \" , accuracy_RFC)\n",
        "print(\"The f1-score of the Random Forest Classification  Model is: \", f1_score_RFC)\n",
        "print(\"The precision of the Random Forest Classification  Model is: \", precision_RFC)\n",
        "print(\"The recall of the Random Forest Classification  Model is: \", recall_RFC)\n",
        "print(\"The hamming of the Random Forest Classification  Model is: \", hamming_RFC)"
      ]
    },
    {
      "cell_type": "code",
      "source": [
        "# Calculations for label \"1\" (\"attack traffic\").\n",
        "accuracy_1_RFC = evaluator.evaluate(predictionsRFC)\n",
        "f1_score_1_RFC = evaluator.evaluate(predictionsRFC, {evaluator.metricName: \"f1\", evaluator.metricLabel: 1.0})\n",
        "precision_1_RFC = evaluator.evaluate(predictionsRFC, {evaluator.metricName: \"precisionByLabel\", evaluator.metricLabel: 1.0})\n",
        "recall_1_RFC = evaluator.evaluate(predictionsRFC, {evaluator.metricName: \"recallByLabel\", evaluator.metricLabel: 1.0})\n",
        "hamming_1_RFC = evaluator.evaluate(predictionsRFC, {evaluator.metricName: \"hammingLoss\", evaluator.metricLabel: 1.0})\n",
        "\n",
        "print(\"The accuracy  Label '1' of the Random Forest Classification Model is: \" , accuracy_1_RFC)\n",
        "print(\"The f1-score  Label '1' of the Random Forest Classification Model is: \", f1_score_1_RFC)\n",
        "print(\"The precision Label '1' of the Random Forest Classification Model is: \", precision_1_RFC)\n",
        "print(\"The recall Label '1' of the Random Forest Classification Model is: \", recall_1_RFC)\n",
        "print(\"The hamming Label '1' of the Random Forest Classification Model is: \", hamming_1_RFC)"
      ],
      "metadata": {
        "colab": {
          "base_uri": "https://localhost:8080/"
        },
        "id": "DjqHnH9PGP4n",
        "outputId": "35c5608f-b888-4b2d-d423-7a5ecfb60d1a"
      },
      "execution_count": null,
      "outputs": [
        {
          "output_type": "stream",
          "name": "stdout",
          "text": [
            "The accuracy  Label '1' of the Random Forest Classification Model is:  0.9999904590167062\n",
            "The f1-score  Label '1' of the Random Forest Classification Model is:  0.9999904590076503\n",
            "The precision Label '1' of the Random Forest Classification Model is:  0.9999912175157866\n",
            "The recall Label '1' of the Random Forest Classification Model is:  0.9999824351858357\n",
            "The hamming Label '1' of the Random Forest Classification Model is:  9.540983293738252e-06\n"
          ]
        }
      ]
    },
    {
      "cell_type": "markdown",
      "metadata": {
        "id": "J69mL6K7JXwf"
      },
      "source": [
        "  - UNSUPERVISED LEARNING"
      ]
    },
    {
      "cell_type": "markdown",
      "metadata": {
        "id": "cltciXLcJacW"
      },
      "source": [
        "      -  K-MEANS EVALUATION AND ACCURACY CALCULATION"
      ]
    },
    {
      "cell_type": "code",
      "source": [
        "# Evaluate the model (when k=2).\n",
        "silhouette_scoreKM=[]\n",
        "\n",
        "# Defining evalutator.\n",
        "evaluator = ClusteringEvaluator(predictionCol='prediction',\n",
        "                                featuresCol='scaledFeatures',\n",
        "                                metricName='silhouette',\n",
        "                                distanceMeasure='squaredEuclidean')\n",
        "\n",
        "# Trains a k-means model and make predictions.\n",
        "# k=2 because we have two classes: Label 0 and Label 1.\n",
        "kmeans=KMeans(featuresCol=\"scaledFeatures\", k=2)\n",
        "modelKM=kmeans.fit(training_d5[\"scaledFeatures\", \"LabelT\"])\n",
        "predictionsKM=modelKM.transform(test_d5[\"scaledFeatures\", \"LabelT\"])\n",
        "scoreKM=evaluator.evaluate(predictionsKM)\n",
        "silhouette_scoreKM.append(scoreKM)\n",
        "\n",
        "print(\"Silhouette Score for k=2 is \", scoreKM)"
      ],
      "metadata": {
        "id": "_81y_UKbKsOG",
        "colab": {
          "base_uri": "https://localhost:8080/"
        },
        "outputId": "8fa0dc27-d335-418d-bd5a-be1e2cbba929"
      },
      "execution_count": null,
      "outputs": [
        {
          "output_type": "stream",
          "name": "stdout",
          "text": [
            "Silhouette Score for k=2 is  0.22525865486424074\n"
          ]
        }
      ]
    },
    {
      "cell_type": "code",
      "source": [
        "# Evaluating the model when k range(2,10):\n",
        "silhouette_score=[]\n",
        "# Defining evalutator.\n",
        "evaluator = ClusteringEvaluator(predictionCol='prediction',\n",
        "                                featuresCol='scaledFeatures',\n",
        "                                metricName='silhouette',\n",
        "                                distanceMeasure='squaredEuclidean')\n",
        "\n",
        "# Trains a k-means model and make predictions.\n",
        "for i in range(2,10):\n",
        "    kmeans_KM=KMeans(featuresCol='scaledFeatures', k=i)\n",
        "    model_KM=kmeans_KM.fit(training_d5)\n",
        "    predictions_KM=model_KM.transform(test_d5)\n",
        "    score_KM=evaluator.evaluate(predictions_KM)\n",
        "    silhouette_score.append(score_KM)\n",
        "    print(\"Silhouette Score for k =\" ,i,'is',score_KM)\n",
        "\n",
        "\n",
        "\n",
        "predictions_KM.groupBy(\"prediction\").count().show()\n",
        "\n",
        "# Shows the result.\n",
        "centers_KM = model_KM.clusterCenters()\n",
        "print(\"Cluster Centers: \")\n",
        "for center_KM in centers_KM:\n",
        "  print(center_KM)"
      ],
      "metadata": {
        "colab": {
          "base_uri": "https://localhost:8080/"
        },
        "id": "kSEiRRMVKrH8",
        "outputId": "90ccc68f-ff6a-45b9-8e7b-560adb4172c2"
      },
      "execution_count": null,
      "outputs": [
        {
          "output_type": "stream",
          "name": "stdout",
          "text": [
            "Silhouette Score for k = 2 is 0.22525865486424074\n",
            "Silhouette Score for k = 3 is 0.270845149179145\n",
            "Silhouette Score for k = 4 is 0.270845149179145\n",
            "Silhouette Score for k = 5 is 0.12892150029065824\n",
            "Silhouette Score for k = 6 is 0.16993820468157822\n",
            "Silhouette Score for k = 7 is 0.2694025705533454\n",
            "Silhouette Score for k = 8 is 0.24268574220303574\n",
            "Silhouette Score for k = 9 is 0.31762473224305615\n",
            "+----------+------+\n",
            "|prediction| count|\n",
            "+----------+------+\n",
            "|         1| 53604|\n",
            "|         6|    44|\n",
            "|         5|     1|\n",
            "|         8| 22175|\n",
            "|         7|    32|\n",
            "|         2|126340|\n",
            "|         0|112237|\n",
            "+----------+------+\n",
            "\n",
            "Cluster Centers: \n",
            "[8.12304551e-01 1.33850879e+00 5.28742129e-02 1.19882934e-02\n",
            " 2.49456404e-03 2.09521630e-02 1.45441927e-01 1.20041735e-01\n",
            " 7.05693813e-02 4.57716424e-03 5.56103721e-02 7.00718895e-04\n",
            " 3.56802937e-03 2.65851880e-03 6.31736338e-03 1.39831819e-02\n",
            " 3.98614338e-04 3.27019842e-03 2.68547371e-03 9.49306508e-02\n",
            " 1.33111606e-01 9.83051369e-02 7.09531379e-02 4.24392154e-02\n",
            " 1.53313017e-02 1.80840100e-01 1.78449030e-01 1.90436381e-02\n",
            " 7.93077856e-02 8.61708826e-02 8.96534938e-02 9.26703792e-03\n",
            " 9.63398253e-02 1.45441927e-01 5.56103721e-02 2.49456404e-03\n",
            " 1.19882934e-02 3.51069925e-01 4.54953515e-02 1.17875455e-02\n",
            " 4.20110031e-02 4.47681531e-02 3.86793227e-03 1.13625238e-01\n",
            " 1.54220480e+00]\n",
            "[1.31040152e-01 1.34539783e+00 2.39744876e-02 9.10610781e-03\n",
            " 6.32779791e-05 5.00341797e-03 7.65353103e-03 4.70673398e-03\n",
            " 3.42835013e-04 1.18308921e-04 4.34068770e-04 2.69859463e-05\n",
            " 7.99043090e-05 4.57394363e-05 1.02631231e-04 2.61853245e-04\n",
            " 2.77587788e-05 7.63654979e-05 4.62469833e-05 7.28987669e-04\n",
            " 1.73450748e-03 4.58316885e-04 6.13546675e-04 1.69654661e-03\n",
            " 9.09120468e-03 2.30013129e+00 2.38204648e+00 3.95308933e-04\n",
            " 1.65861883e-03 4.24487640e-03 2.74637048e-03 1.00478872e-04\n",
            " 5.62311988e-03 7.65353103e-03 4.34068770e-04 6.32779791e-05\n",
            " 9.10610781e-03 2.06466126e+00 1.95366657e-03 1.56247434e-04\n",
            " 1.59095695e-03 1.98914106e-03 1.50315552e-04 4.44439417e-03\n",
            " 7.72497594e-01]\n",
            "[5.66580562e-02 2.52745564e+00 1.78139993e-01 7.07388930e-02\n",
            " 4.68877203e-02 1.05236929e+00 1.38886941e+00 1.03125406e+00\n",
            " 1.13835110e+00 1.07409740e+00 8.65324217e-01 2.27475201e-04\n",
            " 3.91921310e-04 4.72983705e-05 1.40137843e-03 7.53562375e-04\n",
            " 2.76363675e-04 4.10305921e-04 5.27678332e-05 6.82037503e-02\n",
            " 7.78172076e-02 6.33804575e-02 5.71029791e-02 2.19219334e-02\n",
            " 9.77164797e-02 2.64354298e-03 3.09631891e-03 1.07982105e+00\n",
            " 1.12923168e+00 9.59003514e-01 9.90592271e-01 2.99799404e-01\n",
            " 1.08495879e+00 1.38886941e+00 8.65324217e-01 4.68877203e-02\n",
            " 7.07388930e-02 7.17529984e-01 6.41541404e-03 2.81137009e-03\n",
            " 6.84720101e-03 6.17881557e-03 4.46890581e-04 1.29618305e-02\n",
            " 1.16531621e+00]\n",
            "[3.06713721e-02 1.34510309e+00 2.02850759e+01 2.35033162e+01\n",
            " 5.06835527e+02 0.00000000e+00 1.70947440e+02 1.15145020e+02\n",
            " 2.89961499e+00 0.00000000e+00 1.03006411e-02 4.38629787e-06\n",
            " 1.04003100e-04 0.00000000e+00 3.85629646e-04 1.79119751e-06\n",
            " 8.98467055e-06 1.05327777e-04 6.09456517e-10 1.34089969e-02\n",
            " 5.30443789e-05 4.67214535e-04 6.16273524e-03 0.00000000e+00\n",
            " 2.80760503e+01 6.21293514e-03 1.94410188e-02 0.00000000e+00\n",
            " 9.12133083e+01 2.36437253e+01 4.33520942e+01 3.66365574e+02\n",
            " 2.26573173e+01 1.70947440e+02 1.03006411e-02 5.06835527e+02\n",
            " 2.35033162e+01 2.07797855e+00 0.00000000e+00 0.00000000e+00\n",
            " 0.00000000e+00 0.00000000e+00 0.00000000e+00 0.00000000e+00\n",
            " 2.34451726e+00]\n",
            "[ 0.00000000e+00  0.00000000e+00  6.74482991e-02  0.00000000e+00\n",
            "  0.00000000e+00  0.00000000e+00  0.00000000e+00  0.00000000e+00\n",
            "  0.00000000e+00  0.00000000e+00  0.00000000e+00  3.49579658e+02\n",
            " -1.04199326e+02 -3.18114456e+02 -5.40672119e+02 -1.02235700e+03\n",
            "  3.49579028e+02 -1.04199437e+02 -3.18114361e+02  0.00000000e+00\n",
            "  0.00000000e+00  0.00000000e+00  0.00000000e+00  0.00000000e+00\n",
            "  0.00000000e+00  0.00000000e+00  0.00000000e+00  0.00000000e+00\n",
            "  0.00000000e+00  0.00000000e+00  0.00000000e+00  0.00000000e+00\n",
            "  0.00000000e+00  0.00000000e+00  0.00000000e+00  0.00000000e+00\n",
            "  0.00000000e+00 -7.72971227e-05  0.00000000e+00  0.00000000e+00\n",
            "  0.00000000e+00  0.00000000e+00  0.00000000e+00  0.00000000e+00\n",
            "  4.37598410e+00]\n",
            "[ 0.00000000e+00  0.00000000e+00  4.08062209e+00  0.00000000e+00\n",
            "  0.00000000e+00  0.00000000e+00  0.00000000e+00  0.00000000e+00\n",
            "  0.00000000e+00  0.00000000e+00  0.00000000e+00  5.50693553e+02\n",
            "  5.66825563e+02 -5.55771791e+02 -4.73249773e+02 -1.86979343e+01\n",
            "  5.50692560e+02  5.66826168e+02 -5.55771626e+02  0.00000000e+00\n",
            "  0.00000000e+00  0.00000000e+00  0.00000000e+00  0.00000000e+00\n",
            "  0.00000000e+00  0.00000000e+00  0.00000000e+00  0.00000000e+00\n",
            "  0.00000000e+00  0.00000000e+00  0.00000000e+00  0.00000000e+00\n",
            "  0.00000000e+00  0.00000000e+00  0.00000000e+00  0.00000000e+00\n",
            "  0.00000000e+00 -7.72971227e-05  0.00000000e+00  0.00000000e+00\n",
            "  0.00000000e+00  0.00000000e+00  5.75796985e+02  5.60287582e+02\n",
            "  4.37619415e+00]\n",
            "[2.68245572e-02 1.34510309e+00 3.14173718e+01 5.12169715e+01\n",
            " 7.22608267e-01 0.00000000e+00 1.88126794e-01 6.38744245e-01\n",
            " 2.95631138e+00 9.01168161e-01 9.14525781e+00 7.36030747e-04\n",
            " 2.06830057e-02 0.00000000e+00 6.31831527e-02 2.10148602e-04\n",
            " 1.30615838e-03 1.46365340e-02 8.09706515e-09 3.85178390e+00\n",
            " 7.72193989e-03 2.28099981e-01 3.77421211e+00 0.00000000e+00\n",
            " 5.10653371e+01 5.44818121e-05 2.36712507e-04 0.00000000e+00\n",
            " 2.90615027e+00 1.12333409e+01 3.86770553e+00 2.90146398e+00\n",
            " 1.07630487e+01 1.88126794e-01 9.14525781e+00 7.22608267e-01\n",
            " 5.12169715e+01 5.68665467e-01 5.22611749e+00 2.92015528e+00\n",
            " 5.83526211e+00 4.69815188e+00 5.50658629e-02 1.58013324e+00\n",
            " 1.71404602e+00]\n",
            "[2.60551942e-02 1.34510309e+00 7.67875943e+01 6.30497081e+01\n",
            " 6.91906691e-01 0.00000000e+00 6.42610094e-02 4.55091021e-01\n",
            " 2.95631138e+00 7.92852572e-01 9.19524558e+00 4.90121266e-04\n",
            " 1.18962234e-02 0.00000000e+00 7.39324157e-02 8.86894036e-05\n",
            " 6.67872764e-04 6.29866679e-03 4.65798909e-09 4.48811055e+00\n",
            " 7.05467417e-03 1.67161390e-01 2.19491614e+00 0.00000000e+00\n",
            " 6.28561028e+01 1.94105657e-04 4.33345151e-04 0.00000000e+00\n",
            " 2.90615027e+00 9.52089534e+00 4.67755055e+00 4.06919816e+00\n",
            " 9.12180571e+00 6.42610094e-02 9.19524558e+00 6.91906691e-01\n",
            " 6.30497081e+01 4.07354259e-01 1.96839942e+00 3.17017304e+00\n",
            " 3.48017436e+00 1.31490496e+00 3.04509101e-02 8.34364506e-01\n",
            " 1.90739425e+00]\n",
            "[4.28152889e-02 1.34529300e+00 4.45476926e-01 2.76391692e-01\n",
            " 9.37967034e-02 5.74937620e-03 1.64972904e+00 1.86244381e+00\n",
            " 2.69936432e+00 8.17145183e-03 3.07816958e+00 8.45265470e-03\n",
            " 1.54156692e-02 2.31793682e-06 5.20704769e-02 1.36145661e-02\n",
            " 1.06286888e-02 1.48036379e-02 2.03952771e-04 2.72470339e+00\n",
            " 1.83101352e+00 2.41734129e+00 2.43429347e+00 3.78807303e-01\n",
            " 2.95608052e-01 4.52936150e-05 4.71721587e-05 5.04066331e-03\n",
            " 2.67982712e+00 2.93423996e+00 3.08030643e+00 1.95821260e+00\n",
            " 2.91478211e+00 1.64972904e+00 3.07816958e+00 9.37967034e-02\n",
            " 2.76391692e-01 6.47015089e-01 9.63213848e-01 1.28257035e+00\n",
            " 1.39908489e+00 7.28218111e-01 3.44321866e-02 9.70387847e-01\n",
            " 8.63873156e-01]\n"
          ]
        }
      ]
    },
    {
      "cell_type": "markdown",
      "metadata": {
        "id": "CtSnc4ChJeUi"
      },
      "source": [
        "      - GAUSSIAN MIXTURE EVALUATION AND ACCURACY CALCULATION"
      ]
    },
    {
      "cell_type": "code",
      "source": [
        "# Evaluate the Gaussian Mixture model.\n",
        "# Evaluator\n",
        "evaluator = ClusteringEvaluator(predictionCol='prediction',\n",
        "                                featuresCol='scaledFeatures',\n",
        "                                metricName='silhouette',\n",
        "                                distanceMeasure='squaredEuclidean')\n",
        "\n",
        "model = gmm.fit(training_d5)\n",
        "predictionsGMM =model.transform(test_d5)\n",
        "scoreGMM=evaluator.evaluate(predictionsGMM)\n",
        "print(\"Gaussians shown as a DataFrame: \")\n",
        "model.gaussiansDF.show(truncate=True)\n",
        "print(\"Test Error = %g\" % (1.0 - scoreGMM))\n",
        "print (\"The score is:\", scoreGMM )"
      ],
      "metadata": {
        "colab": {
          "base_uri": "https://localhost:8080/"
        },
        "id": "VHcPgL4g24hs",
        "outputId": "d5a585db-9bc0-4f67-d7f2-c49dba0f3621"
      },
      "execution_count": null,
      "outputs": [
        {
          "output_type": "stream",
          "name": "stdout",
          "text": [
            "Gaussians shown as a DataFrame: \n",
            "+--------------------+--------------------+\n",
            "|                mean|                 cov|\n",
            "+--------------------+--------------------+\n",
            "|[0.07432123919301...|0.049304279529164...|\n",
            "|[0.51711938607525...|1.568208637897686...|\n",
            "+--------------------+--------------------+\n",
            "\n",
            "Test Error = 0.738691\n",
            "The score is: 0.2613086952272078\n"
          ]
        }
      ]
    },
    {
      "cell_type": "markdown",
      "metadata": {
        "id": "dsERZv2WIB1H"
      },
      "source": [
        "---\n",
        "# **Task 5 - Results Visualization or Printing (5 marks)**\n",
        "---"
      ]
    },
    {
      "cell_type": "code",
      "execution_count": null,
      "metadata": {
        "id": "j04CcL30ILx_"
      },
      "outputs": [],
      "source": [
        "##AZAHARA DORADO LAGUNA:"
      ]
    },
    {
      "cell_type": "markdown",
      "metadata": {
        "id": "zQ2tMImwK-Sw"
      },
      "source": [
        "- SUPERVISED LEARNING\n",
        "   "
      ]
    },
    {
      "cell_type": "markdown",
      "metadata": {
        "id": "RHWG6m4yLAAZ"
      },
      "source": [
        "      - LOGISTIC REGRESSION VISUALISATION\n",
        "\n"
      ]
    },
    {
      "cell_type": "code",
      "execution_count": null,
      "metadata": {
        "id": "Ab2coQsiLbWA",
        "colab": {
          "base_uri": "https://localhost:8080/",
          "height": 143
        },
        "outputId": "26567ec8-7d21-4326-c6bd-81e732e23989"
      },
      "outputs": [
        {
          "output_type": "execute_result",
          "data": {
            "text/plain": [
              "prediction     0.0     1.0\n",
              "LabelT                    \n",
              "0.0         200487      82\n",
              "1.0             84  113780"
            ],
            "text/html": [
              "\n",
              "  <div id=\"df-8ca077a1-d8be-469e-acae-36f0f6284d96\" class=\"colab-df-container\">\n",
              "    <div>\n",
              "<style scoped>\n",
              "    .dataframe tbody tr th:only-of-type {\n",
              "        vertical-align: middle;\n",
              "    }\n",
              "\n",
              "    .dataframe tbody tr th {\n",
              "        vertical-align: top;\n",
              "    }\n",
              "\n",
              "    .dataframe thead th {\n",
              "        text-align: right;\n",
              "    }\n",
              "</style>\n",
              "<table border=\"1\" class=\"dataframe\">\n",
              "  <thead>\n",
              "    <tr style=\"text-align: right;\">\n",
              "      <th>prediction</th>\n",
              "      <th>0.0</th>\n",
              "      <th>1.0</th>\n",
              "    </tr>\n",
              "    <tr>\n",
              "      <th>LabelT</th>\n",
              "      <th></th>\n",
              "      <th></th>\n",
              "    </tr>\n",
              "  </thead>\n",
              "  <tbody>\n",
              "    <tr>\n",
              "      <th>0.0</th>\n",
              "      <td>200487</td>\n",
              "      <td>82</td>\n",
              "    </tr>\n",
              "    <tr>\n",
              "      <th>1.0</th>\n",
              "      <td>84</td>\n",
              "      <td>113780</td>\n",
              "    </tr>\n",
              "  </tbody>\n",
              "</table>\n",
              "</div>\n",
              "    <div class=\"colab-df-buttons\">\n",
              "\n",
              "  <div class=\"colab-df-container\">\n",
              "    <button class=\"colab-df-convert\" onclick=\"convertToInteractive('df-8ca077a1-d8be-469e-acae-36f0f6284d96')\"\n",
              "            title=\"Convert this dataframe to an interactive table.\"\n",
              "            style=\"display:none;\">\n",
              "\n",
              "  <svg xmlns=\"http://www.w3.org/2000/svg\" height=\"24px\" viewBox=\"0 -960 960 960\">\n",
              "    <path d=\"M120-120v-720h720v720H120Zm60-500h600v-160H180v160Zm220 220h160v-160H400v160Zm0 220h160v-160H400v160ZM180-400h160v-160H180v160Zm440 0h160v-160H620v160ZM180-180h160v-160H180v160Zm440 0h160v-160H620v160Z\"/>\n",
              "  </svg>\n",
              "    </button>\n",
              "\n",
              "  <style>\n",
              "    .colab-df-container {\n",
              "      display:flex;\n",
              "      gap: 12px;\n",
              "    }\n",
              "\n",
              "    .colab-df-convert {\n",
              "      background-color: #E8F0FE;\n",
              "      border: none;\n",
              "      border-radius: 50%;\n",
              "      cursor: pointer;\n",
              "      display: none;\n",
              "      fill: #1967D2;\n",
              "      height: 32px;\n",
              "      padding: 0 0 0 0;\n",
              "      width: 32px;\n",
              "    }\n",
              "\n",
              "    .colab-df-convert:hover {\n",
              "      background-color: #E2EBFA;\n",
              "      box-shadow: 0px 1px 2px rgba(60, 64, 67, 0.3), 0px 1px 3px 1px rgba(60, 64, 67, 0.15);\n",
              "      fill: #174EA6;\n",
              "    }\n",
              "\n",
              "    .colab-df-buttons div {\n",
              "      margin-bottom: 4px;\n",
              "    }\n",
              "\n",
              "    [theme=dark] .colab-df-convert {\n",
              "      background-color: #3B4455;\n",
              "      fill: #D2E3FC;\n",
              "    }\n",
              "\n",
              "    [theme=dark] .colab-df-convert:hover {\n",
              "      background-color: #434B5C;\n",
              "      box-shadow: 0px 1px 3px 1px rgba(0, 0, 0, 0.15);\n",
              "      filter: drop-shadow(0px 1px 2px rgba(0, 0, 0, 0.3));\n",
              "      fill: #FFFFFF;\n",
              "    }\n",
              "  </style>\n",
              "\n",
              "    <script>\n",
              "      const buttonEl =\n",
              "        document.querySelector('#df-8ca077a1-d8be-469e-acae-36f0f6284d96 button.colab-df-convert');\n",
              "      buttonEl.style.display =\n",
              "        google.colab.kernel.accessAllowed ? 'block' : 'none';\n",
              "\n",
              "      async function convertToInteractive(key) {\n",
              "        const element = document.querySelector('#df-8ca077a1-d8be-469e-acae-36f0f6284d96');\n",
              "        const dataTable =\n",
              "          await google.colab.kernel.invokeFunction('convertToInteractive',\n",
              "                                                    [key], {});\n",
              "        if (!dataTable) return;\n",
              "\n",
              "        const docLinkHtml = 'Like what you see? Visit the ' +\n",
              "          '<a target=\"_blank\" href=https://colab.research.google.com/notebooks/data_table.ipynb>data table notebook</a>'\n",
              "          + ' to learn more about interactive tables.';\n",
              "        element.innerHTML = '';\n",
              "        dataTable['output_type'] = 'display_data';\n",
              "        await google.colab.output.renderOutput(dataTable, element);\n",
              "        const docLink = document.createElement('div');\n",
              "        docLink.innerHTML = docLinkHtml;\n",
              "        element.appendChild(docLink);\n",
              "      }\n",
              "    </script>\n",
              "  </div>\n",
              "\n",
              "\n",
              "<div id=\"df-5e315dad-aa57-405f-8c77-66be9c8aadd2\">\n",
              "  <button class=\"colab-df-quickchart\" onclick=\"quickchart('df-5e315dad-aa57-405f-8c77-66be9c8aadd2')\"\n",
              "            title=\"Suggest charts\"\n",
              "            style=\"display:none;\">\n",
              "\n",
              "<svg xmlns=\"http://www.w3.org/2000/svg\" height=\"24px\"viewBox=\"0 0 24 24\"\n",
              "     width=\"24px\">\n",
              "    <g>\n",
              "        <path d=\"M19 3H5c-1.1 0-2 .9-2 2v14c0 1.1.9 2 2 2h14c1.1 0 2-.9 2-2V5c0-1.1-.9-2-2-2zM9 17H7v-7h2v7zm4 0h-2V7h2v10zm4 0h-2v-4h2v4z\"/>\n",
              "    </g>\n",
              "</svg>\n",
              "  </button>\n",
              "\n",
              "<style>\n",
              "  .colab-df-quickchart {\n",
              "      --bg-color: #E8F0FE;\n",
              "      --fill-color: #1967D2;\n",
              "      --hover-bg-color: #E2EBFA;\n",
              "      --hover-fill-color: #174EA6;\n",
              "      --disabled-fill-color: #AAA;\n",
              "      --disabled-bg-color: #DDD;\n",
              "  }\n",
              "\n",
              "  [theme=dark] .colab-df-quickchart {\n",
              "      --bg-color: #3B4455;\n",
              "      --fill-color: #D2E3FC;\n",
              "      --hover-bg-color: #434B5C;\n",
              "      --hover-fill-color: #FFFFFF;\n",
              "      --disabled-bg-color: #3B4455;\n",
              "      --disabled-fill-color: #666;\n",
              "  }\n",
              "\n",
              "  .colab-df-quickchart {\n",
              "    background-color: var(--bg-color);\n",
              "    border: none;\n",
              "    border-radius: 50%;\n",
              "    cursor: pointer;\n",
              "    display: none;\n",
              "    fill: var(--fill-color);\n",
              "    height: 32px;\n",
              "    padding: 0;\n",
              "    width: 32px;\n",
              "  }\n",
              "\n",
              "  .colab-df-quickchart:hover {\n",
              "    background-color: var(--hover-bg-color);\n",
              "    box-shadow: 0 1px 2px rgba(60, 64, 67, 0.3), 0 1px 3px 1px rgba(60, 64, 67, 0.15);\n",
              "    fill: var(--button-hover-fill-color);\n",
              "  }\n",
              "\n",
              "  .colab-df-quickchart-complete:disabled,\n",
              "  .colab-df-quickchart-complete:disabled:hover {\n",
              "    background-color: var(--disabled-bg-color);\n",
              "    fill: var(--disabled-fill-color);\n",
              "    box-shadow: none;\n",
              "  }\n",
              "\n",
              "  .colab-df-spinner {\n",
              "    border: 2px solid var(--fill-color);\n",
              "    border-color: transparent;\n",
              "    border-bottom-color: var(--fill-color);\n",
              "    animation:\n",
              "      spin 1s steps(1) infinite;\n",
              "  }\n",
              "\n",
              "  @keyframes spin {\n",
              "    0% {\n",
              "      border-color: transparent;\n",
              "      border-bottom-color: var(--fill-color);\n",
              "      border-left-color: var(--fill-color);\n",
              "    }\n",
              "    20% {\n",
              "      border-color: transparent;\n",
              "      border-left-color: var(--fill-color);\n",
              "      border-top-color: var(--fill-color);\n",
              "    }\n",
              "    30% {\n",
              "      border-color: transparent;\n",
              "      border-left-color: var(--fill-color);\n",
              "      border-top-color: var(--fill-color);\n",
              "      border-right-color: var(--fill-color);\n",
              "    }\n",
              "    40% {\n",
              "      border-color: transparent;\n",
              "      border-right-color: var(--fill-color);\n",
              "      border-top-color: var(--fill-color);\n",
              "    }\n",
              "    60% {\n",
              "      border-color: transparent;\n",
              "      border-right-color: var(--fill-color);\n",
              "    }\n",
              "    80% {\n",
              "      border-color: transparent;\n",
              "      border-right-color: var(--fill-color);\n",
              "      border-bottom-color: var(--fill-color);\n",
              "    }\n",
              "    90% {\n",
              "      border-color: transparent;\n",
              "      border-bottom-color: var(--fill-color);\n",
              "    }\n",
              "  }\n",
              "</style>\n",
              "\n",
              "  <script>\n",
              "    async function quickchart(key) {\n",
              "      const quickchartButtonEl =\n",
              "        document.querySelector('#' + key + ' button');\n",
              "      quickchartButtonEl.disabled = true;  // To prevent multiple clicks.\n",
              "      quickchartButtonEl.classList.add('colab-df-spinner');\n",
              "      try {\n",
              "        const charts = await google.colab.kernel.invokeFunction(\n",
              "            'suggestCharts', [key], {});\n",
              "      } catch (error) {\n",
              "        console.error('Error during call to suggestCharts:', error);\n",
              "      }\n",
              "      quickchartButtonEl.classList.remove('colab-df-spinner');\n",
              "      quickchartButtonEl.classList.add('colab-df-quickchart-complete');\n",
              "    }\n",
              "    (() => {\n",
              "      let quickchartButtonEl =\n",
              "        document.querySelector('#df-5e315dad-aa57-405f-8c77-66be9c8aadd2 button');\n",
              "      quickchartButtonEl.style.display =\n",
              "        google.colab.kernel.accessAllowed ? 'block' : 'none';\n",
              "    })();\n",
              "  </script>\n",
              "</div>\n",
              "    </div>\n",
              "  </div>\n"
            ],
            "application/vnd.google.colaboratory.intrinsic+json": {
              "type": "dataframe",
              "summary": "{\n  \"name\": \"cmatrix_pandas_LG\",\n  \"rows\": 2,\n  \"fields\": [\n    {\n      \"column\": \"LabelT\",\n      \"properties\": {\n        \"dtype\": \"number\",\n        \"std\": 0.7071067811865476,\n        \"min\": 0.0,\n        \"max\": 1.0,\n        \"num_unique_values\": 2,\n        \"samples\": [\n          1.0,\n          0.0\n        ],\n        \"semantic_type\": \"\",\n        \"description\": \"\"\n      }\n    },\n    {\n      \"column\": 0.0,\n      \"properties\": {\n        \"dtype\": \"number\",\n        \"std\": 141706,\n        \"min\": 84,\n        \"max\": 200487,\n        \"num_unique_values\": 2,\n        \"samples\": [\n          84,\n          200487\n        ],\n        \"semantic_type\": \"\",\n        \"description\": \"\"\n      }\n    },\n    {\n      \"column\": 1.0,\n      \"properties\": {\n        \"dtype\": \"number\",\n        \"std\": 80396,\n        \"min\": 82,\n        \"max\": 113780,\n        \"num_unique_values\": 2,\n        \"samples\": [\n          113780,\n          82\n        ],\n        \"semantic_type\": \"\",\n        \"description\": \"\"\n      }\n    }\n  ]\n}"
            }
          },
          "metadata": {},
          "execution_count": 57
        }
      ],
      "source": [
        "cmatrix_pandas_LG = confusion_matrix.toPandas()\n",
        "cmatrix_pandas_LG.pivot(index = \"LabelT\", columns = \"prediction\", values = \"count\")"
      ]
    },
    {
      "cell_type": "markdown",
      "metadata": {
        "id": "fbqS0D8PLdnJ"
      },
      "source": [
        "Adding \"pandas\" into the code allows me to visualize the confusion matrix in different formats."
      ]
    },
    {
      "cell_type": "code",
      "execution_count": null,
      "metadata": {
        "id": "2SYOZ3jZLqFi",
        "colab": {
          "base_uri": "https://localhost:8080/"
        },
        "outputId": "f19327ff-c024-4e8d-e8f5-2fe732c8f249"
      },
      "outputs": [
        {
          "output_type": "stream",
          "name": "stdout",
          "text": [
            "accuracy: 0.9994720655910798\n",
            "precision: 0.9992798299696123\n",
            "recall: 0.9992622778051008\n",
            "f1-score: 0.9992710538102807\n"
          ]
        }
      ],
      "source": [
        "# Some addtional performance metrics.\n",
        "accuracy = (true_postives + true_negatives) / (true_postives + false_positives + false_negatives + true_negatives)\n",
        "precision = true_postives / (true_postives + false_positives)\n",
        "recall = true_postives / (true_postives + false_negatives)\n",
        "f1 = 2 * (precision * recall) / (precision + recall)\n",
        "\n",
        "print(\"accuracy:\", accuracy)\n",
        "print(\"precision:\", precision)\n",
        "print(\"recall:\", recall)\n",
        "print(\"f1-score:\",f1)"
      ]
    },
    {
      "cell_type": "markdown",
      "metadata": {
        "id": "27mQuBHiLwXA"
      },
      "source": [
        "These are some additional performance metrics:\n",
        "\n",
        "    -Accuracy: It  measures of how many times the model predicted correctly the label.\n",
        "    -Precision: It determines the quality of an acurate prediction.\n",
        "    -Recall: It calculates how many times the model calculate true positives (it correctly predict the label).\n",
        "    -F1-score: It indicates the truthforness of the model. It calculates the mean of the precision and the recall.\n",
        "    \n",
        "    "
      ]
    },
    {
      "cell_type": "code",
      "execution_count": null,
      "metadata": {
        "id": "7prtmPcaLeVu",
        "colab": {
          "base_uri": "https://localhost:8080/"
        },
        "outputId": "c6b487b8-db60-4012-c146-df5d19ef5668"
      },
      "outputs": [
        {
          "output_type": "stream",
          "name": "stdout",
          "text": [
            "y_true ----------------------->\n",
            "        labelT\n",
            "0          0.0\n",
            "1          0.0\n",
            "2          0.0\n",
            "3          0.0\n",
            "4          0.0\n",
            "...        ...\n",
            "314428     0.0\n",
            "314429     0.0\n",
            "314430     0.0\n",
            "314431     0.0\n",
            "314432     0.0\n",
            "\n",
            "[314433 rows x 1 columns]\n",
            "y_pred ----------------------->\n",
            "        prediction\n",
            "0              0.0\n",
            "1              0.0\n",
            "2              0.0\n",
            "3              0.0\n",
            "4              0.0\n",
            "...            ...\n",
            "314428         0.0\n",
            "314429         0.0\n",
            "314430         0.0\n",
            "314431         0.0\n",
            "314432         0.0\n",
            "\n",
            "[314433 rows x 1 columns]\n"
          ]
        }
      ],
      "source": [
        "y_true = results_log_reg.select(\"labelT\")\n",
        "y_true = y_true.toPandas()\n",
        "\n",
        "y_pred = results_log_reg.select(\"prediction\")\n",
        "y_pred = y_pred.toPandas()\n",
        "\n",
        "print(\"y_true ----------------------->\")\n",
        "print (y_true)\n",
        "print(\"y_pred ----------------------->\")\n",
        "print (y_pred)"
      ]
    },
    {
      "cell_type": "markdown",
      "metadata": {
        "id": "OKzUur9ALgmT"
      },
      "source": [
        "This is a different way to code to calculate the predictions of the model. Here I see what the label was and what the outcome of the prediction was."
      ]
    },
    {
      "cell_type": "code",
      "execution_count": null,
      "metadata": {
        "id": "h6GkPjcWLi6v",
        "colab": {
          "base_uri": "https://localhost:8080/"
        },
        "outputId": "c287c49b-270d-4e76-e15d-a38a50b6ca21"
      },
      "outputs": [
        {
          "output_type": "stream",
          "name": "stdout",
          "text": [
            "              precision    recall  f1-score   support\n",
            "\n",
            "         0.0       1.00      1.00      1.00    200569\n",
            "         1.0       1.00      1.00      1.00    113864\n",
            "\n",
            "    accuracy                           1.00    314433\n",
            "   macro avg       1.00      1.00      1.00    314433\n",
            "weighted avg       1.00      1.00      1.00    314433\n",
            "\n",
            "The accuracy of the logistic regression model is:  0.9994720655910798\n"
          ]
        }
      ],
      "source": [
        "# View classication report and accuracy store.\n",
        "print(classification_report(y_true.labelT, y_pred.prediction))\n",
        "print(\"The accuracy of the logistic regression model is: \", accuracy_score(y_true.labelT, y_pred.prediction))"
      ]
    },
    {
      "cell_type": "markdown",
      "metadata": {
        "id": "KDQaFQoQLmJx"
      },
      "source": [
        "\n",
        "\n",
        "With this code I see at the same time a report of the classification and the accuracy of the model implemented (in this case is \"logistic regression\"). In the report I calculate:\n",
        "\n",
        "    Precision: It determines the quality of an acurate prediction.\n",
        "    Recall: It calculates how many times the model calculate true positives (it correctly predict the label).\n",
        "    F1-score: It indicates the truthforness of the model. It calculates the mean of the precision and the recall.\n",
        "    Support: It indicates the number of instances in each class of the dataset.\n",
        "\n",
        "The accuracy measures of how many times the model predicted correctly the label.\n"
      ]
    },
    {
      "cell_type": "markdown",
      "metadata": {
        "id": "zau12qCHLEAG"
      },
      "source": [
        "      - DECISION TREE CLASSIFIER VISUALISATION\n"
      ]
    },
    {
      "cell_type": "code",
      "source": [
        "# Evaluate the Decision Tree Model.\n",
        "y_trueDTC = predictionsDTC.select(\"indexedLabel\")\n",
        "y_trueDTC = y_trueDTC.toPandas()\n",
        "\n",
        "y_predDTC = predictionsDTC.select(\"prediction\")\n",
        "y_predDTC = y_predDTC.toPandas()\n",
        "\n",
        "print(\"y_true ----------------------->\")\n",
        "print (y_true)\n",
        "print(\"y_pred ----------------------->\")\n",
        "print (y_pred)"
      ],
      "metadata": {
        "colab": {
          "base_uri": "https://localhost:8080/"
        },
        "id": "_3rD1NPnom7y",
        "outputId": "38367808-5ca7-4497-f866-24163d95b197"
      },
      "execution_count": null,
      "outputs": [
        {
          "output_type": "stream",
          "name": "stdout",
          "text": [
            "y_true ----------------------->\n",
            "        labelT\n",
            "0          0.0\n",
            "1          0.0\n",
            "2          0.0\n",
            "3          0.0\n",
            "4          0.0\n",
            "...        ...\n",
            "314428     0.0\n",
            "314429     0.0\n",
            "314430     0.0\n",
            "314431     0.0\n",
            "314432     0.0\n",
            "\n",
            "[314433 rows x 1 columns]\n",
            "y_pred ----------------------->\n",
            "        prediction\n",
            "0              0.0\n",
            "1              0.0\n",
            "2              0.0\n",
            "3              0.0\n",
            "4              0.0\n",
            "...            ...\n",
            "314428         0.0\n",
            "314429         0.0\n",
            "314430         0.0\n",
            "314431         0.0\n",
            "314432         0.0\n",
            "\n",
            "[314433 rows x 1 columns]\n"
          ]
        }
      ]
    },
    {
      "cell_type": "code",
      "source": [
        "# Creating the report for the Decision Tree Model.\n",
        "print(classification_report(y_trueDTC.indexedLabel, y_predDTC.prediction))\n",
        "print(\"The accuracy of the Decision Tree model is: \", accuracy_score(y_trueDTC.indexedLabel, y_predDTC.prediction))"
      ],
      "metadata": {
        "colab": {
          "base_uri": "https://localhost:8080/"
        },
        "id": "8WZ-Ut76Ba5j",
        "outputId": "36c6c859-741d-4871-a6e2-ab81f3fd6019"
      },
      "execution_count": null,
      "outputs": [
        {
          "output_type": "stream",
          "name": "stdout",
          "text": [
            "              precision    recall  f1-score   support\n",
            "\n",
            "         0.0       1.00      1.00      1.00    200569\n",
            "         1.0       1.00      1.00      1.00    113864\n",
            "\n",
            "    accuracy                           1.00    314433\n",
            "   macro avg       1.00      1.00      1.00    314433\n",
            "weighted avg       1.00      1.00      1.00    314433\n",
            "\n",
            "The accuracy of the Decision Tree model is:  0.9999968196722354\n"
          ]
        }
      ]
    },
    {
      "cell_type": "markdown",
      "metadata": {
        "id": "5Ww9pa55LCaP"
      },
      "source": [
        "      - RANDOM FOREST MODEL VISUALISATION\n",
        "      "
      ]
    },
    {
      "cell_type": "code",
      "source": [
        "# Evaluate the Random Forest Model.\n",
        "y_trueRFC = predictionsRFC.select(\"indexedLabel\")\n",
        "y_trueRFC = y_trueRFC.toPandas()\n",
        "\n",
        "y_predRFC = predictionsRFC.select(\"prediction\")\n",
        "y_predRFC = y_predRFC.toPandas()\n",
        "\n",
        "print(\"y_true ----------------------->\")\n",
        "print (y_true)\n",
        "print(\"y_pred ----------------------->\")\n",
        "print (y_pred)"
      ],
      "metadata": {
        "colab": {
          "base_uri": "https://localhost:8080/"
        },
        "id": "x0wrEjB2pMU2",
        "outputId": "bdea9206-bac4-4a21-cd8f-81f0ce9a3218"
      },
      "execution_count": null,
      "outputs": [
        {
          "output_type": "stream",
          "name": "stdout",
          "text": [
            "y_true ----------------------->\n",
            "        labelT\n",
            "0          0.0\n",
            "1          0.0\n",
            "2          0.0\n",
            "3          0.0\n",
            "4          0.0\n",
            "...        ...\n",
            "314428     0.0\n",
            "314429     0.0\n",
            "314430     0.0\n",
            "314431     0.0\n",
            "314432     0.0\n",
            "\n",
            "[314433 rows x 1 columns]\n",
            "y_pred ----------------------->\n",
            "        prediction\n",
            "0              0.0\n",
            "1              0.0\n",
            "2              0.0\n",
            "3              0.0\n",
            "4              0.0\n",
            "...            ...\n",
            "314428         0.0\n",
            "314429         0.0\n",
            "314430         0.0\n",
            "314431         0.0\n",
            "314432         0.0\n",
            "\n",
            "[314433 rows x 1 columns]\n"
          ]
        }
      ]
    },
    {
      "cell_type": "code",
      "source": [
        "# Creating the report for the Random Forest Model.\n",
        "print(classification_report(y_trueRFC.indexedLabel, y_predRFC.prediction))\n",
        "print(\"The accuracy of the Random Forest Classification model is: \", accuracy_score(y_trueRFC.indexedLabel, y_predRFC.prediction))"
      ],
      "metadata": {
        "colab": {
          "base_uri": "https://localhost:8080/"
        },
        "id": "ybxXnqU1pRop",
        "outputId": "4945453c-e6ba-418f-ac66-2df999f4abfd"
      },
      "execution_count": null,
      "outputs": [
        {
          "output_type": "stream",
          "name": "stdout",
          "text": [
            "              precision    recall  f1-score   support\n",
            "\n",
            "         0.0       1.00      1.00      1.00    200569\n",
            "         1.0       1.00      1.00      1.00    113864\n",
            "\n",
            "    accuracy                           1.00    314433\n",
            "   macro avg       1.00      1.00      1.00    314433\n",
            "weighted avg       1.00      1.00      1.00    314433\n",
            "\n",
            "The accuracy of the Random Forest Classification model is:  0.9999904590167062\n"
          ]
        }
      ]
    },
    {
      "cell_type": "markdown",
      "source": [
        "*SUPERVISED LEARNING MODELS COMPARISON VISUALISATION*"
      ],
      "metadata": {
        "id": "ouojHytm76DZ"
      }
    },
    {
      "cell_type": "code",
      "source": [
        "import matplotlib.pyplot as plt\n",
        "# Logistic Regression Model (without Random Search).\n",
        "\n",
        "fig, ax = plt.subplots()\n",
        "\n",
        "#The accuracy Label '0' of the Logistic Regression Model is:  0.9995712519443226\n",
        "#The f1-score  Label '0' of the Logistic Regression Model is:  0.9995006814307221\n",
        "#The precision  Label '0' of the Logistic Regression Model is:  .9995712519443226\n",
        "#The recall  Label '0' of the Logistic Regression Model is:  0.9996460071097727\n",
        "#The hamming  Label '0' of the Logistic Regression Model is:  0.0004993114590389685\n",
        "\n",
        "#Define\n",
        "results = ['accuracy', 'F1-score', 'Precision', 'Recall', 'Hamming']\n",
        "counts = [0.9995712519443226, 0.9995006814307221, .9995712519443226, 0.9996460071097727, 0.0004993114590389685]\n",
        "bar_labels = ['Accuracy', 'F1-score', 'Precision', 'Recall', 'Hamming']\n",
        "bar_colors = ['tab:pink', 'tab:blue', 'tab:red', 'tab:orange', 'tab:green']\n",
        "\n",
        "ax.bar(results, counts, label=bar_labels, color=bar_colors)\n",
        "\n",
        "ax.set_ylabel(\"Scores for Label 0\")\n",
        "ax.set_title(\"Logistic Regression Model without Random Search\")\n",
        "ax.legend(title=\"Predictions\")\n",
        "\n",
        "plt.show()\n",
        "\n"
      ],
      "metadata": {
        "colab": {
          "base_uri": "https://localhost:8080/",
          "height": 452
        },
        "id": "y22eWVYiNMrg",
        "outputId": "db56a70b-667c-4e1f-ead6-fd860259a430"
      },
      "execution_count": null,
      "outputs": [
        {
          "output_type": "display_data",
          "data": {
            "text/plain": [
              "<Figure size 640x480 with 1 Axes>"
            ],
            "image/png": "[encoded data removed]"
          },
          "metadata": {}
        }
      ]
    },
    {
      "cell_type": "code",
      "source": [
        "# Logistic Regression Model (with Random Search).\n",
        "\n",
        "import matplotlib.pyplot as plt\n",
        "\n",
        "fig, ax = plt.subplots()\n",
        "\n",
        "#The accuracy Label '0' of the Logistic Regression Model is:  0.999990026877565\n",
        "#The f1-score  Label '0' of the Logistic Regression Model is:  0.9998918719337373\n",
        "#The precision  Label '0' of the Logistic Regression Model is:  0.999990026877565\n",
        "#The recall  Label '0' of the Logistic Regression Model is:  0.99984045390863\n",
        "#The hamming  Label '0' of the Logistic Regression Model is:  0.0001081311439957002\n",
        "\n",
        "#Define\n",
        "results = ['accuracy', 'F1-score', 'Precision', 'Recall', 'Hamming']\n",
        "counts = [0.999990026877565, 0.9998918719337373, 0.999990026877565, 0.99984045390863, 0.0001081311439957002]\n",
        "bar_labels = ['Accuracy', 'F1-score', 'Precision', 'Recall', 'Hamming']\n",
        "bar_colors = ['tab:pink', 'tab:blue', 'tab:red', 'tab:orange', 'tab:green']\n",
        "\n",
        "ax.bar(results, counts, label=bar_labels, color=bar_colors)\n",
        "\n",
        "ax.set_ylabel(\"Scores for Label 0\")\n",
        "ax.set_title(\"Logistic Regression Model with Random Search\")\n",
        "ax.legend(title=\"Predictions\")\n",
        "\n",
        "plt.show()"
      ],
      "metadata": {
        "colab": {
          "base_uri": "https://localhost:8080/",
          "height": 452
        },
        "id": "FiZxWMFU3kzw",
        "outputId": "675804ab-0fe0-42da-ef9b-4b6b0d9d2b6d"
      },
      "execution_count": null,
      "outputs": [
        {
          "output_type": "display_data",
          "data": {
            "text/plain": [
              "<Figure size 640x480 with 1 Axes>"
            ],
            "image/png": "[encoded data removed]"
          },
          "metadata": {}
        }
      ]
    },
    {
      "cell_type": "code",
      "source": [
        "# Random Forest Model.\n",
        "\n",
        "fig, ax = plt.subplots()\n",
        "\n",
        "#The accuracy of the Random Forest Classification  Model is:  0.9999904590167062\n",
        "#The f1-score of the Random Forest Classification  Model is:  0.9999904590076503\n",
        "#The precision of the Random Forest Classification  Model is:  0.9999900284190059\n",
        "#The recall of the Random Forest Classification  Model is:  0.9999950141846446\n",
        "#The hamming of the Random Forest Classification  Model is:  9.540983293738252e-06\n",
        "\n",
        "\n",
        "RFC_results = {\"Accuracy\": 0.9999904590167062, \"F1-score\": 0.9999904590076503,\n",
        "              \"Precision\": 0.9999900284190059 , \"Recall\": 0.9999950141846446,\n",
        "              \"Hamming\": 9.540983293738252e-06\n",
        "}\n",
        "\n",
        "#Define\n",
        "results = ['accuracy', 'F1-score', 'Precision', 'Recall', 'Hamming']\n",
        "counts = [0.9999904590167062, 0.9999904590076503, 0.9999900284190059, 0.9999950141846446, 9.540983293738252e-06]\n",
        "bar_labels = ['Accuracy', 'F1-score', 'Precision', 'Recall', 'Hamming']\n",
        "bar_colors = ['tab:pink', 'tab:blue', 'tab:red', 'tab:orange', 'tab:green']\n",
        "\n",
        "ax.bar(results, counts, label=bar_labels, color=bar_colors)\n",
        "\n",
        "ax.set_ylabel(\"Scores for Label 0\")\n",
        "ax.set_title(\"Random Forest Model\")\n",
        "ax.legend(title=\"Predictions\")\n",
        "\n",
        "plt.show()"
      ],
      "metadata": {
        "colab": {
          "base_uri": "https://localhost:8080/",
          "height": 452
        },
        "id": "g-EOkyP_Rx_G",
        "outputId": "65794a68-8a4d-4de4-8761-1b83bdf4f5c7"
      },
      "execution_count": null,
      "outputs": [
        {
          "output_type": "display_data",
          "data": {
            "text/plain": [
              "<Figure size 640x480 with 1 Axes>"
            ],
            "image/png": "[encoded data removed]"
          },
          "metadata": {}
        }
      ]
    },
    {
      "cell_type": "code",
      "source": [
        "# Decision Tree CLassifier Model.\n",
        "\n",
        "fig, ax = plt.subplots()\n",
        "\n",
        "#The accuracy  Label '1' of the Decision Tree Model is:  0.9999968196722354\n",
        "#The f1-score  Label '1' of the Decision Tree Model is:  0.9999968196752539\n",
        "#The precision Label '1' of the Decision Tree Model is:  0.9999912176700478\n",
        "#The recall Label '1' of the Decision Tree Model is:  1.0\n",
        "#The hamming Label '1' of the Decision Tree Model is:  3.1803277645794177e-06\n",
        "\n",
        "\n",
        "DT_results = {\"Accuracy\": 0.9999968196722354 , \"F1-score\": 0.9999968196752539, \"Precision\": 0.9999912176700478 ,\n",
        "              \"Recall\": 1.0, \"Hamming\": 3.1803277645794177e-06 }\n",
        "\n",
        "#Define\n",
        "results = ['accuracy', 'F1-score', 'Precision', 'Recall', 'Hamming']\n",
        "counts = [0.9999968196722354, 0.9999968196752539, 0.9999912176700478, 1.0, 3.1803277645794177e-06]\n",
        "bar_labels = ['Accuracy', 'F1-score', 'Precision', 'Recall', 'Hamming']\n",
        "bar_colors = ['tab:pink', 'tab:blue', 'tab:red', 'tab:orange', 'tab:green']\n",
        "\n",
        "ax.bar(results, counts, label=bar_labels, color=bar_colors)\n",
        "\n",
        "ax.set_ylabel(\"Scores for Label 0\")\n",
        "ax.set_title(\"Decision Tree CLassifier Model\")\n",
        "ax.legend(title=\"Predictions\")\n",
        "\n",
        "plt.show()"
      ],
      "metadata": {
        "colab": {
          "base_uri": "https://localhost:8080/",
          "height": 452
        },
        "id": "Bm5BuoLRSbBE",
        "outputId": "04082cb6-c704-4835-9983-c556bbb2d881"
      },
      "execution_count": null,
      "outputs": [
        {
          "output_type": "display_data",
          "data": {
            "text/plain": [
              "<Figure size 640x480 with 1 Axes>"
            ],
            "image/png": "[encoded data removed]"
          },
          "metadata": {}
        }
      ]
    },
    {
      "cell_type": "markdown",
      "metadata": {
        "id": "ZVkUjJ_zLJk5"
      },
      "source": [
        " - UNSUPERVISED LEARNING"
      ]
    },
    {
      "cell_type": "markdown",
      "metadata": {
        "id": "h54yf7vvLLHl"
      },
      "source": [
        "      - K-MEANS VISUALISATION"
      ]
    },
    {
      "cell_type": "code",
      "source": [
        "# Calculations for label \"0\"(with k=2).\n",
        "ScoreKM = evaluator.evaluate(predictionsKM)\n",
        "ScoreKM"
      ],
      "metadata": {
        "colab": {
          "base_uri": "https://localhost:8080/"
        },
        "id": "abvD_UEQrK6b",
        "outputId": "1be39f7b-be7b-46d8-bfba-833b436abfe8"
      },
      "execution_count": null,
      "outputs": [
        {
          "output_type": "execute_result",
          "data": {
            "text/plain": [
              "0.22525865486424074"
            ]
          },
          "metadata": {},
          "execution_count": 95
        }
      ]
    },
    {
      "cell_type": "code",
      "source": [
        "# Calculations for label \"0\" (with k =(2,10)).\n",
        "Score_KM = evaluator.evaluate(predictions_KM)\n",
        "Score_KM"
      ],
      "metadata": {
        "colab": {
          "base_uri": "https://localhost:8080/"
        },
        "id": "yZMJYojITW0s",
        "outputId": "a9fc19d0-1e62-451f-a88e-b9c30dbb0c62"
      },
      "execution_count": null,
      "outputs": [
        {
          "output_type": "execute_result",
          "data": {
            "text/plain": [
              "0.31762473224305615"
            ]
          },
          "metadata": {},
          "execution_count": 123
        }
      ]
    },
    {
      "cell_type": "code",
      "source": [
        "# Plotting K-Means Model results: Silhouette analysis.\n",
        "\n",
        "plt.scatter(range(2,10),silhouette_score)\n",
        "plt.xlabel(\"Centers\")\n",
        "plt.ylabel(\"Silhouette\")\n",
        "plt.title(\"Silhouette K-Means Model\")\n",
        "plt.show()"
      ],
      "metadata": {
        "colab": {
          "base_uri": "https://localhost:8080/",
          "height": 472
        },
        "id": "AtDiP4ausipo",
        "outputId": "f6bfeb22-8dd9-402c-886e-a9079a3d8e81"
      },
      "execution_count": null,
      "outputs": [
        {
          "output_type": "display_data",
          "data": {
            "text/plain": [
              "<Figure size 640x480 with 1 Axes>"
            ],
            "image/png": "[encoded data removed]"
          },
          "metadata": {}
        }
      ]
    },
    {
      "cell_type": "markdown",
      "metadata": {
        "id": "rAePH7YiLN_W"
      },
      "source": [
        "      - GAUSSIAN MIXTURE VISUALISATION"
      ]
    },
    {
      "cell_type": "code",
      "source": [
        "# Calculations accuracy Gaussian Mixture model.\n",
        "scoreGMM = evaluator.evaluate(predictionsGMM)\n",
        "print(\"The score of the Gaussian Mixture model is : \" , scoreGMM)"
      ],
      "metadata": {
        "colab": {
          "base_uri": "https://localhost:8080/"
        },
        "id": "AJsWGpXd0m-e",
        "outputId": "a75064f1-39ab-4069-e7ee-1bb8e45aed76"
      },
      "execution_count": null,
      "outputs": [
        {
          "output_type": "stream",
          "name": "stdout",
          "text": [
            "The score of the Gaussian Mixture model is :  0.2613086952272078\n"
          ]
        }
      ]
    },
    {
      "cell_type": "markdown",
      "metadata": {
        "id": "rIGDXqDdIQ4U"
      },
      "source": [
        "---\n",
        "# **Task 6 - LSEP Considerations (5 marks)**\n",
        "---"
      ]
    },
    {
      "cell_type": "markdown",
      "metadata": {
        "id": "vuCxxQnYI_FP"
      },
      "source": [
        "#  AZAHARA DORADO LAGUNA: **Social, Security, Privacy**\n",
        "\n",
        "It is becoming increasingly common to receive a notification of the type \"your password might be compromised because it might have appeared in a data leak\". Why is this important and requires to take action? If, for instance, somebody gets a person's email password and accesses their email, a vast amount of their information and other people's information might be compromised because the content of emails is not encrypted. They might have links to access others' accounts on some emails, personal data, financial data, or personal photos. Moreover, all of that means money for those who try to have access to their bank accounts or try to trick them into lending them money, pretending they are a family member. Cybersecurity is critical, and training a model to detect possible \"attack traffic\" and, ideally, stop it will mean more safety in online transactions and browsing."
      ]
    },
    {
      "cell_type": "markdown",
      "metadata": {
        "id": "mIM6uLApSxi2"
      },
      "source": [
        "---\n",
        "\n",
        "# **Task 7 - Convert ipynb to HTML for Turnitin submission [5 marks]**\n",
        "\n",
        "---\n",
        "\n"
      ]
    },
    {
      "cell_type": "code",
      "source": [
        "# install nbconvert (if facing the conversion error)\n",
        "!pip3 install nbconvert"
      ],
      "metadata": {
        "id": "SDIn4WeaWQIX"
      },
      "execution_count": null,
      "outputs": []
    },
    {
      "cell_type": "code",
      "source": [
        "# convert ipynb to html and submit this HTML file\n",
        "!jupyter nbconvert --to html  \"/content/Thursday_11pm_Group_5_CRWK_CN7030(2).ipynb\""
      ],
      "metadata": {
        "colab": {
          "base_uri": "https://localhost:8080/"
        },
        "id": "rFdrRFr5WT2q",
        "outputId": "76ce5f6a-6b7a-4bc6-ac32-5055f3f332e0"
      },
      "execution_count": null,
      "outputs": [
        {
          "output_type": "stream",
          "name": "stdout",
          "text": [
            "[NbConvertApp] Converting notebook /content/Thursday_11pm_Group_5_CRWK_CN7030(2).ipynb to html\n",
            "[NbConvertApp] Writing 1230449 bytes to /content/Thursday_11pm_Group_5_CRWK_CN7030(2).html\n"
          ]
        }
      ]
    }
  ],
  "metadata": {
    "colab": {
      "provenance": []
    },
    "kernelspec": {
      "display_name": "Python 3",
      "name": "python3"
    }
  },
  "nbformat": 4,
  "nbformat_minor": 0
}